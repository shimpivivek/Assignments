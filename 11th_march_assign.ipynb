{
 "cells": [
  {
   "cell_type": "markdown",
   "id": "7433d9eb-f0e0-44fe-9577-421b58189d45",
   "metadata": {},
   "source": [
    "## Q1: What is the difference between a t-test and a z-test? Provide an example scenario where you would use each type of test.\n"
   ]
  },
  {
   "cell_type": "markdown",
   "id": "03af3c3f-20f6-4239-9ecc-425ae957db84",
   "metadata": {},
   "source": [
    "### T-Test:\n",
    "A t-test is used when the sample size is small (typically less than 30) and the population standard deviation is unknown. The t-test accounts for the additional uncertainty introduced by estimating the population standard deviation from the sample.\n",
    "\n",
    "Example :-\n",
    "An electronics company mobiles with a mean weight of 1 pounds and a\n",
    "standard deviation of 0.1 pounds. A random sample of 25 mobiles is taken, and the sample mean weight\n",
    "is found to be 0.9 pounds. Test the hypothesis that the true mean weight of the products is less than 1\n",
    "pounds with a significance level of 0.01.\n",
    "\n",
    "### Z-Test:\n",
    "A z-test is used when the sample size is large (typically greater than 30) and the population standard deviation is known or when the sample size is large enough for the Central Limit Theorem to apply, allowing the sample mean to be approximately normally distributed.\n",
    "\n",
    "Example:-\n",
    "average weight of student is found to be 153cm in a school. with satandard deviation of 10 cm. we take sample of 100 students and found average to be 156 with standard deviation of 9 cm. Is the average height assumption for whole school is true ?"
   ]
  },
  {
   "cell_type": "markdown",
   "id": "1c17b7f4-043f-4431-b4bf-e67331cb37ba",
   "metadata": {},
   "source": [
    "## Q2: Differentiate between one-tailed and two-tailed tests.\n"
   ]
  },
  {
   "cell_type": "markdown",
   "id": "19cbee91-2d0f-45ec-a766-72ab5f34b2eb",
   "metadata": {},
   "source": [
    "### One-Tailed Test:\n",
    "\n",
    "A one-tailed test, is a type of hypothesis test that focuses on only one direction of the distribution of data. In other words, it tests whether a sample statistic is significantly greater than or significantly less than a hypothesized population parameter. A one-tailed test is used when you have a specific expectation about the direction of the effect you're investigating.\n",
    "\n",
    "Example :- In above example if we specifically ask the mean height to be above or below the average height, it would be an example of one-tailed test.\n",
    "\n",
    "### Two-Tailed Test:\n",
    "\n",
    "A two-tailed test, also known as a non-directional test, is a type of hypothesis test that considers both tails of the distribution of data. It tests whether a sample statistic is significantly different from a hypothesized population parameter, without specifying whether it's greater or less than that parameter. A two-tailed test is used when you want to determine if there is any significant difference between the sample and population parameters, regardless of the direction.\n",
    "\n",
    "Example :- in the above example we have asked the population mean of students to be true or false. since it can be above or below, hence it is a two-tailed test\n"
   ]
  },
  {
   "cell_type": "markdown",
   "id": "599a0259-df01-4ddb-a41f-445c6fd3ab77",
   "metadata": {},
   "source": [
    "## 3: Explain the concept of Type 1 and Type 2 errors in hypothesis testing. Provide an example scenario for each type of error.\n"
   ]
  },
  {
   "cell_type": "markdown",
   "id": "c438815d-8389-4adf-b34c-9d7db390f67b",
   "metadata": {},
   "source": [
    "### Type 1 error :- When we reject the Null hypothesis, but in reality it is true.\n",
    "example :- If P value is less than the critical value we reject the hypothesis. but this was due to wrong data input. In reality the P value was greater than the critical value\n",
    "### Type 2 erroe :- when we accept the null hypothesis, but in reality it is false.\n",
    "example :- We accept the null hypothesis, due to wrong calcualtion of decision boundry."
   ]
  },
  {
   "cell_type": "markdown",
   "id": "6c73ef4f-0588-459c-be80-7c905e045bad",
   "metadata": {},
   "source": [
    "## Q4: Explain Bayes's theorem with an example.\n"
   ]
  },
  {
   "cell_type": "markdown",
   "id": "0e2b72ab-7821-446d-9b26-7aa3fe60e0a2",
   "metadata": {},
   "source": [
    "Bayes's Theorem is a fundamental concept in probability theory and statistics that describes how to update the probability of a hypothesis based on new evidence or information. It provides a way to combine prior knowledge (prior probability) with new data to calculate a revised probability (posterior probability).\n",
    "\n",
    "example \n"
   ]
  },
  {
   "cell_type": "markdown",
   "id": "2bef8e66-f003-4bc8-aaeb-bcc7482d14a8",
   "metadata": {},
   "source": [
    "## Q5: What is a confidence interval? How to calculate the confidence interval, explain with an example.\n"
   ]
  },
  {
   "cell_type": "markdown",
   "id": "eeacfde2-1cf3-43b9-8d04-136dc57d80be",
   "metadata": {},
   "source": [
    "A confidence interval is a range of values that likely contains the true population parameter, such as a population mean or proportion, based on a sample from that population. It provides a measure of the uncertainty associated with estimating a parameter from sample data.\n",
    "#This can be calulculated by,\n",
    "\n",
    "Calculate the margin of error\n",
    "critical_value = t.ppf(1 -significance_level / 2, df=sample_size - 1) # Dividing by 2 since it is a two tailed test\n",
    "margin_of_error = critical_value * (sample_std_dev / np.sqrt(sample_size))\n",
    "\n",
    "Calculate the confidence interval\n",
    "CI1 = sample_mean - margin_of_error\n",
    "CT2 = sample_mean + margin_of_error\n",
    "\n",
    "CT1 and CT2 gives the confidence interval for the population paratmeter."
   ]
  },
  {
   "cell_type": "markdown",
   "id": "d9654b71-bae8-4d76-928a-6b116727167e",
   "metadata": {},
   "source": [
    "### Example :- \n",
    "Suppose you want to estimate the average height of students in a college. You collect a random sample of 50 students and find that the sample mean height is 165 cm, and the sample standard deviation is 8 cm. You choose a 95% confidence level."
   ]
  },
  {
   "cell_type": "code",
   "execution_count": 22,
   "id": "8b248840-33ca-4232-84a1-a125fc98dca2",
   "metadata": {},
   "outputs": [
    {
     "name": "stdout",
     "output_type": "stream",
     "text": [
      "The Population parameter lies between 162.726425159021 to 167.273574840979\n"
     ]
    }
   ],
   "source": [
    "import numpy as np\n",
    "import scipy.stats as stats\n",
    "sample_mean = 165\n",
    "sample_std_dev = 8\n",
    "sample_size = 50\n",
    "significance_level=0.05\n",
    "\n",
    "# Calculate the margin of error\n",
    "critical_value = stats.t.ppf(1 -significance_level / 2, df=sample_size - 1) # Dividing by 2 since it is a two tailed test\n",
    "margin_of_error = critical_value * (sample_std_dev / np.sqrt(sample_size))\n",
    "\n",
    "# Calculate the confidence interval\n",
    "CI_lower = sample_mean - margin_of_error\n",
    "CI_upper = sample_mean + margin_of_error\n",
    "\n",
    "# Print the confidence interval\n",
    "print(f\"The Population parameter lies between {CI_lower} to {CI_upper}\")\n"
   ]
  },
  {
   "cell_type": "markdown",
   "id": "7aef7230-1a40-4361-9288-73e458f9c0d4",
   "metadata": {},
   "source": [
    "## Q6. Use Bayes' Theorem to calculate the probability of an event occurring given prior knowledge of the event's probability and new evidence. Provide a sample problem and solution.\n"
   ]
  },
  {
   "cell_type": "code",
   "execution_count": null,
   "id": "6443c8b6-a0e1-4690-b90e-48f03c9dd585",
   "metadata": {},
   "outputs": [],
   "source": []
  },
  {
   "cell_type": "markdown",
   "id": "75ae40c1-4250-4634-9521-70872790069a",
   "metadata": {},
   "source": [
    "## Q7. Calculate the 95% confidence interval for a sample of data with a mean of 50 and a standard deviation of 5. Interpret the results.\n"
   ]
  },
  {
   "cell_type": "code",
   "execution_count": 40,
   "id": "882c1f37-7d3d-4fd2-b27c-8b12aa963be2",
   "metadata": {},
   "outputs": [
    {
     "name": "stdout",
     "output_type": "stream",
     "text": [
      "The Population parameter lies between 49.00789152424566 to 50.99210847575434\n"
     ]
    }
   ],
   "source": [
    "sample_mean=50\n",
    "sample_std_dev = 5\n",
    "n=100 # assuming sample sizw of 30\n",
    "significance_level=0.05\n",
    "dof=n-1\n",
    "# calvulate critical_value\n",
    "critical_value=stats.t.ppf(1-significance_level/2,dof)\n",
    "critical_value\n",
    "#Calvulate margin of error\n",
    "moe=critical_value*(sample_std_dev/np.sqrt(n))\n",
    "# Calculate Confidence interval\n",
    "CI1= sample_mean-moe\n",
    "CI2= sample_mean+moe\n",
    "\n",
    "print(f\"The Population parameter lies between {CI1} to {CI2}\")"
   ]
  },
  {
   "cell_type": "markdown",
   "id": "bbe67287-bda0-4a93-9bbe-fdca415f0d55",
   "metadata": {},
   "source": [
    "## Q8. What is the margin of error in a confidence interval? How does sample size affect the margin of error? Provide an example of a scenario where a larger sample size would result in a smaller margin of error.\n"
   ]
  },
  {
   "cell_type": "markdown",
   "id": "01b57ee8-3335-41f7-a91a-9aa785c282f4",
   "metadata": {},
   "source": [
    "The margin of error in a confidence interval is a measure of the uncertainty or range around the point estimate within which the true population parameter is likely to fall. It's calculated by multiplying the critical value with the standard error of the sample statistic.\n",
    "\n",
    "As the sample size increases, the margin of error tends to decrease. This is because larger samples provide more information about the population, leading to a more accurate estimate of the population parameter. \n",
    "\n",
    "If you survey only 100 voters, the margin of error might be around 5%, meaning the confidence interval would be ±5%. \n",
    "However, if you survey 1000 voters, the margin of error could decrease to around 1.6%, resulting in a confidence interval of ±1.6%. The larger sample size provides more accurate information about voter preferences, reducing the uncertainty in the estimate."
   ]
  },
  {
   "cell_type": "markdown",
   "id": "e3b82084-740a-473e-adb9-f130dd3a04af",
   "metadata": {},
   "source": [
    "## Q9. Calculate the z-score for a data point with a value of 75, a population mean of 70, and a population standard deviation of 5. Interpret the results.\n"
   ]
  },
  {
   "cell_type": "code",
   "execution_count": 5,
   "id": "cd10e943-ef24-451f-abec-abb4b7c0e7ed",
   "metadata": {},
   "outputs": [
    {
     "data": {
      "text/plain": [
       "1.0"
      ]
     },
     "execution_count": 5,
     "metadata": {},
     "output_type": "execute_result"
    }
   ],
   "source": [
    "xi=75\n",
    "pop_mean=70\n",
    "pop_std_dec=5\n",
    "\n",
    "#z_score=(datapoint-mean)/standard deviation\n",
    "z_score=(xi-pop_mean)/pop_std_dec\n",
    "z_score"
   ]
  },
  {
   "cell_type": "markdown",
   "id": "94515235-daba-499b-8867-e87988faf14e",
   "metadata": {},
   "source": [
    "## Q10. In a study of the effectiveness of a new weight loss drug, a sample of 50 participants lost an average of 6 pounds with a standard deviation of 2.5 pounds. Conduct a hypothesis test to determine if the drug is significantly effective at a 95% confidence level using a t-test.\n"
   ]
  },
  {
   "cell_type": "code",
   "execution_count": 17,
   "id": "a5ca0580-2ec2-4aca-929b-7852e60a7114",
   "metadata": {},
   "outputs": [
    {
     "name": "stdout",
     "output_type": "stream",
     "text": [
      "Calculated t-statistic: 16.970562748477143\n",
      "Critical t-value: 2.009575234489209\n",
      "Conclusion: Fail to reject null hypothesis\n"
     ]
    }
   ],
   "source": [
    "#Ho: mu=6\n",
    "#H1: mu!=6\n",
    "n=50\n",
    "sample_mean=6\n",
    "sample_std_dev=2.5\n",
    "significance_level=0.05\n",
    "dof=n-1\n",
    "pop_mean=0 # Considering the medicine doesnt work\n",
    "#calcuate critical value\n",
    "crv=stats.t.ppf(1-significance_level/2,dof)\n",
    "#calculate t statistics\n",
    "t_stats=(sample_mean-pop_mean)/(sample_std_dev/np.sqrt(n))\n",
    "#Decision\n",
    "if t_stats < crv:\n",
    "    conclusion = \"Reject null hypothesis\"\n",
    "else:\n",
    "    conclusion = \"Fail to reject null hypothesis\"\n",
    "print(\"Calculated t-statistic:\", t_stats)\n",
    "print(\"Critical t-value:\", crv)\n",
    "print(\"Conclusion:\", conclusion)"
   ]
  },
  {
   "cell_type": "markdown",
   "id": "f78e8163-551c-428b-91b2-6ad751510ee6",
   "metadata": {},
   "source": [
    "## Q11. In a survey of 500 people, 65% reported being satisfied with their current job. Calculate the 95% confidence interval for the true proportion of people who are satisfied with their job.\n"
   ]
  },
  {
   "cell_type": "code",
   "execution_count": 43,
   "id": "83ef2639-bfc3-4cf6-b061-cd3a9560c9d7",
   "metadata": {},
   "outputs": [
    {
     "name": "stdout",
     "output_type": "stream",
     "text": [
      "The Population parameter lies between 324.9580908897874 to 325.0419091102126\n"
     ]
    }
   ],
   "source": [
    "n=500\n",
    "pop_mean=0.65*500\n",
    "p=0.65\n",
    "q=1-p\n",
    "significance_level=0.05\n",
    "dof=n-1\n",
    "\n",
    "critical_value=stats.t.ppf(1-significance_level/2,dof)\n",
    "critical_value\n",
    "margin_of_error=critical_value*(np.sqrt(q*p/n))\n",
    "CI1=pop_mean-margin_of_error\n",
    "CI2=pop_mean+margin_of_error\n",
    "print(f\"The Population parameter lies between {CI1} to {CI2}\")"
   ]
  },
  {
   "cell_type": "markdown",
   "id": "4b19f4fd-7feb-41cb-a2dd-9f5bc777bf25",
   "metadata": {},
   "source": [
    "Q12. A researcher is testing the effectiveness of two different teaching methods on student performance.\n",
    "Sample A has a mean score of 85 with a standard deviation of 6, while sample B has a mean score of 82\n",
    "with a standard deviation of 5. Conduct a hypothesis test to determine if the two teaching methods have a\n",
    "significant difference in student performance using a t-test with a significance level of 0.01.\n"
   ]
  },
  {
   "cell_type": "code",
   "execution_count": 25,
   "id": "5746bb8f-bc74-4dcc-bc53-199592b70984",
   "metadata": {},
   "outputs": [
    {
     "name": "stdout",
     "output_type": "stream",
     "text": [
      "t-statistic: 1.9710240059795978\n",
      "p-value: 0.05154169785502528\n",
      "Conclusion: Fail to reject null hypothesis\n"
     ]
    }
   ],
   "source": [
    "# Ho : mean_a=mean_b # that is their is no differnce\n",
    "# H1 : mean_a != mean_b # That is Their is a differnce\n",
    "\n",
    "sample_mean_a=85\n",
    "sample_std_a=6\n",
    "sample_mean_b=82\n",
    "sample_std_b=5\n",
    "significance_level=0.01\n",
    "dof=sample_mean_a+sample_mean_b-2\n",
    "# here we will create two samples\n",
    "sample_1=np.random.normal(loc=85,scale=6,size=50)\n",
    "sample_2=np.random.normal(loc=82,scale=5,size=50)\n",
    "t_statistic, p_value = stats.ttest_ind(sample_1, sample_2) # alternative=\"two sided \" is default\n",
    "# Given signifincance value\n",
    "alpha = 0.01\n",
    "#Performing hypothesis test\n",
    "if p_value < alpha:\n",
    "    conclusion = \"Reject null hypothesis\"\n",
    "else:\n",
    "    conclusion = \"Fail to reject null hypothesis\"\n",
    "#Print\n",
    "print(\"t-statistic:\", t_statistic)\n",
    "print(\"p-value:\", p_value)\n",
    "print(\"Conclusion:\", conclusion)\n"
   ]
  },
  {
   "cell_type": "markdown",
   "id": "c6bc21dc-95f7-4abf-9481-3c4142622d44",
   "metadata": {},
   "source": [
    "Q13. A population has a mean of 60 and a standard deviation of 8. A sample of 50 observations has a mean\n",
    "of 65. Calculate the 90% confidence interval for the true population mean.\n"
   ]
  },
  {
   "cell_type": "code",
   "execution_count": 31,
   "id": "a5b10091-9e9f-4eac-8741-40e04851cbd0",
   "metadata": {},
   "outputs": [
    {
     "name": "stdout",
     "output_type": "stream",
     "text": [
      "The Population parameter lies between 58.10319919251691 to 61.89680080748309\n"
     ]
    }
   ],
   "source": [
    "pop_mean=60\n",
    "pop_std_dev=8\n",
    "sample_mean=65\n",
    "n=50\n",
    "dof=n-1\n",
    "significance_level=0.1\n",
    "critical_value=stats.t.ppf(1-significance_level/2,dof)\n",
    "critical_value\n",
    "margin_of_error = critical_value * (pop_std_dev / np.sqrt(n))\n",
    "margin_of_error\n",
    "\n",
    "CI1=pop_mean-margin_of_error\n",
    "CI2=pop_mean+margin_of_error\n",
    "\n",
    "print(f\"The Population parameter lies between {CI1} to {CI2}\")"
   ]
  },
  {
   "cell_type": "markdown",
   "id": "60933a9d-7843-4c8f-9e2b-6e506d4f2ecd",
   "metadata": {},
   "source": [
    "Q14. In a study of the effects of caffeine on reaction time, a sample of 30 participants had an average\n",
    "reaction time of 0.25 seconds with a standard deviation of 0.05 seconds. Conduct a hypothesis test to\n",
    "determine if the caffeine has a significant effect on reaction time at a 90% confidence level using a t-test."
   ]
  },
  {
   "cell_type": "code",
   "execution_count": 46,
   "id": "d4efa6b7-1b30-4fa6-b394-429ab10adfeb",
   "metadata": {},
   "outputs": [
    {
     "name": "stdout",
     "output_type": "stream",
     "text": [
      "Calculated t-statistic: 27.386127875258307\n",
      "Critical t-value: 1.311433643950529\n",
      "Conclusion: Fail to reject null hypothesis\n"
     ]
    }
   ],
   "source": [
    "# Ho: mu=0 # Caffeiene does not have any effect\n",
    "# H1: mu=0.05 # caffiene have a significant effect\n",
    "\n",
    "n=30\n",
    "sample_mean=0.25\n",
    "sample_std_dev=0.05\n",
    "dof=n-1\n",
    "significance_level=0.1\n",
    "pop_mean=0\n",
    "\n",
    "#find critical_value\n",
    "crv=stats.t.ppf(1-significance_level,dof)\n",
    "crv\n",
    "#find t_stats\n",
    "t_stats=(sample_mean-pop_mean)/(sample_std_dev/np.sqrt(n))\n",
    "t_stats\n",
    "#Decision\n",
    "if t_stats < crv:\n",
    "    conclusion = \"Reject null hypothesis\"\n",
    "else:\n",
    "    conclusion = \"Fail to reject null hypothesis\"\n",
    "print(\"Calculated t-statistic:\", t_stats)\n",
    "print(\"Critical t-value:\", crv)\n",
    "print(\"Conclusion:\", conclusion)"
   ]
  },
  {
   "cell_type": "code",
   "execution_count": null,
   "id": "4de257fa-ec49-424c-a92f-cdb83c92a2b2",
   "metadata": {},
   "outputs": [],
   "source": []
  },
  {
   "cell_type": "code",
   "execution_count": null,
   "id": "5834037d-d092-4f3c-b13a-e63c4b16f00d",
   "metadata": {},
   "outputs": [],
   "source": []
  },
  {
   "cell_type": "code",
   "execution_count": null,
   "id": "9a7cac3f-70da-4e0f-aa2f-facf4b076403",
   "metadata": {},
   "outputs": [],
   "source": []
  },
  {
   "cell_type": "code",
   "execution_count": null,
   "id": "f4b2264c-ecfb-4e0a-b119-18b62f07580b",
   "metadata": {},
   "outputs": [],
   "source": []
  }
 ],
 "metadata": {
  "kernelspec": {
   "display_name": "Python 3 (ipykernel)",
   "language": "python",
   "name": "python3"
  },
  "language_info": {
   "codemirror_mode": {
    "name": "ipython",
    "version": 3
   },
   "file_extension": ".py",
   "mimetype": "text/x-python",
   "name": "python",
   "nbconvert_exporter": "python",
   "pygments_lexer": "ipython3",
   "version": "3.10.8"
  }
 },
 "nbformat": 4,
 "nbformat_minor": 5
}
