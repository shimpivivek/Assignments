{
 "cells": [
  {
   "cell_type": "markdown",
   "id": "b67ce438-c70f-4e75-a50a-7303d4ac741e",
   "metadata": {},
   "source": [
    "### Q1. Create a Pandas Series that contains the following data: 4, 8, 15, 16, 23, and 42. Then, print the series.\n"
   ]
  },
  {
   "cell_type": "code",
   "execution_count": 7,
   "id": "e5c0e7b9-a7aa-4029-98b2-a16946968c8c",
   "metadata": {},
   "outputs": [
    {
     "data": {
      "text/plain": [
       "0     4\n",
       "1     8\n",
       "2    15\n",
       "3    16\n",
       "4    23\n",
       "5    42\n",
       "dtype: int64"
      ]
     },
     "execution_count": 7,
     "metadata": {},
     "output_type": "execute_result"
    }
   ],
   "source": [
    "import pandas as pd\n",
    "lst=[4,8,15,16,23,42]\n",
    "pd.Series(lst)"
   ]
  },
  {
   "cell_type": "markdown",
   "id": "98bebefc-7df8-4e72-81d8-9ec806dd2c4b",
   "metadata": {},
   "source": [
    "### Q2. Create a variable of list type containing 10 elements in it, and apply pandas.Series function on the variable print it.\n"
   ]
  },
  {
   "cell_type": "code",
   "execution_count": 12,
   "id": "8fc4d86d-d636-4a16-9592-35e40f3e464f",
   "metadata": {},
   "outputs": [
    {
     "name": "stdout",
     "output_type": "stream",
     "text": [
      "[0, 1, 2, 3, 4, 5, 6, 7, 8, 9, 10]\n"
     ]
    },
    {
     "data": {
      "text/plain": [
       "0      0\n",
       "1      1\n",
       "2      2\n",
       "3      3\n",
       "4      4\n",
       "5      5\n",
       "6      6\n",
       "7      7\n",
       "8      8\n",
       "9      9\n",
       "10    10\n",
       "dtype: int64"
      ]
     },
     "execution_count": 12,
     "metadata": {},
     "output_type": "execute_result"
    }
   ],
   "source": [
    "lst1=[i for i in range(0,11)]\n",
    "print(lst1)\n",
    "pd.Series(lst1)"
   ]
  },
  {
   "cell_type": "code",
   "execution_count": 15,
   "id": "3ade1491-c2c5-4a7e-9b65-d886c0cc88c7",
   "metadata": {},
   "outputs": [
    {
     "data": {
      "text/html": [
       "<div>\n",
       "<style scoped>\n",
       "    .dataframe tbody tr th:only-of-type {\n",
       "        vertical-align: middle;\n",
       "    }\n",
       "\n",
       "    .dataframe tbody tr th {\n",
       "        vertical-align: top;\n",
       "    }\n",
       "\n",
       "    .dataframe thead th {\n",
       "        text-align: right;\n",
       "    }\n",
       "</style>\n",
       "<table border=\"1\" class=\"dataframe\">\n",
       "  <thead>\n",
       "    <tr style=\"text-align: right;\">\n",
       "      <th></th>\n",
       "      <th>Name</th>\n",
       "      <th>Age</th>\n",
       "      <th>Gender</th>\n",
       "    </tr>\n",
       "  </thead>\n",
       "  <tbody>\n",
       "    <tr>\n",
       "      <th>0</th>\n",
       "      <td>Alice</td>\n",
       "      <td>25</td>\n",
       "      <td>Female</td>\n",
       "    </tr>\n",
       "    <tr>\n",
       "      <th>1</th>\n",
       "      <td>Bob</td>\n",
       "      <td>30</td>\n",
       "      <td>Male</td>\n",
       "    </tr>\n",
       "    <tr>\n",
       "      <th>2</th>\n",
       "      <td>Claire</td>\n",
       "      <td>27</td>\n",
       "      <td>Female</td>\n",
       "    </tr>\n",
       "  </tbody>\n",
       "</table>\n",
       "</div>"
      ],
      "text/plain": [
       "     Name  Age  Gender\n",
       "0   Alice   25  Female\n",
       "1     Bob   30    Male\n",
       "2  Claire   27  Female"
      ]
     },
     "execution_count": 15,
     "metadata": {},
     "output_type": "execute_result"
    }
   ],
   "source": [
    "data={\"Name\":[\"Alice\",\"Bob\",\"Claire\"],\n",
    "      \"Age\":[25,30,27],\n",
    "       \"Gender\":[\"Female\",\"Male\",\"Female\"]}\n",
    "pd.DataFrame(data)"
   ]
  },
  {
   "cell_type": "markdown",
   "id": "308410e6-2095-4980-81f4-92488d4bbe4a",
   "metadata": {},
   "source": [
    "### Q3. What is ‘DataFrame’ in pandas and how is it different from pandas.series? Explain with an example.\n"
   ]
  },
  {
   "cell_type": "markdown",
   "id": "48bbc2f7-ffc4-4be0-8d3e-5b16f53401ec",
   "metadata": {},
   "source": [
    "\n",
    "In pandas, a DataFrame is a two-dimensional data structure that represents data in a tabular format, similar to a spreadsheet or a SQL table. It consists of rows and columns, where each column can have a different data type. DataFrames are the primary data structure used in pandas for data manipulation and analysis.\n",
    "\n",
    "On the other hand, a Series is a one-dimensional data structure in pandas that represents a single column or a single row of data in a DataFrame. It can be thought of as a labeled array or a column in a spreadsheet. Unlike DataFrames, Series have a fixed data type and are homogeneous, meaning all the elements in a Series must have the same data type."
   ]
  },
  {
   "cell_type": "code",
   "execution_count": 28,
   "id": "5403f6b2-0ca5-4ab4-8787-b1908eba2944",
   "metadata": {},
   "outputs": [],
   "source": [
    "#Exapmle for datafarme\n",
    "data={\"Name\":[\"Alice\",\"Bob\",\"Claire\"],\n",
    "      \"Age\":[25,30,27],\n",
    "       \"Gender\":[\"Female\",\"Male\",\"Female\"]}\n",
    "df=pd.DataFrame(data)"
   ]
  },
  {
   "cell_type": "code",
   "execution_count": 21,
   "id": "44160ef0-e5f8-4bc1-bf4f-72bd6c46457b",
   "metadata": {},
   "outputs": [
    {
     "data": {
      "text/plain": [
       "['Alice', 'Bob', 'Claire']"
      ]
     },
     "execution_count": 21,
     "metadata": {},
     "output_type": "execute_result"
    }
   ],
   "source": [
    "#Example for series:\n",
    "data_series=data[\"Name\"]\n",
    "data_series"
   ]
  },
  {
   "cell_type": "markdown",
   "id": "79a9bbd0-8721-42f8-b3fc-9e59f51c23c4",
   "metadata": {},
   "source": [
    "### Q5. What are some common functions you can use to manipulate data in a Pandas DataFrame? Can you give an example of when you might use one of these functions?\n"
   ]
  },
  {
   "cell_type": "markdown",
   "id": "09e85d4a-21c0-4fd1-ae72-7db951a74849",
   "metadata": {},
   "source": [
    "Below are the few common functions used in pandas:\n",
    "\n",
    "1) head() and tail(): These functions allow you to view the first or last few rows of a DataFrame, respectively. They are useful for quickly inspecting the data.\n",
    "2) info(): This function provides a summary of the DataFrame, including the column names, data types, and the number of non-null values. It's useful for getting a quick overview of the data.\n",
    "3) describe(): This function generates descriptive statistics of the numerical columns in the DataFrame, such as count, mean, standard deviation, minimum, and maximum values. It's helpful for understanding the distribution of the data.\n",
    "4) sort_values(): This function allows you to sort the DataFrame by one or more columns. You can specify the column(s) to sort by and choose the sorting order (ascending or descending).\n",
    "5) groupby(): This function is used to group the data based on one or more columns and perform operations on each group. It's useful for aggregating data and computing summary statistics.\n",
    "6) dropna(): This function is used to remove rows or columns with missing values (NaN) from the DataFrame. It's helpful for cleaning the data before analysis.\n"
   ]
  },
  {
   "cell_type": "code",
   "execution_count": 29,
   "id": "0acae027-ebbf-4c39-a26e-dafc465d955d",
   "metadata": {},
   "outputs": [
    {
     "name": "stdout",
     "output_type": "stream",
     "text": [
      "<class 'pandas.core.frame.DataFrame'>\n",
      "RangeIndex: 3 entries, 0 to 2\n",
      "Data columns (total 3 columns):\n",
      " #   Column  Non-Null Count  Dtype \n",
      "---  ------  --------------  ----- \n",
      " 0   Name    3 non-null      object\n",
      " 1   Age     3 non-null      int64 \n",
      " 2   Gender  3 non-null      object\n",
      "dtypes: int64(1), object(2)\n",
      "memory usage: 200.0+ bytes\n"
     ]
    }
   ],
   "source": [
    "#We can use below function for getting quick reference of the data\n",
    "data={\"Name\":[\"Alice\",\"Bob\",\"Claire\"],\n",
    "      \"Age\":[25,30,27],\n",
    "       \"Gender\":[\"Female\",\"Male\",\"Female\"]}\n",
    "df.info()"
   ]
  },
  {
   "cell_type": "markdown",
   "id": "0e611237-02d9-4d0d-b508-d9906bb5ebb6",
   "metadata": {},
   "source": [
    "### Q6. Which of the following is mutable in nature Series, DataFrame, Panel?\n"
   ]
  },
  {
   "cell_type": "markdown",
   "id": "cb7e96cf-fa21-428e-8f9f-4e4e96df3a32",
   "metadata": {},
   "source": [
    "Series: A Series object is mutable, meaning you can modify its elements or assign new values to them. You can change the values within a Series using indexing or other methods provided by pandas.\n",
    "\n",
    "DataFrame: Similar to Series, a DataFrame is also mutable. You can modify individual cell values, add or remove columns, or update rows using various methods and operations available in pandas.\n",
    "\n",
    "Panel: Panels were a three-dimensional data structure in pandas that used to hold data in the past.Panels are not mutable because they are no longer actively used in the latest versions of pandas."
   ]
  },
  {
   "cell_type": "markdown",
   "id": "3e006ecf-b64b-46ff-986b-3b3fa7481437",
   "metadata": {},
   "source": [
    "### Q7. Create a DataFrame using multiple Series. Explain with an example."
   ]
  },
  {
   "cell_type": "code",
   "execution_count": null,
   "id": "b817a1dd-86a6-4019-98cd-f09c6af18061",
   "metadata": {},
   "outputs": [],
   "source": []
  }
 ],
 "metadata": {
  "kernelspec": {
   "display_name": "Python 3 (ipykernel)",
   "language": "python",
   "name": "python3"
  },
  "language_info": {
   "codemirror_mode": {
    "name": "ipython",
    "version": 3
   },
   "file_extension": ".py",
   "mimetype": "text/x-python",
   "name": "python",
   "nbconvert_exporter": "python",
   "pygments_lexer": "ipython3",
   "version": "3.10.8"
  }
 },
 "nbformat": 4,
 "nbformat_minor": 5
}
