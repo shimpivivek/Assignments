{
 "cells": [
  {
   "cell_type": "markdown",
   "id": "6ad7f30f-52f9-47ec-b83a-23e6ff0fbd1f",
   "metadata": {},
   "source": [
    "## Q1: What is Estimation Statistics? Explain point estimate and interval estimate.\n"
   ]
  },
  {
   "cell_type": "markdown",
   "id": "199aff06-51b0-454c-ba3b-a63a9e72ca55",
   "metadata": {},
   "source": [
    "Estimation :-\n",
    "Estimation in statistics is the process of using sample data to make inferences or predictions about a population parameter. In many cases, it's not feasible or practical to collect data from an entire population, so we use statistical sampling techniques to gather data from a smaller subset (sample) of the population. Estimation allows us to make educated guesses about population parameters based on the information gathered from the sample.\n",
    "\n",
    "Point Estimate:\n",
    "A point estimate is a single value that is used to estimate a specific population parameter. It's essentially a best guess based on the sample data.\n",
    "\n",
    "Interval Estimate:\n",
    "An interval estimate, also known as a confidence interval, provides a range of values within which we believe the population parameter is likely to fall. Unlike a point estimate, an interval estimate acknowledges the uncertainty in the estimation process."
   ]
  },
  {
   "cell_type": "markdown",
   "id": "6dfbfd08-4985-4171-9ff6-57297bea3f4f",
   "metadata": {},
   "source": [
    "## Q2. Write a Python function to estimate the population mean using a sample mean and standard deviation.\n"
   ]
  },
  {
   "cell_type": "code",
   "execution_count": 1,
   "id": "ccf11109-a11d-46ac-adfa-553f214e51b3",
   "metadata": {},
   "outputs": [
    {
     "name": "stdout",
     "output_type": "stream",
     "text": [
      "Estimated Population Mean: 50\n"
     ]
    }
   ],
   "source": [
    "# Pouplation mean will be having value between pop_mean1 and pop_mean2\n",
    "pop_mean1 = sample_mean + margin_of_error\n",
    "pop_mean2 = sample_mean - margin_of_error\n",
    "critical_value = t.ppf(1 -significance_level / 2, df=sample_size - 1) # Dividing by 2 since it is a two tailed test\n",
    "margin_of_error = critical_value * (sample_std_dev / np.sqrt(sample_size))\n",
    "\n",
    "print(f\"The Population mean ranges from {} to {}\",[pop_mean1,pop_mean2])"
   ]
  },
  {
   "cell_type": "markdown",
   "id": "7566ef52-53c0-455d-ac2a-125b809df288",
   "metadata": {},
   "source": [
    "## Q3: What is Hypothesis testing? Why is it used? State the importance of Hypothesis testing."
   ]
  },
  {
   "cell_type": "markdown",
   "id": "b28ab3e4-0ce2-48f2-bc64-42192f6af250",
   "metadata": {},
   "source": [
    "Hypothesis Testing:\n",
    "\n",
    "Hypothesis testing is a fundamental concept in statistics that involves making decisions about population parameters based on sample data. It's a formalized process used to evaluate whether a certain hypothesis about a population parameter is supported by the evidence provided by the sample data. In hypothesis testing, we start with a null hypothesis (H0) that represents a default assumption or a claim to be tested against an alternative hypothesis (Ha) that represents a contrary claim or a new assertion.\n",
    "\n",
    "It is used to form Infernetial decision from given dataset.\n",
    "\n",
    "Importance of hypothesis testing include scientific research to test new theories, validate existing ones, and advance knowledge. It allows researchers to explore whether the observed data align with their hypotheses."
   ]
  },
  {
   "cell_type": "markdown",
   "id": "034794e0-3797-4c02-b806-5d919a4a3e92",
   "metadata": {},
   "source": [
    "## Q4. Create a hypothesis that states whether the average weight of male college students is greater than the average weight of female college students."
   ]
  },
  {
   "cell_type": "markdown",
   "id": "5f77f69d-b33b-482d-8b40-21e439ba7239",
   "metadata": {},
   "source": [
    "Null Hypothesis (H0): The average weight of male college students is equal to or less than the average weight of female college students.\n",
    "\n",
    "Alternative Hypothesis (Ha): The average weight of male college students is greater than the average weight of female college students."
   ]
  },
  {
   "cell_type": "markdown",
   "id": "e3ef3e41-2efe-434f-92b0-4402863bb911",
   "metadata": {},
   "source": [
    "## Q5. Write a Python script to conduct a hypothesis test on the difference between two population means, given a sample from each population.\n"
   ]
  },
  {
   "cell_type": "code",
   "execution_count": null,
   "id": "38ae9b12-12d9-4b28-8db6-dc2947698410",
   "metadata": {},
   "outputs": [],
   "source": [
    "import numpy as np\n",
    "from scipy.stats import ttest_ind\n",
    "#Population 1 and Population 2 are the given populations.\n",
    "#Clauclate the t_stats and P-value.\n",
    "t_statistic, p_value = ttest_ind(population1, population2, alternative='greater') \n",
    "# Given signifincance value\n",
    "alpha = 0.05 \n",
    "#Performing hypothesis test\n",
    "if p_value < alpha:\n",
    "    conclusion = \"Reject null hypothesis\"\n",
    "else:\n",
    "    conclusion = \"Fail to reject null hypothesis\"\n",
    "#Print\n",
    "print(\"t-statistic:\", t_statistic)\n",
    "print(\"p-value:\", p_value)\n",
    "print(\"Conclusion:\", conclusion)"
   ]
  },
  {
   "cell_type": "markdown",
   "id": "cc5e4ba3-b91f-40dd-8e52-de3c60ee0258",
   "metadata": {},
   "source": [
    "## Q6: What is a null and alternative hypothesis? Give some examples.\n"
   ]
  },
  {
   "cell_type": "markdown",
   "id": "825eb8aa-e481-45f5-adc1-5c335a579209",
   "metadata": {},
   "source": [
    "The Null Hypothesis is the default assumption given by task at hand. it is represented by Ho.The goal is to determine whether the evidence from the sample data supports the rejection of the null hypothesis in favor of the alternative hypothesis.\n",
    "\n",
    "The Alternative Hypothesis is the oppsite to null hypothesis and is represented by H1.\n",
    "\n",
    "Example :- Null Hypothesis (H0): The new drug is no more effective than the current standard treatment.\n",
    "\n",
    "Alternative Hypothesis (Ha): The new drug is more effective than the current standard treatment.\n",
    "\n",
    "\n"
   ]
  },
  {
   "cell_type": "markdown",
   "id": "ec3244d8-dcc3-4863-b511-6692aa6be800",
   "metadata": {},
   "source": [
    "## Q7: Write down the steps involved in hypothesis testing.\n"
   ]
  },
  {
   "cell_type": "markdown",
   "id": "9be16777-e42f-43c7-8833-6207897e7623",
   "metadata": {},
   "source": [
    "Hypothesis testing involves a series of steps to systematically evaluate whether there is enough evidence in the sample data to make conclusions about a population parameter. Here are the general steps involved in hypothesis testing:\n",
    "\n",
    "### State the Hypotheses:\n",
    "State the null hypothesis (H0) and the alternative hypothesis (Ha or H1) based on the research question or assertion being tested. The null hypothesis typically represents the default assumption or no effect, while the alternative hypothesis asserts a specific effect, relationship, or difference.\n",
    "\n",
    "### Choose the Significance Level (Alpha):\n",
    "Determine the significance level (alpha), which is the threshold used to make decisions about whether to reject the null hypothesis.\n",
    "\n",
    "### Collect and Prepare Data:\n",
    "Gather relevant data through sampling or experimentation. Ensure the data is appropriately collected, organized, and cleaned for analysis.\n",
    "\n",
    "### Select a Statistical Test:\n",
    "Choose an appropriate statistical test based on the type of data, research question, and hypotheses. Common tests include t-tests, ANOVA, chi-squared tests, correlation tests, etc.\n",
    "\n",
    "### Calculate Test Statistic:\n",
    "Calculate the test statistic based on the sample data and the chosen statistical test. The test statistic quantifies how much the sample data deviates from what is expected under the null hypothesis.\n",
    "\n",
    "### Calculate P-Value:\n",
    "Calculate the p-value, which represents the probability of observing a test statistic as extreme as the one calculated, assuming that the null hypothesis is true. The p-value helps determine the strength of the evidence against the null hypothesis.\n",
    "\n",
    "### Make a Decision:\n",
    "Compare the calculated p-value with the chosen significance level (alpha). If p-value < alpha, reject the null hypothesis. If p-value >= alpha, fail to reject the null hypothesis.\n",
    "\n",
    "### Draw Conclusions:\n",
    "Based on the decision made in the previous step, draw conclusions about the population parameter being tested. If the null hypothesis is rejected, you accept the alternative hypothesis.\n",
    "\n",
    "\n",
    "\n",
    "\n",
    "\n"
   ]
  },
  {
   "cell_type": "markdown",
   "id": "5a823d74-ae3f-4184-9f78-5c03012c3a42",
   "metadata": {},
   "source": [
    "## Q8. Define p-value and explain its significance in hypothesis testing."
   ]
  },
  {
   "cell_type": "markdown",
   "id": "918ed8a9-7179-4ba0-a0c8-498144111d5e",
   "metadata": {},
   "source": [
    "\n",
    "P-Value Definition:\n",
    "\n",
    "The p-value, short for \"probability value,\" is a crucial concept in hypothesis testing. It represents the probability of obtaining test results as extreme or more extreme than the observed results, assuming that the null hypothesis is true.\n",
    "\n",
    "Signicinace of P value :-\n",
    "A p-value measures the probability of obtaining the observed results, assuming that the null hypothesis is true.\n",
    "The lower the p-value, the greater the statistical significance of the observed difference."
   ]
  },
  {
   "cell_type": "markdown",
   "id": "11f84b62-5a2f-41cb-9194-68e27a9ebedf",
   "metadata": {},
   "source": [
    "## Q9. Generate a Student's t-distribution plot using Python's matplotlib library, with the degrees of freedom parameter set to 10.\n"
   ]
  },
  {
   "cell_type": "code",
   "execution_count": 10,
   "id": "c0460c5c-da8a-4d34-8df4-054cb5923577",
   "metadata": {},
   "outputs": [
    {
     "data": {
      "image/png": "[encoded data removed]",
      "text/plain": [
       "<Figure size 640x480 with 1 Axes>"
      ]
     },
     "metadata": {},
     "output_type": "display_data"
    }
   ],
   "source": [
    "#Importing necessary library's\n",
    "import numpy as np\n",
    "import matplotlib.pyplot as plt\n",
    "from scipy.stats import t\n",
    "\n",
    "# Degrees of freedom\n",
    "df = 10\n",
    "\n",
    "# Generate x values\n",
    "x = np.linspace(-4, 4, 100)\n",
    "\n",
    "\n",
    "# Calculate the corresponding probability density function (PDF) values\n",
    "pdf_values = t.pdf(x, df)\n",
    "\n",
    "# Plot the t-distribution\n",
    "plt.plot(x, pdf_values, label=\"t-distribution plot\")\n",
    "plt.title(\"Student's t-Distribution\")\n",
    "plt.xlabel('x')\n",
    "plt.ylabel('Probability Density')\n",
    "plt.legend()\n",
    "plt.grid(True)\n",
    "plt.show()\n",
    "\n",
    "\n",
    "\n",
    "\n"
   ]
  },
  {
   "cell_type": "markdown",
   "id": "ce7f6952-8e52-493a-aaa9-65a82d6b47d3",
   "metadata": {},
   "source": [
    "## Q10. Write a Python program to calculate the two-sample t-test for independent samples, given two random samples of equal size and a null hypothesis that the population means are equal.\n"
   ]
  },
  {
   "cell_type": "code",
   "execution_count": 1,
   "id": "88405dcc-9607-46f9-81ab-bbc4ab066644",
   "metadata": {},
   "outputs": [
    {
     "name": "stdout",
     "output_type": "stream",
     "text": [
      "t-statistic: 2.2001568935790186\n",
      "p-value: 0.030145313740212818\n",
      "Conclusion: Reject null hypothesis\n"
     ]
    }
   ],
   "source": [
    "import numpy as np\n",
    "from scipy.stats import ttest_ind\n",
    "sample1 = np.random.normal(loc=65, scale=10, size=50)  # Sample 1\n",
    "sample2 = np.random.normal(loc=60, scale=8, size=50)   # Sample 2\n",
    "t_statistic, p_value = ttest_ind(sample1, sample2) # alternative=\"two sided \" is default\n",
    "# Given signifincance value\n",
    "alpha = 0.05 \n",
    "#Performing hypothesis test\n",
    "if p_value < alpha:\n",
    "    conclusion = \"Reject null hypothesis\"\n",
    "else:\n",
    "    conclusion = \"Fail to reject null hypothesis\"\n",
    "#Print\n",
    "print(\"t-statistic:\", t_statistic)\n",
    "print(\"p-value:\", p_value)\n",
    "print(\"Conclusion:\", conclusion)"
   ]
  },
  {
   "cell_type": "markdown",
   "id": "7b79f2d7-e048-44ee-8102-d813a723c378",
   "metadata": {},
   "source": [
    "## Q11: What is Student’s t distribution? When to use the t-Distribution.\n"
   ]
  },
  {
   "cell_type": "markdown",
   "id": "b7d572a9-bccb-41c9-a90e-8aa91128d306",
   "metadata": {},
   "source": [
    "Student's t-distribution also known the t-distribution, is a probability distribution that is used in hypothesis testing and confidence interval estimation when the sample size is small or when the population standard deviation is unknown. It is similar in shape to the normal distribution but has heavier tails, which accounts for the increased uncertainty associated with small sample sizes.\n",
    "\n",
    "The t-distribution is characterized by its degrees of freedom, which determine the shape of the distribution\n",
    "\n",
    "It is used when,\n",
    "1) Sample Size is small > 30 .\n",
    "2) Population Standard deviation is not given"
   ]
  },
  {
   "cell_type": "markdown",
   "id": "dbfb53be-3ae3-49e5-bb9d-5e008dd00c3c",
   "metadata": {},
   "source": [
    "## Q12: What is t-statistic? State the formula for t-statistic.\n"
   ]
  },
  {
   "cell_type": "markdown",
   "id": "a941853a-9aa0-4c22-9777-fabed9b24cf7",
   "metadata": {},
   "source": [
    "\n",
    "The t-statistic, also known as the t-value, is a measure used in hypothesis testing to assess the difference between a sample statistic and a population parameter, given a sample size and sample standard deviation. It quantifies how many standard errors the sample statistic is away from the hypothesized population parameter value under the null hypothesis.\n",
    "\n",
    "Formula(t) = (sample_mean - μ) / (sample_std_dev / sqrt(sample_size))\n",
    "\n",
    "sample_mean: The mean of the sample.\n",
    "\n",
    "μ: The hypothesized population mean under the null hypothesis.\n",
    "\n",
    "sample_std_dev: The standard deviation of the sample.\n",
    "\n",
    "sample_size: The size of the sample."
   ]
  },
  {
   "cell_type": "markdown",
   "id": "869c6de0-b560-4d51-a747-32d81bc08ca8",
   "metadata": {},
   "source": [
    "## Q13. A coffee shop owner wants to estimate the average daily revenue for their shop. They take a random sample of 50 days and find the sample mean revenue to be 500 with a standard deviation of $50. Estimate the population mean revenue with a 95% confidence interval.\n"
   ]
  },
  {
   "cell_type": "code",
   "execution_count": 18,
   "id": "a3c86050-37df-4ee7-a2e5-4fc2a385edba",
   "metadata": {},
   "outputs": [],
   "source": [
    "import numpy as np\n",
    "import scipy.stats as stats\n",
    "import math\n",
    "Sample_mean=500\n",
    "sample_std_dev=50\n",
    "signficance_value=0.05\n",
    "sample_size=50\n",
    "df=sample_size-1\n",
    "#find = Population mean\n",
    "#Population mean can be found using below formula\n",
    "#CI = sample_mean +/- margin_of_error\n",
    "#margin_of_error = critical_value * (sample_std_dev / sqrt(sample_size))"
   ]
  },
  {
   "cell_type": "code",
   "execution_count": 20,
   "id": "cface536-4960-43a9-8b21-beb7c607db90",
   "metadata": {},
   "outputs": [
    {
     "data": {
      "text/plain": [
       "11.855005046769296"
      ]
     },
     "execution_count": 20,
     "metadata": {},
     "output_type": "execute_result"
    }
   ],
   "source": [
    "critical_value=stats.t.ppf(1-signficance_value,df)\n",
    "critical_value\n",
    "margin_of_error = critical_value * (sample_std_dev / math.sqrt(sample_size))\n",
    "margin_of_error"
   ]
  },
  {
   "cell_type": "code",
   "execution_count": 25,
   "id": "1d6fd366-1a49-4ed5-96df-fcab24b817b0",
   "metadata": {},
   "outputs": [
    {
     "name": "stdout",
     "output_type": "stream",
     "text": [
      "The Population mean lies between 511.8550050467693 to 488.1449949532307\n"
     ]
    }
   ],
   "source": [
    "CI1 = Sample_mean +margin_of_error\n",
    "CI2= Sample_mean - margin_of_error\n",
    "print(\"The Population mean lies between\" , CI1 , \"to\" , CI2 )"
   ]
  },
  {
   "cell_type": "markdown",
   "id": "3e96842a-1fad-4cb7-8d3a-6b0a841949b6",
   "metadata": {},
   "source": [
    "## Q14. A researcher hypothesizes that a new drug will decrease blood pressure by 10 mmHg. They conduct a clinical trial with 100 patients and find that the sample mean decrease in blood pressure is 8 mmHg with a standard deviation of 3 mmHg. Test the hypothesis with a significance level of 0.05.\n"
   ]
  },
  {
   "cell_type": "markdown",
   "id": "20a1d6c4-36e3-48b6-b6b7-6b6fe97b8881",
   "metadata": {},
   "source": [
    "\n",
    "Since We don't know the Population_std_dev we will use Students T test here"
   ]
  },
  {
   "cell_type": "code",
   "execution_count": 37,
   "id": "1a7c9903-3fa3-453c-88fa-d58befcbec0e",
   "metadata": {},
   "outputs": [
    {
     "data": {
      "text/plain": [
       "1.6603911559963895"
      ]
     },
     "execution_count": 37,
     "metadata": {},
     "output_type": "execute_result"
    }
   ],
   "source": [
    "#State the null and Alternate hypothesis\n",
    "# H0 : mu=10 mmhg\n",
    "# H1 : mu>10 mmhg\n",
    "n=100\n",
    "pop_mean=10\n",
    "sample_mean=8\n",
    "sample_std_dev=3\n",
    "significance_value=alpha=0.05\n",
    "dof=n-1\n",
    "\n",
    "critical_value=stats.t.ppf(1-significance_value,dof)\n",
    "critical_value"
   ]
  },
  {
   "cell_type": "code",
   "execution_count": 38,
   "id": "a490cb42-e617-4cb0-ac56-0122eb74db36",
   "metadata": {},
   "outputs": [
    {
     "name": "stdout",
     "output_type": "stream",
     "text": [
      "Calculated t-statistic: -6.666666666666667\n",
      "Critical t-value: -1.6603911559963902\n",
      "Conclusion: Reject null hypothesis\n"
     ]
    }
   ],
   "source": [
    "t_stats=(sample_mean-pop_mean)/(sample_std_dev/np.sqrt(n))\n",
    "t_stats\n",
    "#Make a decision\n",
    "if t_statistic < critical_t_value:\n",
    "    conclusion = \"Reject null hypothesis\"\n",
    "else:\n",
    "    conclusion = \"Fail to reject null hypothesis\"\n",
    "\n",
    "# Print results\n",
    "print(\"Calculated t-statistic:\", t_statistic)\n",
    "print(\"Critical t-value:\", critical_t_value)\n",
    "print(\"Conclusion:\", conclusion)"
   ]
  },
  {
   "cell_type": "markdown",
   "id": "9e910719-6578-49da-a2bb-2a7e9e39e883",
   "metadata": {},
   "source": [
    "Q15. An electronics company produces a certain type of product with a mean weight of 5 pounds and a\n",
    "standard deviation of 0.5 pounds. A random sample of 25 products is taken, and the sample mean weight\n",
    "is found to be 4.8 pounds. Test the hypothesis that the true mean weight of the products is less than 5\n",
    "pounds with a significance level of 0.01.\n"
   ]
  },
  {
   "cell_type": "code",
   "execution_count": 44,
   "id": "76826aa3-0542-463f-9e3d-b2a46ffd3006",
   "metadata": {},
   "outputs": [
    {
     "name": "stdout",
     "output_type": "stream",
     "text": [
      "Calculated t-statistic: -2.0000000000000018\n",
      "Critical t-value: -2.4921594731575762\n",
      "Conclusion: Fail to reject null hypothesis\n"
     ]
    }
   ],
   "source": [
    "pop_mean=5\n",
    "pop_std=0.5\n",
    "n=25\n",
    "sample_mean=4.8\n",
    "significance_value=0.01\n",
    "dof=n-1\n",
    "dof\n",
    "#Since the sample is less than 30. we will use T test.\n",
    "\n",
    "# Find critical_value\n",
    "critical_value=stats.t.ppf(1-significance_value,dof)\n",
    "critical_value\n",
    "\n",
    "# Find t_statistics\n",
    "t_statistics=(sample_mean-population_mean)/(pop_std/np.sqrt(n))\n",
    "t_statistics\n",
    "#Make a decision\n",
    "if t_statistics < critical_t_value:\n",
    "    conclusion = \"Reject null hypothesis\"\n",
    "else:\n",
    "    conclusion = \"Fail to reject null hypothesis\"\n",
    "\n",
    "# Print results\n",
    "print(\"Calculated t-statistic:\", t_statistic)\n",
    "print(\"Critical t-value:\", critical_t_value)\n",
    "print(\"Conclusion:\", conclusion)\n",
    "\n",
    "\n",
    "\n"
   ]
  },
  {
   "cell_type": "markdown",
   "id": "06da6f88-4bd8-4f07-be36-44c0acc8879e",
   "metadata": {},
   "source": [
    "Q16. Two groups of students are given different study materials to prepare for a test. The first group (n1 =\n",
    "30) has a mean score of 80 with a standard deviation of 10, and the second group (n2 = 40) has a mean\n",
    "score of 75 with a standard deviation of 8. Test the hypothesis that the population means for the two\n",
    "groups are equal with a significance level of 0.01.\n"
   ]
  },
  {
   "cell_type": "code",
   "execution_count": 1,
   "id": "2bf2f3ed-c742-492a-8835-7e218b7d9217",
   "metadata": {},
   "outputs": [
    {
     "name": "stdout",
     "output_type": "stream",
     "text": [
      "Calculated t-statistic: 2.2511258444537408\n",
      "Critical t-value: 2.6500812928169553\n",
      "Conclusion: Fail to reject null hypothesis\n"
     ]
    }
   ],
   "source": [
    "import numpy as np\n",
    "from scipy.stats import t\n",
    "#given data\n",
    "sample_mean1 = 80\n",
    "sample_std_dev1 = 10\n",
    "sample_size1 = 30\n",
    "sample_mean2 = 75\n",
    "sample_std_dev2 = 8\n",
    "sample_size2 = 40\n",
    "alpha = 0.01\n",
    "\n",
    "# Calculate the t-statistic\n",
    "t_statistic = (sample_mean1 - sample_mean2) / np.sqrt((sample_std_dev1**2 / sample_size1) + (sample_std_dev2**2 / sample_size2))\n",
    "\n",
    "# Calculate degrees of freedom\n",
    "df = sample_size1 + sample_size2 - 2\n",
    "\n",
    "# Calculate the critical t-value\n",
    "critical_t_value = t.ppf(1 - alpha/2, df=df)\n",
    "\n",
    "# Make a decision\n",
    "if abs(t_statistic) > critical_t_value:\n",
    "    conclusion = \"Reject null hypothesis\"\n",
    "else:\n",
    "    conclusion = \"Fail to reject null hypothesis\"\n",
    "\n",
    "# Print results\n",
    "print(\"Calculated t-statistic:\", t_statistic)\n",
    "print(\"Critical t-value:\", critical_t_value)\n",
    "print(\"Conclusion:\", conclusion)\n"
   ]
  },
  {
   "cell_type": "markdown",
   "id": "61f1ebfe-4c25-4541-b1fe-22e9308334f9",
   "metadata": {},
   "source": [
    "Q17. A marketing company wants to estimate the average number of ads watched by viewers during a TV\n",
    "program. They take a random sample of 50 viewers and find that the sample mean is 4 with a standard\n",
    "deviation of 1.5. Estimate the population mean with a 99% confidence interval."
   ]
  },
  {
   "cell_type": "code",
   "execution_count": 4,
   "id": "2c159434-6330-4334-a8fe-fce6ab8b786e",
   "metadata": {},
   "outputs": [
    {
     "name": "stdout",
     "output_type": "stream",
     "text": [
      "99% Confidence Interval:\n",
      "Lower bound: 3.4314963358572577\n",
      "Upper bound: 4.568503664142742\n"
     ]
    }
   ],
   "source": [
    "import scipy.stats as stats\n",
    "import numpy as np\n",
    "# Given values\n",
    "sample_mean = 4\n",
    "sample_std_dev = 1.5\n",
    "sample_size = 50\n",
    "significance_level=0.01\n",
    "\n",
    "# Calculate the margin of error\n",
    "critical_value = stats.t.ppf(1 -significance_level / 2, df=sample_size - 1) # Dividing by 2 since it is a two tailed test\n",
    "margin_of_error = critical_value * (sample_std_dev / np.sqrt(sample_size))\n",
    "\n",
    "# Calculate the confidence interval\n",
    "confidence_interval_lower = sample_mean - margin_of_error\n",
    "confidence_interval_upper = sample_mean + margin_of_error\n",
    "\n",
    "# Print the confidence interval\n",
    "print(\"99% Confidence Interval:\")\n",
    "print(\"Lower bound:\", confidence_interval_lower)\n",
    "print(\"Upper bound:\", confidence_interval_upper)\n",
    "\n"
   ]
  },
  {
   "cell_type": "code",
   "execution_count": null,
   "id": "03c6f5ed-148d-4693-91d6-75002fee1e05",
   "metadata": {},
   "outputs": [],
   "source": []
  }
 ],
 "metadata": {
  "kernelspec": {
   "display_name": "Python 3 (ipykernel)",
   "language": "python",
   "name": "python3"
  },
  "language_info": {
   "codemirror_mode": {
    "name": "ipython",
    "version": 3
   },
   "file_extension": ".py",
   "mimetype": "text/x-python",
   "name": "python",
   "nbconvert_exporter": "python",
   "pygments_lexer": "ipython3",
   "version": "3.10.8"
  }
 },
 "nbformat": 4,
 "nbformat_minor": 5
}
