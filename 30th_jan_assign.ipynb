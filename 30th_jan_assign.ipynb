{
 "cells": [
  {
   "cell_type": "markdown",
   "id": "17b9569f-521f-4688-85a9-f92e5586ddba",
   "metadata": {},
   "source": [
    "### 1) write a programme to take input from user and display the grades acoordingly."
   ]
  },
  {
   "cell_type": "code",
   "execution_count": 18,
   "id": "f2284571-3020-47d5-a671-a766b674a860",
   "metadata": {},
   "outputs": [
    {
     "name": "stdin",
     "output_type": "stream",
     "text": [
      "please help us with the marks 65\n"
     ]
    },
    {
     "name": "stdout",
     "output_type": "stream",
     "text": [
      "your grade is - C\n"
     ]
    }
   ],
   "source": [
    "marks=int(input(\"please help us with the marks\" ))\n",
    "if marks>90 and marks<=100:\n",
    "    print(\"Your grade is - A\")\n",
    "elif marks > 80 and marks<=90:\n",
    "    print(\"your Grade is - B\")\n",
    "elif marks >=60 and marks <=80:\n",
    "    print(\"your grade is - C\")\n",
    "elif marks < 60 and marks >=0:\n",
    "    print(\"your grade is-D\" )\n",
    "else:\n",
    "    print(\"Invalid entry\")"
   ]
  },
  {
   "cell_type": "markdown",
   "id": "15ba0879-95db-4159-8cbe-ab2f7e3b93e5",
   "metadata": {},
   "source": [
    "### 2) write a programme to accept bike price and display the road tax"
   ]
  },
  {
   "cell_type": "code",
   "execution_count": 26,
   "id": "8ef32483-d4c5-473f-85a5-e5396d82c353",
   "metadata": {},
   "outputs": [
    {
     "name": "stdin",
     "output_type": "stream",
     "text": [
      "Please give us the bike price here :\n",
      " 90000\n"
     ]
    },
    {
     "name": "stdout",
     "output_type": "stream",
     "text": [
      "The applicable road tax percentage is 10 % and amount is :-  9000.0\n"
     ]
    }
   ],
   "source": [
    "bike_price=int(input(\"Please give us the bike price here :\\n\"))\n",
    "if bike_price>100000:\n",
    "    print(\"The applicable road tax percentage is 15 % and amount is :- \",bike_price*0.15)\n",
    "elif bike_price > 50000 and bike_price<=100000:\n",
    "    print(\"The applicable road tax percentage is 10 % and amount is :- \",bike_price*0.10)\n",
    "elif bike_price<=50000 and bike_price>0:\n",
    "     print(\"The applicable road tax percentage is 5 % and amount is :- \",bike_price*0.05)\n",
    "else:\n",
    "    print(\"Please give valid bike price\")\n",
    "    \n",
    "    "
   ]
  },
  {
   "cell_type": "code",
   "execution_count": null,
   "id": "644b3033-cf6c-487c-8aac-0032876c7f91",
   "metadata": {},
   "outputs": [],
   "source": [
    "3) #write a programme to accept the city name suggest momument of that city."
   ]
  },
  {
   "cell_type": "code",
   "execution_count": 37,
   "id": "2941db7a-fa8f-46a2-bbe2-737261a3e36f",
   "metadata": {},
   "outputs": [
    {
     "name": "stdin",
     "output_type": "stream",
     "text": [
      "please help us with the City you would like to visit indore\n"
     ]
    },
    {
     "name": "stdout",
     "output_type": "stream",
     "text": [
      "Your city soon will be coming to our database\n"
     ]
    }
   ],
   "source": [
    "city=input(\"please help us with the City you would like to visit\")\n",
    "city_name=city.capitalize()\n",
    "if city_name==\"Delhi\":\n",
    "    print(\"please visit the RED FORT\")\n",
    "elif city_name==\"Agra\":\n",
    "    print(\"please vsist TAJ MAHAL\")\n",
    "elif city_name==\"jaipur\":\n",
    "    print(\"please visit JAL MAHAL\")\n",
    "else:\n",
    "    print(\"Your city soon will be coming to our database\")\n",
    "    "
   ]
  },
  {
   "cell_type": "markdown",
   "id": "09e64354-2752-456f-a61f-8c907fb5d741",
   "metadata": {},
   "source": [
    "### 4) Check how many times a number can be divided by 3 before it is less than or equal to 10"
   ]
  },
  {
   "cell_type": "code",
   "execution_count": null,
   "id": "21241921-d08c-4a59-af6b-7b05382f51e9",
   "metadata": {},
   "outputs": [],
   "source": [
    "num=int(input(\"please enter the number\"))\n",
    "\n",
    "print(num)\n",
    "count=0\n",
    "while num%3==0 and num>10:\n",
    "    count+=1\n",
    "    num=num/3\n",
    "print(count)"
   ]
  },
  {
   "cell_type": "code",
   "execution_count": 10,
   "id": "ca0c2507-c0ac-40cb-8430-d8958e63eda7",
   "metadata": {},
   "outputs": [
    {
     "data": {
      "text/plain": [
       "243"
      ]
     },
     "execution_count": 10,
     "metadata": {},
     "output_type": "execute_result"
    }
   ],
   "source": [
    "3**5"
   ]
  },
  {
   "cell_type": "markdown",
   "id": "2c6c4fb5-6303-42da-884d-c5873d1450f0",
   "metadata": {},
   "source": [
    "### 5) when and why to use while loop in python ? with example"
   ]
  },
  {
   "cell_type": "markdown",
   "id": "748eed61-2239-4824-9a32-76632d1c323a",
   "metadata": {},
   "source": [
    "When we want to run a block of code multiple times, while loop is used.\n",
    "while loop reduces the code and help to do the repeatative tasks.\n",
    "while loop checks the condition, if true it runs through the bolck of code and returns and repeat untill the condition becomes false.\n",
    "note :- it is important to modifiy the iterator i.e increasing or decreasing the iterator so the loop doesnt run for infintity.\n",
    "\n"
   ]
  },
  {
   "cell_type": "code",
   "execution_count": 3,
   "id": "5c354181-3204-431e-99ba-b262c47dac56",
   "metadata": {},
   "outputs": [
    {
     "name": "stdout",
     "output_type": "stream",
     "text": [
      "[1, 2, 3, 4, 5, 6, 7, 8, 9, 10]\n"
     ]
    }
   ],
   "source": [
    "#example :- \n",
    "i=1\n",
    "lst=[]\n",
    "while i<=10:\n",
    "    lst.append(i)\n",
    "    i+=1\n",
    "print(lst)\n"
   ]
  },
  {
   "cell_type": "markdown",
   "id": "030bfe05-9687-48f8-abc2-a4ec3b4a2b7c",
   "metadata": {},
   "source": [
    "### 6) Use Nested while loop to Print 3 unique patterns"
   ]
  },
  {
   "cell_type": "code",
   "execution_count": null,
   "id": "f6f30fed-1c69-4793-8cf5-ead8ef67b0cf",
   "metadata": {},
   "outputs": [
    {
     "name": "stdin",
     "output_type": "stream",
     "text": [
      "Enter the number of rows:  5\n"
     ]
    },
    {
     "name": "stdout",
     "output_type": "stream",
     "text": [
      "    *\n",
      "   ***\n",
      "  *****\n",
      " *******\n",
      "*********\n"
     ]
    }
   ],
   "source": [
    "num_rows = int(input(\"Enter the number of rows: \"))\n",
    "row = 0 \n",
    "while(row < num_rows):\n",
    "    row += 1 \n",
    "    s = num_rows - row\n",
    "\n",
    "    sc = 0 \n",
    "    while(sc < s):\n",
    "        print(\" \", end='')\n",
    "        sc += 1\n",
    "\n",
    "    stars = 2*row-1 \n",
    "    while(stars > 0):\n",
    "        print(\"*\", end='')\n",
    "        stars -= 1\n",
    "\n",
    "    print()"
   ]
  },
  {
   "cell_type": "code",
   "execution_count": 26,
   "id": "568a0cb8-2008-4d07-8739-a8e46f4f5c52",
   "metadata": {},
   "outputs": [
    {
     "name": "stdin",
     "output_type": "stream",
     "text": [
      "Enter the number of rows:  5\n"
     ]
    },
    {
     "name": "stdout",
     "output_type": "stream",
     "text": [
      "****\n",
      "***\n",
      "**\n",
      "*\n",
      "\n"
     ]
    }
   ],
   "source": [
    "num_rows = int(input(\"Enter the number of rows: \"))\n",
    "row = 0 \n",
    "while(row < num_rows):\n",
    "    row += 1 \n",
    "    s = num_rows - row\n",
    "\n",
    "    sc = 0 \n",
    "    while(sc < s):\n",
    "        print(\"*\", end='')\n",
    "        sc += 1\n",
    "    print()"
   ]
  },
  {
   "cell_type": "markdown",
   "id": "67c0f88a-fb23-457a-9758-c32518181747",
   "metadata": {},
   "source": [
    "### Reverse a while loop to display numbers from 1 to 10"
   ]
  },
  {
   "cell_type": "code",
   "execution_count": 34,
   "id": "9ea50f0d-16d1-4580-b996-85008465aa11",
   "metadata": {},
   "outputs": [
    {
     "name": "stdout",
     "output_type": "stream",
     "text": [
      "10 9 8 7 6 5 4 3 2 1 "
     ]
    }
   ],
   "source": [
    "i=10\n",
    "while i>0:\n",
    "    print(i,end=\" \")\n",
    "    i-=1"
   ]
  },
  {
   "cell_type": "code",
   "execution_count": null,
   "id": "6e71eefd-bcc8-4f31-b1f8-6f2a317b69cc",
   "metadata": {},
   "outputs": [],
   "source": []
  }
 ],
 "metadata": {
  "kernelspec": {
   "display_name": "Python 3 (ipykernel)",
   "language": "python",
   "name": "python3"
  },
  "language_info": {
   "codemirror_mode": {
    "name": "ipython",
    "version": 3
   },
   "file_extension": ".py",
   "mimetype": "text/x-python",
   "name": "python",
   "nbconvert_exporter": "python",
   "pygments_lexer": "ipython3",
   "version": "3.10.8"
  }
 },
 "nbformat": 4,
 "nbformat_minor": 5
}
