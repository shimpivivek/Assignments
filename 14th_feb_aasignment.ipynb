{
 "cells": [
  {
   "cell_type": "markdown",
   "id": "751354c1-ace0-4ca8-bf12-dd07aaabd8d0",
   "metadata": {},
   "source": [
    "### Q1) what is multiple threading on python ? why it is use ? Name the module used ?"
   ]
  },
  {
   "cell_type": "markdown",
   "id": "d972152a-d2a7-478f-a644-d2018022e45a",
   "metadata": {},
   "source": [
    "Multithreading is the ability of a program or an operating system to enable more than one user at a time without requiring multiple copies of the program running on the computer. Multithreading can also handle various requests from the same user. Each user request for a program or system service is tracked as a thread with a separate identity. As programs work on behalf of the initial thread request and are interrupted by other demands, the work status of the initial request is tracked until the work is completed. In this context, a user can also be another program."
   ]
  },
  {
   "cell_type": "markdown",
   "id": "7768cc94-0ccd-4ac0-b130-11ffa0a4d9f6",
   "metadata": {},
   "source": [
    "Multithreading allows the programmer to divide application tasks into sub-tasks and simultaneously run them in a program."
   ]
  },
  {
   "cell_type": "markdown",
   "id": "c00b127e-aa61-4886-95a6-42b0ccb14ad2",
   "metadata": {},
   "source": [
    "module used - threading"
   ]
  },
  {
   "cell_type": "markdown",
   "id": "1c3ce9b3-77c6-4ff5-a671-bc4ed131aa29",
   "metadata": {},
   "source": [
    "### Q2) Why threading module is used ? Write the use of following function:\n",
    "    1) activeCount()\n",
    "    2) currentThread()\n",
    "    3) enumerate()"
   ]
  },
  {
   "cell_type": "markdown",
   "id": "b07ea50a-8584-453d-aecf-564e2299f5a3",
   "metadata": {},
   "source": [
    "we use threading to break down the tasks and applications into multiple sub-tasks and then execute them simultaneously."
   ]
  },
  {
   "cell_type": "markdown",
   "id": "9813b65b-f541-4560-a550-29bf1568d7dc",
   "metadata": {},
   "source": [
    "threading.activeCount() − This returns the number of active thread objects.\n",
    "\n",
    "threading.currentThread() − This returns the number of objects that are under the thread control of the caller.\n",
    "\n",
    "threading.enumerate() −This returns the list of all thread objects that are presently active"
   ]
  },
  {
   "cell_type": "markdown",
   "id": "f1c65b98-069f-4b18-9f55-e429767d6f9e",
   "metadata": {},
   "source": [
    "### Q3) Explain the folllwoing functions ?\n",
    "1) run()\n",
    "2) start()\n",
    "3) join()\n",
    "4) isAlive()\n"
   ]
  },
  {
   "cell_type": "markdown",
   "id": "ca42c0e2-bef1-4ac9-81e4-34bf654c5d39",
   "metadata": {},
   "source": [
    "run(): This method is called when you start a thread. It is the entry point for the thread's execution. You can override this method in your own class to define the behavior of the thread.\n",
    "\n",
    "start(): This method starts the execution of the thread. When you call this method, it creates a new thread of execution and calls the run() method in that thread. It is important to note that you should not call the run() method directly; instead, always call start() to start a new thread.\n",
    "\n",
    "join(): This method waits for the thread to complete its execution. When you call join() on a thread, the calling thread waits until the target thread completes its execution. This is useful when you want to make sure that a thread has finished executing before continuing with the main thread.\n",
    "\n",
    "is_alive(): This method returns a boolean value indicating whether the thread is alive or not. A thread is considered alive if it has been started and has not yet completed its execution. You can use this method to check the status of a thread and take appropriate action based on its status."
   ]
  },
  {
   "cell_type": "markdown",
   "id": "2cb9e544-9a75-44fb-9373-aec7aa0f790f",
   "metadata": {},
   "source": [
    "### Q4) Write a python programme to create two threads. thread one must print the list of squares and second thread must print the list of cubes."
   ]
  },
  {
   "cell_type": "code",
   "execution_count": 15,
   "id": "9d8298bb-6527-4fd5-be2e-0399703b5cef",
   "metadata": {},
   "outputs": [
    {
     "name": "stdout",
     "output_type": "stream",
     "text": [
      "Square :\n",
      "0\n",
      "1\n",
      "4\n",
      "9\n",
      "16\n",
      "25\n",
      "36\n",
      "49\n",
      "64\n",
      "81\n",
      "Cubes :\n",
      "0\n",
      "1\n",
      "8\n",
      "27\n",
      "64\n",
      "125\n",
      "216\n",
      "343\n",
      "512\n",
      "729\n"
     ]
    }
   ],
   "source": [
    "import threading\n",
    "def return_squares(numbers):\n",
    "    print(\"Square :\")\n",
    "    for number in numbers :\n",
    "        print(number**2)\n",
    "def return_cubes(numbers):\n",
    "    print(\"Cubes :\")\n",
    "    for number in numbers:\n",
    "        print( number**3)\n",
    "numbers=[i for i in range(10)]\n",
    "t1=threading.Thread(target=return_squares,args=(numbers,))\n",
    "t2=threading.Thread(target=return_cubes,args=(numbers,))\n",
    "t1.start()\n",
    "t2.start()\n",
    "t1.join()\n",
    "t2.join()"
   ]
  },
  {
   "cell_type": "markdown",
   "id": "62f00c7c-e23c-4081-9873-b917befe2e2c",
   "metadata": {},
   "source": [
    "### Q5) State adbvantages and disadvantages of Multitreading ?"
   ]
  },
  {
   "cell_type": "markdown",
   "id": "440542a2-824f-4cba-889a-f1f9f93143f7",
   "metadata": {},
   "source": [
    "Advantages:\n",
    "\n",
    "- Improved performance: Multithreading can lead to improved performance by allowing the CPU to execute multiple threads simultaneously, making use of multiple cores. This can be particularly useful in CPU-bound applications.\n",
    "\n",
    "- Responsiveness: Multithreading can improve the responsiveness of applications by allowing some threads to run in the background while others handle user input or other tasks.\n",
    "\n",
    "- Resource sharing: Multithreading can enable efficient sharing of resources such as memory, files, and network connections among threads. This can lead to improved efficiency and reduced memory overhead.\n",
    "\n",
    "- Simplified code: Multithreading can simplify the code by allowing developers to break down complex tasks into smaller, more manageable chunks, each of which can be executed by a separate thread.\n",
    "\n",
    "Disadvantages:\n",
    "\n",
    "- Complexity: Multithreading can make code more complex and difficult to debug, particularly when dealing with synchronization and race conditions.\n",
    "\n",
    "- Overhead: Multithreading adds overhead to the program due to the need to create and manage multiple threads, which can result in reduced performance in some cases.\n",
    "\n",
    "- Deadlocks: Multithreading can lead to deadlocks, which occur when two or more threads are waiting for each other to complete, resulting in a situation where none of the threads can proceed.\n",
    "\n",
    "- Increased memory usage: Multithreading can lead to increased memory usage, particularly when threads are used to perform multiple tasks simultaneously."
   ]
  },
  {
   "cell_type": "markdown",
   "id": "77748d14-e7f8-479f-a516-c44037fcc5ba",
   "metadata": {},
   "source": [
    "### Q6) Explain deadlocks and race condition ?"
   ]
  },
  {
   "cell_type": "markdown",
   "id": "9dab1a8a-eb57-4889-b6df-f52c4d33163f",
   "metadata": {},
   "source": [
    "-Deadlock: Deadlock is a situation that can occur when two or more threads are blocked, waiting for each other to release a resource that they need to proceed. In other words, each thread is waiting for the other to complete its task, resulting in a situation where neither thread can proceed. Deadlock can occur when two or more threads acquire locks on resources in a different order. For example, if Thread 1 acquires Lock A and then tries to acquire Lock B, while Thread 2 acquires Lock B and then tries to acquire Lock A, a deadlock can occur.\n",
    "\n",
    "-Race Condition: Race condition is a situation that can occur when two or more threads access a shared resource concurrently, and the outcome of the execution depends on the order in which the threads execute. In other words, the behavior of the program depends on which thread executes first, leading to unpredictable results. Race conditions can occur when multiple threads access a shared variable without proper synchronization. For example, if two threads simultaneously try to increment a shared counter, the final value of the counter will depend on which thread executes first."
   ]
  },
  {
   "cell_type": "code",
   "execution_count": null,
   "id": "327eb317-7d51-4ded-b7cc-c5bb5defecdb",
   "metadata": {},
   "outputs": [],
   "source": []
  }
 ],
 "metadata": {
  "kernelspec": {
   "display_name": "Python 3 (ipykernel)",
   "language": "python",
   "name": "python3"
  },
  "language_info": {
   "codemirror_mode": {
    "name": "ipython",
    "version": 3
   },
   "file_extension": ".py",
   "mimetype": "text/x-python",
   "name": "python",
   "nbconvert_exporter": "python",
   "pygments_lexer": "ipython3",
   "version": "3.10.8"
  }
 },
 "nbformat": 4,
 "nbformat_minor": 5
}
