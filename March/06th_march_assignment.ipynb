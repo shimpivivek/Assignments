{
 "cells": [
  {
   "cell_type": "markdown",
   "id": "f19755c0-6551-41df-9ca5-25121566bc64",
   "metadata": {},
   "source": [
    "### Q1. What is Statistics?\n"
   ]
  },
  {
   "cell_type": "markdown",
   "id": "5e670675-a87c-4315-a150-786d843cac82",
   "metadata": {},
   "source": [
    "\n",
    "Statistics refers to the study of data collection, analysis, interpretation, presentation, and organization. It involves techniques and methods used to gather, summarize, and draw conclusions from data in order to understand and make informed decisions about various phenomena, trends, and patterns in the real world."
   ]
  },
  {
   "cell_type": "markdown",
   "id": "6b8d84b7-a41b-4bb8-bbb5-2024f7fabbd6",
   "metadata": {},
   "source": [
    "### Q2. Define the different types of statistics and give an example of when each type might be used.\n"
   ]
  },
  {
   "cell_type": "markdown",
   "id": "00b8b853-24c5-42fe-a60d-313a035e9938",
   "metadata": {},
   "source": [
    "Their are tw0 main types,\n",
    "1) Descriptive Statistics:\n",
    "Descriptive statistics involve methods that are used to summarize and describe the main characteristics of a dataset. They provide a clear and concise way to understand the data without making inferences or predictions about a larger population.\n",
    "example :- average no. of runs scored by a cricter\n",
    "2) Inferential Statistics:\n",
    "Inferential statistics involve techniques that are used to make inferences or predictions about a larger population based on a sample of data. These methods allow researchers to draw conclusions and make generalizations beyond the observed data.\n",
    "example :- improvement in batting average due to a specific training in cricket"
   ]
  },
  {
   "cell_type": "markdown",
   "id": "a30871be-ae78-40d5-a463-68818aa2696d",
   "metadata": {},
   "source": [
    "### Q3. What are the different types of data and how do they differ from each other? Provide an example of each type of data."
   ]
  },
  {
   "cell_type": "markdown",
   "id": "7a6d989d-0e06-4f6f-90ca-810fd5f2116c",
   "metadata": {},
   "source": [
    "Data can be categorized mainly into 4 types,\n",
    "\n",
    "Nominal Data:\n",
    "Nominal data are categorical data that represent distinct categories or labels with no inherent order or ranking. They can only be classified into different groups.\n",
    "Example: Gender, language, continent in world\n",
    "\n",
    "\n",
    "Ordinal Data:\n",
    "Ordinal data also represent categories, but they have a specific order or ranking. The differences between categories may not be quantifiable, but there is a clear sense of relative position.\n",
    "Example:\n",
    "Educational levels - high school diploma, bachelor's degree, master's degree, doctorate.\n",
    "\n",
    "Interval Data:\n",
    "in interval data rank or order is important, the difference can be measured, but does not have a zero value.\n",
    "example :- temperature readings taken\n",
    "\n",
    "Ratio Data:\n",
    "in Ratio data rank or order is important, the difference can be measured, ad can have a zero value\n",
    "\n",
    "Example:\n",
    "marks obtained\n",
    "\n",
    "\n",
    "\n",
    "\n",
    "\n"
   ]
  },
  {
   "cell_type": "markdown",
   "id": "a7d49ea9-268b-44dd-a265-627145d66f11",
   "metadata": {},
   "source": [
    "### Q4. Categorise the following datasets with respect to quantitative and qualitative data types:\n",
    "\n",
    "\n",
    "\n"
   ]
  },
  {
   "cell_type": "code",
   "execution_count": null,
   "id": "95bfe447-f9ea-40d8-b8b4-637d56408618",
   "metadata": {},
   "outputs": [],
   "source": [
    "(i) Grading in exam: A+, A, B+, B, C+, C, D, E - Ordinal Data \n",
    "(ii) Colour of mangoes: yellow, green, orange, red - Nominal data\n",
    "(iii) Height data of a class: [178.9, 179, 179.5, 176, 177.2, 178.3, 175.8,...] - Ratio data\n",
    "(iv) Number of mangoes exported by a farm: [500, 600, 478, 672, …] - ratio data"
   ]
  },
  {
   "cell_type": "markdown",
   "id": "3edff159-27a6-4a35-8f85-da997a0a8e96",
   "metadata": {},
   "source": [
    "### Q5. Explain the concept of levels of measurement and give an example of a variable for each level."
   ]
  },
  {
   "cell_type": "markdown",
   "id": "f99fdc0b-ed14-46b0-9aa6-4449aece48e8",
   "metadata": {},
   "source": [
    "\n",
    "Levels of measurement, also known as scales of measurement, refer to the different ways in which data can be classified and measured. There are four main levels of measurement: nominal, ordinal, interval, and ratio.\n",
    "\n",
    "1) Nomainl sacle :- Sections in a class\n",
    "2) ordinal scale:- Hierarchy in miltry service\n",
    "3) interval scale :- PH level of substance\n",
    "4) ratio sacle:- distance ran by athlete "
   ]
  },
  {
   "cell_type": "markdown",
   "id": "93ee56fc-1739-4fa3-a084-bee64cdc36d9",
   "metadata": {},
   "source": [
    "### Q6. Why is it important to understand the level of measurement when analyzing data? Provide an example to illustrate your answer.\n"
   ]
  },
  {
   "cell_type": "markdown",
   "id": "3fcf6294-246d-4caf-87ae-39529b38803c",
   "metadata": {},
   "source": [
    "Understanding the level of measurement is crucial when analyzing data because it determines the types of analyses and statistical techniques that can be appropriately applied to the data\n",
    "example :- Analyses of covid data by its variant.\n",
    "first it may seems Nominal data, but some variant are very contagious. hence we can rank them and they will come under Ordinal data."
   ]
  },
  {
   "cell_type": "markdown",
   "id": "4a2b61e6-a7a6-4953-8df2-464145aef964",
   "metadata": {},
   "source": [
    "### Q7. How nominal data type is different from ordinal data type."
   ]
  },
  {
   "cell_type": "markdown",
   "id": "c82ee83c-cbdb-4c6f-b39e-bbde6db8f1d7",
   "metadata": {},
   "source": [
    "Nominal data involve categories without inherent ranking, while ordinal data have categories with a specific order or ranking"
   ]
  },
  {
   "cell_type": "markdown",
   "id": "38bb4e81-579d-459d-a2f3-df2cce8b78e7",
   "metadata": {},
   "source": [
    "### Q8. Which type of plot can be used to display data in terms of range?\n"
   ]
  },
  {
   "cell_type": "markdown",
   "id": "92dc5950-9e73-4fdc-bbf9-9592e095b9cc",
   "metadata": {},
   "source": [
    "Histogram"
   ]
  },
  {
   "cell_type": "markdown",
   "id": "77817b21-be5b-4add-a336-51754bec04ee",
   "metadata": {},
   "source": [
    "### Q9. Describe the difference between descriptive and inferential statistics. Give an example of each type of statistics and explain how they are used.\n"
   ]
  },
  {
   "cell_type": "markdown",
   "id": "52e9b5d0-0e87-4d64-8eb4-48ceaf7a1775",
   "metadata": {},
   "source": [
    "1) Descriptive statistics involve methods used to summarize and describe the main features of a dataset. They provide a concise and meaningful overview of the data without making inferences or predictions about a larger population. Descriptive statistics include measures like mean, median, mode, range, variance, and standard deviation.\n",
    "\n",
    "exapmle - election poll results\n",
    "\n",
    "2) Inferential statistics, on the other hand, involve techniques used to make inferences or predictions about a larger population based on a sample of data. These methods help researchers draw conclusions beyond the specific data they have collected. Inferential statistics include hypothesis testing, confidence intervals, and regression analysis.\n",
    "\n",
    "example - Exit poll prediction by instititions "
   ]
  },
  {
   "cell_type": "markdown",
   "id": "b215cc19-fa55-47dc-aa7e-47934442934a",
   "metadata": {},
   "source": [
    "### Q10. What are some common measures of central tendency and variability used in statistics? Explain how each measure can be used to describe a dataset."
   ]
  },
  {
   "cell_type": "markdown",
   "id": "46ae21ac-a323-4dd6-8e23-3b5ae7c9c26a",
   "metadata": {},
   "source": [
    "Measures of Central Tendency:\n",
    "\n",
    "1) Measures of Central Tendency:\n",
    "Measures of central tendency are used to describe the central or typical value of a dataset. They provide a single value that represents the \"center\" of the data distribution.\n",
    "\n",
    "Mean: The mean is the average of all the values in a dataset.\n",
    "\n",
    "Median: The median is the middle value in a dataset when the values are arranged in ascending or descending order.prefreable when data has outliers\n",
    "\n",
    "Mode: The mode is the value that appears most frequently in a dataset.\n",
    "\n",
    "2) Measures of Variability:\n",
    "Measures of variability describe the spread or dispersion of data points in a dataset. They indicate how much the individual data points deviate from the central value.\n",
    "\n",
    "Range: The range is the difference between the maximum and minimum values in a dataset.\n",
    "\n",
    "Variance: Variance measures the average squared difference between each data point and the mean.\n",
    "\n",
    "Standard Deviation: The standard deviation is the square root of the variance. It measures the average distance of data points from the mean.\n",
    "\n",
    "Interquartile Range (IQR): The IQR is the range between the first quartile (25th percentile) and the third quartile (75th percentile) of the data. It provides a measure of the spread that is not influenced by outliers."
   ]
  },
  {
   "cell_type": "code",
   "execution_count": null,
   "id": "d3c4a5bf-3e3b-4839-8214-ec72cdff2cbf",
   "metadata": {},
   "outputs": [],
   "source": []
  },
  {
   "cell_type": "code",
   "execution_count": null,
   "id": "ee3eaa80-e567-43fd-b510-68f5c4915a09",
   "metadata": {},
   "outputs": [],
   "source": []
  },
  {
   "cell_type": "code",
   "execution_count": null,
   "id": "e0eab75d-d55f-43f8-be62-9bd169baf59e",
   "metadata": {},
   "outputs": [],
   "source": []
  },
  {
   "cell_type": "code",
   "execution_count": null,
   "id": "e765c54a-20da-4885-9e13-f08ba9753a8a",
   "metadata": {},
   "outputs": [],
   "source": []
  },
  {
   "cell_type": "code",
   "execution_count": null,
   "id": "bd08e55a-7dd7-4457-ba6d-fd18325d59ce",
   "metadata": {},
   "outputs": [],
   "source": []
  }
 ],
 "metadata": {
  "kernelspec": {
   "display_name": "Python 3 (ipykernel)",
   "language": "python",
   "name": "python3"
  },
  "language_info": {
   "codemirror_mode": {
    "name": "ipython",
    "version": 3
   },
   "file_extension": ".py",
   "mimetype": "text/x-python",
   "name": "python",
   "nbconvert_exporter": "python",
   "pygments_lexer": "ipython3",
   "version": "3.10.8"
  }
 },
 "nbformat": 4,
 "nbformat_minor": 5
}
