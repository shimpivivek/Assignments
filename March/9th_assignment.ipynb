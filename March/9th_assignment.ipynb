{
 "cells": [
  {
   "cell_type": "markdown",
   "id": "1b2a3b5a-3267-4f79-9d38-da04020d160c",
   "metadata": {},
   "source": [
    "Q1, Create a vehicle class with an init method having instance variables as name_of_vehicle, max_speed\n",
    "and average_of_vehicle. "
   ]
  },
  {
   "cell_type": "code",
   "execution_count": 7,
   "id": "9f6acc1a-e950-426f-9170-1e1504c31f3e",
   "metadata": {},
   "outputs": [],
   "source": [
    "class vehicle():\n",
    "    def __init__(self,name_vehicle,max_speed,average_of_vehicle):\n",
    "        self.name_vehicle=name_vehicle\n",
    "        self.max_speed=max_speed\n",
    "        self.average_of_vehicle=average_of_vehicle\n",
    "        print(self.name_vehicle,self.max_speed,self.average_of_vehicle)\n",
    "    "
   ]
  },
  {
   "cell_type": "code",
   "execution_count": 9,
   "id": "cd198e77-9ee9-4e82-a95b-38e635db6aac",
   "metadata": {},
   "outputs": [
    {
     "name": "stdout",
     "output_type": "stream",
     "text": [
      "Honda 150 16\n"
     ]
    },
    {
     "data": {
      "text/plain": [
       "<__main__.vehicle at 0x7f26ac35aec0>"
      ]
     },
     "execution_count": 9,
     "metadata": {},
     "output_type": "execute_result"
    }
   ],
   "source": [
    "vehicle(\"Honda\",150,16)"
   ]
  },
  {
   "cell_type": "markdown",
   "id": "d911fcf6-1d76-434c-9bee-36d27abd9e99",
   "metadata": {},
   "source": [
    "Q2.  Create a child class car from the vehicle class created in Que 1, which will inherit the vehicle class.\n",
    "Create a method named seating_capacity which takes capacity as an argument and returns the name of\n",
    "the vehicle and its seating capacity."
   ]
  },
  {
   "cell_type": "code",
   "execution_count": 10,
   "id": "d427c337-8f60-4586-bcaf-4d18679c65dc",
   "metadata": {},
   "outputs": [],
   "source": [
    "class car(vehicle):\n",
    "    def seating_capacity(self,capacity):\n",
    "        self.capacity=capacity\n",
    "        return self.name_vehicle, self.capacity"
   ]
  },
  {
   "cell_type": "code",
   "execution_count": 15,
   "id": "53826c3a-3db4-422b-a801-92cebd6ea6a3",
   "metadata": {},
   "outputs": [
    {
     "name": "stdout",
     "output_type": "stream",
     "text": [
      "tata 80 22\n"
     ]
    },
    {
     "data": {
      "text/plain": [
       "('tata', 4)"
      ]
     },
     "execution_count": 15,
     "metadata": {},
     "output_type": "execute_result"
    }
   ],
   "source": [
    "nano=car(\"tata\",80,22)\n",
    "nano.seating_capacity(4)"
   ]
  },
  {
   "cell_type": "markdown",
   "id": "1e45e0ae-6c20-45f0-93b0-faec720fa324",
   "metadata": {},
   "source": [
    "Q3. What is multiple inheritance? Write a python code to demonstrate multiple inheritance.\n"
   ]
  },
  {
   "cell_type": "markdown",
   "id": "18d5a0e4-2d1f-42d8-ad99-495c630faf1f",
   "metadata": {},
   "source": [
    "A class can be derived from more than one superclass in Python. This is called multiple inheritance."
   ]
  },
  {
   "cell_type": "code",
   "execution_count": 17,
   "id": "8be5b35b-4ab9-4f1c-b48c-646f7d27bf08",
   "metadata": {},
   "outputs": [],
   "source": [
    "class dad:\n",
    "    def chintu_ke_papa(self):\n",
    "        print(\"Ham he chintu ke bapu\")\n",
    "class mom:\n",
    "    def chintu_ke_amma(self):\n",
    "        print(\"Ham he chintu ke amma\")\n",
    "class Chintu(dad,mom):\n",
    "    def chintu(self):\n",
    "        print(\"HA ham he he chintu\")"
   ]
  },
  {
   "cell_type": "code",
   "execution_count": 20,
   "id": "63e5630a-5c0c-4613-b818-a9a911bf2fb5",
   "metadata": {},
   "outputs": [
    {
     "name": "stdout",
     "output_type": "stream",
     "text": [
      "Ham he chintu ke bapu\n",
      "Ham he chintu ke amma\n",
      "HA ham he he chintu\n"
     ]
    }
   ],
   "source": [
    "baccha=Chintu()\n",
    "baccha.chintu_ke_papa()\n",
    "baccha.chintu_ke_amma()\n",
    "baccha.chintu()"
   ]
  },
  {
   "cell_type": "markdown",
   "id": "e18088ed-f7a7-41ea-9fca-659aeebbd013",
   "metadata": {},
   "source": [
    "### Q4. What are getter and setter in python? Create a class and create a getter and a setter method in this class."
   ]
  },
  {
   "cell_type": "markdown",
   "id": "86764e06-481a-4f2b-9bee-6f89e3b6aa5c",
   "metadata": {},
   "source": [
    " - Getters: These are the methods used in Object-Oriented Programming (OOPS) which helps to access the private attributes from a class.\n",
    "\n",
    " - Setters: These are the methods used in OOPS feature which helps to set the value to private attributes in a class."
   ]
  },
  {
   "cell_type": "code",
   "execution_count": 16,
   "id": "f3752d65-9550-4993-9771-e34e30430b09",
   "metadata": {},
   "outputs": [],
   "source": [
    "class paswrd():\n",
    "    def __init__(self,paswrd):\n",
    "        self.__paswrd=paswrd\n",
    "    def get_paswrd(self):\n",
    "        return self.__paswrd\n",
    "    def set_paswrd(self,paswrd1):\n",
    "         self.__paswrd=paswrd1\n",
    "        "
   ]
  },
  {
   "cell_type": "code",
   "execution_count": 17,
   "id": "c5dab7cb-b94f-41f8-a82d-26ceecc0eb67",
   "metadata": {},
   "outputs": [],
   "source": [
    "pwd=paswrd(\"God_of_death_loves_apple\")"
   ]
  },
  {
   "cell_type": "code",
   "execution_count": 18,
   "id": "717b9a26-3855-4997-b1cd-8c2f7ff8ac56",
   "metadata": {},
   "outputs": [
    {
     "data": {
      "text/plain": [
       "'God_of_death_loves_apple'"
      ]
     },
     "execution_count": 18,
     "metadata": {},
     "output_type": "execute_result"
    }
   ],
   "source": [
    "pwd.get_paswrd()"
   ]
  },
  {
   "cell_type": "code",
   "execution_count": 19,
   "id": "d72371e4-90f4-4037-ae75-edb940bd1958",
   "metadata": {},
   "outputs": [],
   "source": [
    "pwd.set_paswrd(\"God_of_death_have_a_deathnote\")"
   ]
  },
  {
   "cell_type": "code",
   "execution_count": 20,
   "id": "232545e1-855a-49cd-ab81-b64006d20248",
   "metadata": {},
   "outputs": [
    {
     "data": {
      "text/plain": [
       "'God_of_death_have_a_deathnote'"
      ]
     },
     "execution_count": 20,
     "metadata": {},
     "output_type": "execute_result"
    }
   ],
   "source": [
    "pwd.get_paswrd()"
   ]
  },
  {
   "cell_type": "markdown",
   "id": "bdd9afbc-d044-463a-bd9d-453b3876198a",
   "metadata": {},
   "source": [
    "### Q5.What is method overriding in python? Write a python code to demonstrate method overriding."
   ]
  },
  {
   "cell_type": "markdown",
   "id": "fdaa1070-7cb7-45a2-b2c3-86e8d995fabf",
   "metadata": {},
   "source": [
    " - The overriding method allows a child class to provide a specific implementation of a method that is already provided by one of its parent classes."
   ]
  },
  {
   "cell_type": "code",
   "execution_count": 42,
   "id": "ef1b130d-772b-42e8-8ae5-5141e0987762",
   "metadata": {},
   "outputs": [],
   "source": [
    "class Employee():\n",
    "    def __init__(self,name,base_pay):\n",
    "        self.name=name\n",
    "        self.__base_pay=base_pay\n",
    "    def get_Employee(self):\n",
    "        return self.__base_pay\n",
    "        "
   ]
  },
  {
   "cell_type": "code",
   "execution_count": 43,
   "id": "57760460-7fae-48fd-8230-a890dd2dcdc0",
   "metadata": {},
   "outputs": [],
   "source": [
    "ash=Employee(\"ash\",15000)"
   ]
  },
  {
   "cell_type": "code",
   "execution_count": 44,
   "id": "ee6521de-b636-4e84-a90c-d65782c8ec70",
   "metadata": {},
   "outputs": [
    {
     "data": {
      "text/plain": [
       "15000"
      ]
     },
     "execution_count": 44,
     "metadata": {},
     "output_type": "execute_result"
    }
   ],
   "source": [
    "ash.get_Employee()"
   ]
  },
  {
   "cell_type": "code",
   "execution_count": 50,
   "id": "aefbcab0-5afe-4619-b879-9910d2f2b811",
   "metadata": {},
   "outputs": [],
   "source": [
    "class Purchase(Employee):\n",
    "    def __init__(self,name,base_pay,incentive):\n",
    "        self.name=name\n",
    "        self.__base_pay=base_pay\n",
    "        self.__incenive=incentive\n",
    "    def get_Purchase(self):\n",
    "        return  self.__base_pay+self.__incenive"
   ]
  },
  {
   "cell_type": "code",
   "execution_count": 51,
   "id": "2a4a2b85-5b9a-428d-8996-867f22157e2e",
   "metadata": {},
   "outputs": [],
   "source": [
    "pra=Purchase(\"Pra\",15000,1200)"
   ]
  },
  {
   "cell_type": "code",
   "execution_count": 54,
   "id": "41124f83-0151-41c3-b917-d8af4df44e3f",
   "metadata": {},
   "outputs": [
    {
     "data": {
      "text/plain": [
       "16200"
      ]
     },
     "execution_count": 54,
     "metadata": {},
     "output_type": "execute_result"
    }
   ],
   "source": [
    "pra.get_Purchase()"
   ]
  },
  {
   "cell_type": "code",
   "execution_count": null,
   "id": "8ebebde6-98e1-4c7c-909e-33c01f10af40",
   "metadata": {},
   "outputs": [],
   "source": []
  }
 ],
 "metadata": {
  "kernelspec": {
   "display_name": "Python 3 (ipykernel)",
   "language": "python",
   "name": "python3"
  },
  "language_info": {
   "codemirror_mode": {
    "name": "ipython",
    "version": 3
   },
   "file_extension": ".py",
   "mimetype": "text/x-python",
   "name": "python",
   "nbconvert_exporter": "python",
   "pygments_lexer": "ipython3",
   "version": "3.10.8"
  }
 },
 "nbformat": 4,
 "nbformat_minor": 5
}
