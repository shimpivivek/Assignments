{
 "cells": [
  {
   "cell_type": "markdown",
   "id": "7068f0d8-df29-4a81-8747-1dc3ccc603c6",
   "metadata": {},
   "source": [
    "## Q1. Pearson correlation coefficient is a measure of the linear relationship between two variables. Suppose you have collected data on the amount of time students spend studying for an exam and their final exam`scores. Calculate the Pearson correlation coefficient between these two variables and interpret the result.\n"
   ]
  },
  {
   "cell_type": "code",
   "execution_count": 11,
   "id": "a468c342-14f2-4dd4-92cb-72804b589548",
   "metadata": {},
   "outputs": [
    {
     "data": {
      "text/html": [
       "<div>\n",
       "<style scoped>\n",
       "    .dataframe tbody tr th:only-of-type {\n",
       "        vertical-align: middle;\n",
       "    }\n",
       "\n",
       "    .dataframe tbody tr th {\n",
       "        vertical-align: top;\n",
       "    }\n",
       "\n",
       "    .dataframe thead th {\n",
       "        text-align: right;\n",
       "    }\n",
       "</style>\n",
       "<table border=\"1\" class=\"dataframe\">\n",
       "  <thead>\n",
       "    <tr style=\"text-align: right;\">\n",
       "      <th></th>\n",
       "      <th>0</th>\n",
       "    </tr>\n",
       "  </thead>\n",
       "  <tbody>\n",
       "    <tr>\n",
       "      <th>0</th>\n",
       "      <td>93.511111</td>\n",
       "    </tr>\n",
       "  </tbody>\n",
       "</table>\n",
       "</div>"
      ],
      "text/plain": [
       "           0\n",
       "0  93.511111"
      ]
     },
     "execution_count": 11,
     "metadata": {},
     "output_type": "execute_result"
    }
   ],
   "source": [
    "import numpy as np\n",
    "import pandas as pd\n",
    "hours=[4,6,8,4,7,9,8,10,6,8]\n",
    "Scores=[65,74,85,72,82,88,94,80,96,82]\n",
    "df=pd.DataFrame(Scores,hours)\n",
    "df.cov()"
   ]
  },
  {
   "cell_type": "markdown",
   "id": "6ed7a7f3-035b-42d4-bad2-82c3093544cd",
   "metadata": {},
   "source": [
    "## Q2. Spearman's rank correlation is a measure of the monotonic relationship between two variables. Suppose you have collected data on the amount of sleep individuals get each night and their overall job satisfaction level on a scale of 1 to 10. Calculate the Spearman's rank correlation between these two variables and interpret the result.\n"
   ]
  },
  {
   "cell_type": "code",
   "execution_count": 25,
   "id": "b0a8cc10-9722-4c98-8285-0bf91a1ceec7",
   "metadata": {},
   "outputs": [
    {
     "data": {
      "text/html": [
       "<div>\n",
       "<style scoped>\n",
       "    .dataframe tbody tr th:only-of-type {\n",
       "        vertical-align: middle;\n",
       "    }\n",
       "\n",
       "    .dataframe tbody tr th {\n",
       "        vertical-align: top;\n",
       "    }\n",
       "\n",
       "    .dataframe thead th {\n",
       "        text-align: right;\n",
       "    }\n",
       "</style>\n",
       "<table border=\"1\" class=\"dataframe\">\n",
       "  <thead>\n",
       "    <tr style=\"text-align: right;\">\n",
       "      <th></th>\n",
       "      <th>sleep_hours</th>\n",
       "      <th>job_sats</th>\n",
       "    </tr>\n",
       "  </thead>\n",
       "  <tbody>\n",
       "    <tr>\n",
       "      <th>sleep_hours</th>\n",
       "      <td>1.000000</td>\n",
       "      <td>0.642662</td>\n",
       "    </tr>\n",
       "    <tr>\n",
       "      <th>job_sats</th>\n",
       "      <td>0.642662</td>\n",
       "      <td>1.000000</td>\n",
       "    </tr>\n",
       "  </tbody>\n",
       "</table>\n",
       "</div>"
      ],
      "text/plain": [
       "             sleep_hours  job_sats\n",
       "sleep_hours     1.000000  0.642662\n",
       "job_sats        0.642662  1.000000"
      ]
     },
     "execution_count": 25,
     "metadata": {},
     "output_type": "execute_result"
    }
   ],
   "source": [
    "data={\"sleep_hours\":[6,5.5,7.5,7,8,5.5,8,7,6,8],\n",
    "\"job_sats\":[7,5,8,6,9,5,6,8,0,7]}\n",
    "df1=pd.DataFrame(data)\n",
    "df1.corr(method=\"spearman\")"
   ]
  },
  {
   "cell_type": "markdown",
   "id": "14afa523-44e3-4f5f-a00c-22e3df0d8e9b",
   "metadata": {},
   "source": [
    "## Q3. Suppose you are conducting a study to examine the relationship between the number of hours of exercise per week and body mass index (BMI) in a sample of adults. You collected data on both variables for 50 participants. Calculate the Pearson correlation coefficient and the Spearman's rank correlation between these two variables and compare the results.\n"
   ]
  },
  {
   "cell_type": "code",
   "execution_count": 54,
   "id": "0cd577a9-235e-4d51-bba1-2bc984d9ab5c",
   "metadata": {},
   "outputs": [],
   "source": [
    "import random\n",
    "import pandas as  pd\n",
    "random.seed(0)\n",
    "data={\"exercise_mins\" : [random.randint(45,120) for _ in range (50)],\n",
    "\"BMI\": [random.randint(17,25) for _ in range(50)]}\n",
    "df=pd.DataFrame(data)\n",
    "df\n",
    "Pearson=df.corr()\n",
    "Spearman=df.corr(method=\"spearman\")\n"
   ]
  },
  {
   "cell_type": "code",
   "execution_count": 55,
   "id": "4dcd4f1a-50ba-4a6c-83e7-69bbc3efc92e",
   "metadata": {},
   "outputs": [
    {
     "data": {
      "text/html": [
       "<div>\n",
       "<style scoped>\n",
       "    .dataframe tbody tr th:only-of-type {\n",
       "        vertical-align: middle;\n",
       "    }\n",
       "\n",
       "    .dataframe tbody tr th {\n",
       "        vertical-align: top;\n",
       "    }\n",
       "\n",
       "    .dataframe thead th {\n",
       "        text-align: right;\n",
       "    }\n",
       "</style>\n",
       "<table border=\"1\" class=\"dataframe\">\n",
       "  <thead>\n",
       "    <tr style=\"text-align: right;\">\n",
       "      <th></th>\n",
       "      <th>exercise_mins</th>\n",
       "      <th>BMI</th>\n",
       "    </tr>\n",
       "  </thead>\n",
       "  <tbody>\n",
       "    <tr>\n",
       "      <th>exercise_mins</th>\n",
       "      <td>1.000000</td>\n",
       "      <td>-0.111754</td>\n",
       "    </tr>\n",
       "    <tr>\n",
       "      <th>BMI</th>\n",
       "      <td>-0.111754</td>\n",
       "      <td>1.000000</td>\n",
       "    </tr>\n",
       "  </tbody>\n",
       "</table>\n",
       "</div>"
      ],
      "text/plain": [
       "               exercise_mins       BMI\n",
       "exercise_mins       1.000000 -0.111754\n",
       "BMI                -0.111754  1.000000"
      ]
     },
     "execution_count": 55,
     "metadata": {},
     "output_type": "execute_result"
    }
   ],
   "source": [
    "Pearson"
   ]
  },
  {
   "cell_type": "code",
   "execution_count": null,
   "id": "3a5d6709-2fd7-41df-a6bc-03b4c9401584",
   "metadata": {},
   "outputs": [
    {
     "data": {
      "text/html": [
       "<div>\n",
       "<style scoped>\n",
       "    .dataframe tbody tr th:only-of-type {\n",
       "        vertical-align: middle;\n",
       "    }\n",
       "\n",
       "    .dataframe tbody tr th {\n",
       "        vertical-align: top;\n",
       "    }\n",
       "\n",
       "    .dataframe thead th {\n",
       "        text-align: right;\n",
       "    }\n",
       "</style>\n",
       "<table border=\"1\" class=\"dataframe\">\n",
       "  <thead>\n",
       "    <tr style=\"text-align: right;\">\n",
       "      <th></th>\n",
       "      <th>exercise_mins</th>\n",
       "      <th>BMI</th>\n",
       "    </tr>\n",
       "  </thead>\n",
       "  <tbody>\n",
       "    <tr>\n",
       "      <th>exercise_mins</th>\n",
       "      <td>1.000000</td>\n",
       "      <td>-0.124151</td>\n",
       "    </tr>\n",
       "    <tr>\n",
       "      <th>BMI</th>\n",
       "      <td>-0.124151</td>\n",
       "      <td>1.000000</td>\n",
       "    </tr>\n",
       "  </tbody>\n",
       "</table>\n",
       "</div>"
      ],
      "text/plain": [
       "               exercise_mins       BMI\n",
       "exercise_mins       1.000000 -0.124151\n",
       "BMI                -0.124151  1.000000"
      ]
     },
     "execution_count": 56,
     "metadata": {},
     "output_type": "execute_result"
    }
   ],
   "source": [
    "Spearman"
   ]
  },
  {
   "cell_type": "code",
   "execution_count": null,
   "id": "3e40c3b7-fdd1-4c83-924b-b888f761b987",
   "metadata": {},
   "outputs": [],
   "source": [
    "# Conclusion:- The Above Analaysis Indicates that The Higher the Number of mins of exercise, the Lower is the BMI"
   ]
  },
  {
   "cell_type": "markdown",
   "id": "fb37e17e-d94c-4cc0-9d0a-ba8b70cff0c8",
   "metadata": {},
   "source": [
    "## Q4. A researcher is interested in examining the relationship between the number of hours individuals spend watching television per day and their level of physical activity. The researcher collected data on both variables from a sample of 50 participants. Calculate the Pearson correlation coefficient between these two variables.\n"
   ]
  },
  {
   "cell_type": "code",
   "execution_count": 50,
   "id": "37acf49b-5afc-4070-8b74-8beff286e480",
   "metadata": {},
   "outputs": [],
   "source": [
    "import random\n",
    "import pandas as  pd\n",
    "random.seed(0)\n",
    "data={\"tele_hours\" : [random.randint(45,120) for _ in range (50)],\n",
    "\"Physical_activity\": [random.randint(17,25) for _ in range(50)]}\n",
    "df=pd.DataFrame(data)\n",
    "df\n",
    "Pearson=df.corr()\n",
    "Spearman=df.corr(method=\"spearman\")\n"
   ]
  },
  {
   "cell_type": "code",
   "execution_count": 51,
   "id": "9b5c4c34-473b-47d9-b441-184e99e29a50",
   "metadata": {},
   "outputs": [
    {
     "data": {
      "text/html": [
       "<div>\n",
       "<style scoped>\n",
       "    .dataframe tbody tr th:only-of-type {\n",
       "        vertical-align: middle;\n",
       "    }\n",
       "\n",
       "    .dataframe tbody tr th {\n",
       "        vertical-align: top;\n",
       "    }\n",
       "\n",
       "    .dataframe thead th {\n",
       "        text-align: right;\n",
       "    }\n",
       "</style>\n",
       "<table border=\"1\" class=\"dataframe\">\n",
       "  <thead>\n",
       "    <tr style=\"text-align: right;\">\n",
       "      <th></th>\n",
       "      <th>tele_hours</th>\n",
       "      <th>Physical_activity</th>\n",
       "    </tr>\n",
       "  </thead>\n",
       "  <tbody>\n",
       "    <tr>\n",
       "      <th>tele_hours</th>\n",
       "      <td>1.000000</td>\n",
       "      <td>-0.111754</td>\n",
       "    </tr>\n",
       "    <tr>\n",
       "      <th>Physical_activity</th>\n",
       "      <td>-0.111754</td>\n",
       "      <td>1.000000</td>\n",
       "    </tr>\n",
       "  </tbody>\n",
       "</table>\n",
       "</div>"
      ],
      "text/plain": [
       "                   tele_hours  Physical_activity\n",
       "tele_hours           1.000000          -0.111754\n",
       "Physical_activity   -0.111754           1.000000"
      ]
     },
     "execution_count": 51,
     "metadata": {},
     "output_type": "execute_result"
    }
   ],
   "source": [
    "Pearson"
   ]
  },
  {
   "cell_type": "markdown",
   "id": "a03317eb-424c-462e-a91b-9f308625ba04",
   "metadata": {},
   "source": [
    "## Q5. A survey was conducted to examine the relationship between age and preference for a particular brand of soft drink. The survey results are shown below:"
   ]
  },
  {
   "cell_type": "markdown",
   "id": "295f652a-3612-4526-82fe-09a836d5ddf9",
   "metadata": {},
   "source": [
    "Qustion not completed."
   ]
  },
  {
   "cell_type": "markdown",
   "id": "525c8f04-c51d-436f-9526-7d12ed2f26a4",
   "metadata": {},
   "source": [
    "## Q6. A companmy is interested in examining the relationship between the number of sales calls made per day and the number of sales made per week. The company collected data on both variables from a sample of 30 sales representatives. Calculate the Pearson correlation coefficient between these two variables."
   ]
  },
  {
   "cell_type": "code",
   "execution_count": 58,
   "id": "d4008664-cdfe-4c58-964f-4fa576d93794",
   "metadata": {},
   "outputs": [],
   "source": [
    "import random\n",
    "import pandas as  pd\n",
    "random.seed(0)\n",
    "data={\"Sales_calls_per_day\" : [random.randint(45,80) for _ in range (30)],\n",
    "\"Sales_per_week\": [random.randint(25,40) for _ in range(30)]}\n",
    "df=pd.DataFrame(data)\n",
    "df\n",
    "Pearson=df.corr()"
   ]
  },
  {
   "cell_type": "code",
   "execution_count": 59,
   "id": "5c7b27c6-7a97-4cbf-84ee-306398167d1a",
   "metadata": {},
   "outputs": [
    {
     "data": {
      "text/html": [
       "<div>\n",
       "<style scoped>\n",
       "    .dataframe tbody tr th:only-of-type {\n",
       "        vertical-align: middle;\n",
       "    }\n",
       "\n",
       "    .dataframe tbody tr th {\n",
       "        vertical-align: top;\n",
       "    }\n",
       "\n",
       "    .dataframe thead th {\n",
       "        text-align: right;\n",
       "    }\n",
       "</style>\n",
       "<table border=\"1\" class=\"dataframe\">\n",
       "  <thead>\n",
       "    <tr style=\"text-align: right;\">\n",
       "      <th></th>\n",
       "      <th>Sales_calls_per_day</th>\n",
       "      <th>Sales_per_week</th>\n",
       "    </tr>\n",
       "  </thead>\n",
       "  <tbody>\n",
       "    <tr>\n",
       "      <th>Sales_calls_per_day</th>\n",
       "      <td>1.000000</td>\n",
       "      <td>0.159766</td>\n",
       "    </tr>\n",
       "    <tr>\n",
       "      <th>Sales_per_week</th>\n",
       "      <td>0.159766</td>\n",
       "      <td>1.000000</td>\n",
       "    </tr>\n",
       "  </tbody>\n",
       "</table>\n",
       "</div>"
      ],
      "text/plain": [
       "                     Sales_calls_per_day  Sales_per_week\n",
       "Sales_calls_per_day             1.000000        0.159766\n",
       "Sales_per_week                  0.159766        1.000000"
      ]
     },
     "execution_count": 59,
     "metadata": {},
     "output_type": "execute_result"
    }
   ],
   "source": [
    "Pearson"
   ]
  },
  {
   "cell_type": "code",
   "execution_count": null,
   "id": "767df011-a1ba-48a0-993e-998d9551b8a2",
   "metadata": {},
   "outputs": [],
   "source": []
  },
  {
   "cell_type": "code",
   "execution_count": null,
   "id": "25854c68-196c-4b14-8e46-e39f6c3cf472",
   "metadata": {},
   "outputs": [],
   "source": []
  },
  {
   "cell_type": "code",
   "execution_count": null,
   "id": "7eb9dfa1-2c4c-4414-a8fa-b9d4a818f145",
   "metadata": {},
   "outputs": [],
   "source": []
  },
  {
   "cell_type": "code",
   "execution_count": null,
   "id": "ffb76df7-24dd-4fe5-aef7-52ec8228074e",
   "metadata": {},
   "outputs": [],
   "source": []
  },
  {
   "cell_type": "code",
   "execution_count": null,
   "id": "e30c49fa-3e30-40ad-889f-a89703aa1351",
   "metadata": {},
   "outputs": [],
   "source": []
  }
 ],
 "metadata": {
  "kernelspec": {
   "display_name": "Python 3 (ipykernel)",
   "language": "python",
   "name": "python3"
  },
  "language_info": {
   "codemirror_mode": {
    "name": "ipython",
    "version": 3
   },
   "file_extension": ".py",
   "mimetype": "text/x-python",
   "name": "python",
   "nbconvert_exporter": "python",
   "pygments_lexer": "ipython3",
   "version": "3.10.8"
  }
 },
 "nbformat": 4,
 "nbformat_minor": 5
}
