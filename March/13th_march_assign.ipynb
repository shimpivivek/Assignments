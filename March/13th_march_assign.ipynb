{
 "cells": [
  {
   "cell_type": "markdown",
   "id": "1be66ed2-f0d8-4d43-a49d-b9d19cf4024e",
   "metadata": {},
   "source": [
    "## Q1. Explain the assumptions required to use ANOVA and provide examples of violations that could impact the validity of the results.\n"
   ]
  },
  {
   "cell_type": "markdown",
   "id": "a1da413a-96d3-4fd2-affd-b1f41fd09ea9",
   "metadata": {},
   "source": [
    "### Assumptions in ANOVA,\n",
    "\n",
    "### Independence of Observations:\n",
    "The observations within and between groups should be independent of each other. This means that the value of one observation should not be related to the value of another observation.\n",
    "\n",
    "Example of Violation: If you have a repeated measures design where the same subjects are used in multiple groups, and there is a carryover effect from one group to another, this violates the independence assumption.\n",
    "\n",
    "### Homogeneity of Variance:\n",
    "The variances of the groups being compared should be roughly equal. In other words, the spread of data within each group should be approximately the same.\n",
    "\n",
    "Example of Violation: If you are comparing the test scores of students from three different schools, and the variance of scores in one school is much larger than in the others, this violates the homogeneity of variance assumption.\n",
    "\n",
    "### Normality:\n",
    "The residuals (the differences between observed values and predicted values) for each group should follow a normal distribution. This assumption is particularly important for smaller sample sizes.\n",
    "\n",
    "Example of Violation: If you have a small sample size and the residuals in one group are not normally distributed, this could impact the validity of ANOVA results.\n",
    "\n",
    "### Independence of Groups:\n",
    "The groups you are comparing should be independent of each other. This means that individuals in one group should not be related to individuals in another group.\n",
    "\n",
    "Example of Violation: If you are comparing the salaries of employees in different departments of a company, and some employees are in multiple departments simultaneously, this violates the independence of groups assumption.\n",
    "\n",
    "### Random Sampling:\n",
    "The data should be obtained through random sampling or a well-controlled experimental design. This ensures that the results are generalizable to the broader population.\n",
    "\n",
    "Example of Violation: If you only collect data from a convenience sample of individuals who are readily available, this may not represent the broader population.\n"
   ]
  },
  {
   "cell_type": "markdown",
   "id": "1b970343-3cb7-4129-b181-81fe1d1e79b8",
   "metadata": {},
   "source": [
    "## Q2. What are the three types of ANOVA, and in what situations would each be used?\n"
   ]
  },
  {
   "cell_type": "markdown",
   "id": "2cde9c54-ed6a-453c-848b-d63d1e906d77",
   "metadata": {},
   "source": [
    "### One-Way ANOVA:\n",
    "One-Way ANOVA is used when you have one independent variable with more than two levels or groups, and you want to determine if there are any statistically significant differences among the means of these groups.\n",
    "\n",
    "Example: Suppose you have three different teaching methods (Group A, Group B, and Group C) and you want to determine if there's a significant difference in student test scores among these groups.\n",
    "\n",
    "### Two-Way ANOVA:\n",
    "Two-Way ANOVA is used when you have two independent variables and you want to examine their combined effects on a dependent variable. It helps you determine if there are interactions between the two factors and if each factor individually has a significant effect.\n",
    "\n",
    "Example: You're studying the effect of both a new drug treatment and gender on patient recovery time. Two-Way ANOVA allows you to analyze whether the drug, gender, or their interaction significantly affects recovery time.\n",
    "\n",
    "### Repeated Measures ANOVA:\n",
    "Repeated Measures ANOVA is used when you have a single group of participants, and each participant is measured under multiple conditions or at multiple time points. It helps assess whether there are significant differences across the repeated measures.\n",
    "\n",
    "Example: You're studying the impact of a training program on individuals' performance, and you measure their performance before training, immediately after training, and one month after training. Repeated Measures ANOVA helps determine if there's a significant change over time."
   ]
  },
  {
   "cell_type": "markdown",
   "id": "91f9830e-5e1e-424f-b5fa-c62ae6750db6",
   "metadata": {},
   "source": [
    "## Q3. What is the partitioning of variance in ANOVA, and why is it important to understand this concept?\n"
   ]
  },
  {
   "cell_type": "markdown",
   "id": "70dfd299-202b-4b7d-8b0b-3f9d56633b1d",
   "metadata": {},
   "source": [
    "The partitioning of variance in Analysis of Variance (ANOVA) is a fundamental concept that helps us understand how the total variation in a dataset is divided into different components, each with its own source. ANOVA decomposes the total variation in the data into three main components:\n",
    "\n",
    "Total Variance (SST): This represents the total variability in the dependent variable. It is calculated as the sum of the squared differences between each data point and the overall mean.\n",
    "\n",
    "Between-Group Variance (SSB): This represents the variation between different groups or levels of the independent variable. It measures how much the group means differ from the overall mean.\n",
    "\n",
    "Within-Group Variance (SSW): This represents the variation within each group. It measures how much individual data points within each group vary from their group mean."
   ]
  },
  {
   "cell_type": "markdown",
   "id": "c78b025b-bcdb-45d4-9d34-fc90d61b52b3",
   "metadata": {},
   "source": [
    "## Q4. How would you calculate the total sum of squares (SST), explained sum of squares (SSE), and residual sum of squares (SSR) in a one-way ANOVA using Python?\n"
   ]
  },
  {
   "cell_type": "code",
   "execution_count": 15,
   "id": "19e9b482-184c-4a43-9e87-bc16be400807",
   "metadata": {},
   "outputs": [],
   "source": [
    "import numpy as np\n",
    "import pandas as pd\n",
    "from scipy import stats\n",
    "\n",
    "data = {\n",
    "    'Group1': [45, 50, 55, 60],\n",
    "    'Group2': [55, 60, 65, 70],\n",
    "    'Group3': [65, 70, 75, 80],\n",
    "}\n",
    "\n",
    "# Convert the data into a DataFrame\n",
    "df = pd.DataFrame(data)\n",
    "\n",
    "# Calculate the overall mean\n",
    "grand_mean = df.values.mean()\n",
    "\n",
    "# Calculate the Total Sum of Squares (SST)\n",
    "sst = ((df - grand_mean) ** 2).sum().sum()\n",
    "\n",
    "# Calculate the Explained Sum of Squares (SSE)\n",
    "group_means = df.mean()\n",
    "sse = ((group_means - grand_mean) ** 2 * len(df)).sum()\n",
    "\n",
    "# Calculate the Residual Sum of Squares (SSR)\n",
    "ssr = sst - sse"
   ]
  },
  {
   "cell_type": "markdown",
   "id": "c24a174d-2780-47a8-a524-0fee1bb2f908",
   "metadata": {},
   "source": [
    "## Q5. In a two-way ANOVA, how would you calculate the main effects and interaction effects using Python?\n"
   ]
  },
  {
   "cell_type": "markdown",
   "id": "5d7da5ce-7020-409a-b30d-5b3ed7bdef83",
   "metadata": {},
   "source": [
    "In Python,\n",
    "The main effect and Interaction effect can be calculated by these formulaes,\n",
    "\n",
    "Consider A and B be the datasets,\n",
    "\n",
    "Main Effect A = SS(A) / SS(Residual)\n",
    "\n",
    "Main Effect B = SS(B) / SS(Residual)\n",
    "\n",
    "Interaction Effect = SS(A:B) / SS(Residual)"
   ]
  },
  {
   "cell_type": "markdown",
   "id": "afef18b4-bcc5-423c-9f92-8063179638c4",
   "metadata": {},
   "source": [
    "## Q6. Suppose you conducted a one-way ANOVA and obtained an F-statistic of 5.23 and a p-value of 0.02. What can you conclude about the differences between the groups, and how would you interpret these results?"
   ]
  },
  {
   "cell_type": "markdown",
   "id": "4ca52d11-e82b-41eb-aa51-3974a94fcd7e",
   "metadata": {},
   "source": [
    "F-Statistic = 5.23\n",
    "\n",
    "P-Value: 0.02\n",
    "\n",
    "Null Hypothesis (H0): The null hypothesis in ANOVA is that there are no significant differences among the group means. In other words, all group means are equal.\n",
    "\n",
    "Alternative Hypothesis (Ha): The alternative hypothesis is that at least one group mean is significantly different from the others.\n",
    "\n",
    "If the p-value is less than the chosen significance level, you would typically reject the null hypothesis.\n",
    "Rejecting the null hypothesis implies that there are statistically significant differences among the group means.\n",
    "Therefore, you can conclude that there are significant differences between at least some of the groups in your study.\n"
   ]
  },
  {
   "cell_type": "markdown",
   "id": "4cc7204c-9310-4ee0-8bfd-d6737c7fe867",
   "metadata": {},
   "source": [
    "## Q7. In a repeated measures ANOVA, how would you handle missing data, and what are the potential consequences of using different methods to handle missing data?\n"
   ]
  },
  {
   "cell_type": "markdown",
   "id": "3eca9ad2-ffc2-456c-a545-f0926f051522",
   "metadata": {},
   "source": [
    "Below Methods can be used for handling missing data.\n",
    "\n",
    "Listwise Deletion (Complete Case Analysis): In this approach, cases with any missing data are removed from the analysis. This is the simplest method but can lead to loss of statistical power and potentially biased results, especially if the missing data is not missing completely at random. It may also reduce the sample size substantially.\n",
    "Consequence: Reduced sample size, potential bias if data is not MCAR, loss of information.\n",
    "\n",
    "Mean Imputation: Missing values are replaced with the mean of the available data for that variable. While this method retains the sample size, it may introduce bias because it assumes that missing values are missing at random.\n",
    "Consequence: Potential bias, underestimation of variance.\n",
    "\n",
    "Last Observation Carried Forward : In repeated measures data, missing values are imputed with the value from the previous time point. This assumes that values remain constant between time points and can be problematic if this assumption is not met.\n",
    "Consequence: Potentially inaccurate representation of change over time, assumes constancy.\n",
    "\n",
    "Interpolation or Extrapolation: You can estimate missing values using statistical techniques like linear interpolation or regression imputation. This approach tries to capture the underlying trends in the data but relies on assumptions about the data's functional form.\n",
    "Consequence: Results may be sensitive to the chosen imputation model, and assumptions about data trends may not always hold."
   ]
  },
  {
   "cell_type": "markdown",
   "id": "1eaa8380-b6c7-420f-9023-8ad1d1488d53",
   "metadata": {},
   "source": [
    "## Q8. What are some common post-hoc tests used after ANOVA, and when would you use each one? Provide an example of a situation where a post-hoc test might be necessary.\n"
   ]
  },
  {
   "cell_type": "markdown",
   "id": "e468a829-3638-4e0e-a35f-404214912d9f",
   "metadata": {},
   "source": [
    "Tukey's Honestly Significant Difference (HSD) Test: Tukey's HSD is used when you have equal sample sizes in each group. It controls the overall Type I error rate and provides simultaneous confidence intervals for all possible pairwise group comparisons.\n",
    "\n",
    "When to Use: Tukey's HSD is widely used and appropriate when you have no specific a priori hypotheses about which groups will differ. It's conservative and reliable but may not be suitable when sample sizes are unequal.\n",
    "\n",
    "Bonferroni Correction: The Bonferroni correction is a conservative method that adjusts the significance level for each pairwise comparison to control the familywise error rate. It's suitable when you want to control the overall Type I error rate, but it can be overly conservative when you have many comparisons.\n",
    "\n",
    "When to Use: Bonferroni correction is useful when you want to perform multiple pairwise comparisons, and you want to maintain a low overall Type I error rate.\n",
    "\n",
    "Sidak Correction: The Sidak correction is similar to Bonferroni but often less conservative. It adjusts the significance level for each comparison, considering the number of comparisons being made.\n",
    "\n",
    "When to Use: Sidak correction is suitable when you have multiple comparisons but want to be less conservative than Bonferroni.\n",
    "\n",
    "Dunnett's Test: Dunnett's test is used when you have a control group and you want to compare all other groups to the control group. It controls the Type I error rate for these specific comparisons.\n",
    "\n",
    "When to Use: Dunnett's test is appropriate when you have a control group and you want to identify which treatment groups differ significantly from the control group.\n",
    "\n",
    "Scheffé's Test: Scheffé's test is a less conservative but powerful method that can be used when sample sizes are unequal and when you have a large number of comparisons. It provides a broad range of confidence intervals for pairwise comparisons.\n",
    "\n",
    "When to Use: Scheffé's test is suitable when you have unequal sample sizes and you want to control the overall Type I error rate while performing multiple comparisons.\n",
    "\n",
    "Example Scenario:\n",
    "Suppose you're conducting a medical study to compare the effectiveness of four different drugs (A, B, C, D) in reducing blood pressure. You use ANOVA to test if there are any significant differences among the drug treatments. After finding a significant difference, you want to know which specific drug(s) are different from each other in terms of their effects on blood pressure. In this case, you would use post-hoc tests, such as Tukey's HSD or Scheffé's test, to perform pairwise comparisons between the drugs and identify where the significant differences exist."
   ]
  },
  {
   "cell_type": "markdown",
   "id": "e043d646-b50f-4b2f-a988-c7812e3cea6d",
   "metadata": {},
   "source": [
    "## Q9. A researcher wants to compare the mean weight loss of three diets: A, B, and C. They collect data from 50 participants who were randomly assigned to one of the diets. Conduct a one-way ANOVA using Python to determine if there are any significant differences between the mean weight loss of the three diets. Report the F-statistic and p-value, and interpret the results.\n"
   ]
  },
  {
   "cell_type": "code",
   "execution_count": 2,
   "id": "2ea628b1-94b1-44dc-86c3-893f1b205a40",
   "metadata": {},
   "outputs": [
    {
     "name": "stdout",
     "output_type": "stream",
     "text": [
      "F-statistic: 54.61950286806887\n",
      "p-value: 3.689009004580535e-15\n",
      "Reject the null hypothesis.\n",
      "There is a significant difference in mean weight loss between at least two of the diets.\n"
     ]
    }
   ],
   "source": [
    "import numpy as np\n",
    "import scipy.stats as stats\n",
    "\n",
    "# Sample data (replace with your actual data)\n",
    "diet_A = [2.1, 1.8, 1.5, 2.0, 2.2, 1.9, 2.3, 1.7, 2.4, 1.6, 2.0, 1.8, 2.1, 1.9, 2.2, 2.0, 1.8, 2.3, 1.7, 2.4, 1.6, 2.0, 1.8, 2.1, 1.9]\n",
    "diet_B = [1.5, 1.7, 1.8, 1.6, 1.9, 1.8, 1.6, 1.7, 1.5, 1.7, 1.9, 1.6, 1.8, 1.7, 1.6, 1.5, 1.7, 1.8, 1.6, 1.7, 1.5, 1.9, 1.8, 1.6, 1.7]\n",
    "diet_C = [1.3, 1.2, 1.5, 1.4, 1.6, 1.3, 1.7, 1.2, 1.5, 1.3, 1.4, 1.6, 1.3, 1.2, 1.5, 1.4, 1.6, 1.3, 1.7, 1.2, 1.5, 1.3, 1.4, 1.6, 1.3]\n",
    "\n",
    "# Perform one-way ANOVA\n",
    "f_statistic, p_value = stats.f_oneway(diet_A, diet_B, diet_C)\n",
    "alpha = 0.05  # Significance level\n",
    "\n",
    "print(\"F-statistic:\", f_statistic)\n",
    "print(\"p-value:\", p_value)\n",
    "\n",
    "if p_value < alpha:\n",
    "    print(\"Reject the null hypothesis.\")\n",
    "    print(\"There is a significant difference in mean weight loss between at least two of the diets.\")\n",
    "else:\n",
    "    print(\"Fail to reject the null hypothesis.\")\n",
    "    print(\"There is no significant difference in mean weight loss between the diets.\")\n"
   ]
  },
  {
   "cell_type": "markdown",
   "id": "89044188-eb1f-4d2b-bba0-f2747d26b390",
   "metadata": {},
   "source": [
    "## Q10. A company wants to know if there are any significant differences in the average time it takes to complete a task using three different software programs: Program A, Program B, and Program C. They randomly assign 30 employees to one of the programs and record the time it takes each employee to complete the task. Conduct a two-way ANOVA using Python to determine if there are any main effects or interaction effects between the software programs and employee experience level (novice vs. experienced). Report the F-statistics and p-values, and interpret the results.\n"
   ]
  },
  {
   "cell_type": "code",
   "execution_count": 5,
   "id": "cf0a0026-26d3-4287-9f20-11689bae493a",
   "metadata": {},
   "outputs": [
    {
     "name": "stdout",
     "output_type": "stream",
     "text": [
      "                           df      sum_sq    mean_sq         F    PR(>F)\n",
      "Program                   2.0   25.439518  12.719759  2.145100  0.138964\n",
      "ExperienceLevel           1.0    4.729822   4.729822  0.797652  0.380665\n",
      "Program:ExperienceLevel   2.0   13.529836   6.764918  1.140857  0.336272\n",
      "Residual                 24.0  142.312322   5.929680       NaN       NaN\n"
     ]
    }
   ],
   "source": [
    "import numpy as np\n",
    "import pandas as pd\n",
    "import statsmodels.api as sm\n",
    "from statsmodels.formula.api import ols\n",
    "significance_level = 0.05\n",
    "\n",
    "np.random.seed(0)  \n",
    "n = 30 \n",
    "programs = ['A', 'B', 'C']\n",
    "experience_levels = ['Novice', 'Experienced']\n",
    "\n",
    "# Generate random task completion times\n",
    "data = {'Program': np.random.choice(programs, n),\n",
    "        'ExperienceLevel': np.random.choice(experience_levels, n),\n",
    "        'Time': np.random.normal(loc=15, scale=3, size=n)}  \n",
    "\n",
    "# Step 2: Fit the ANOVA model\n",
    "formula = 'Time ~ Program + ExperienceLevel + Program:ExperienceLevel'\n",
    "model = ols(formula, data=df).fit()\n",
    "anova_table = sm.stats.anova_lm(model)\n",
    "\n",
    "# Step 3: Print the Anova Table\n",
    "print(anova_table)"
   ]
  },
  {
   "cell_type": "markdown",
   "id": "54ccf7af-a706-4b91-8bff-c5aa6f2b6a04",
   "metadata": {},
   "source": [
    "### Interpretation\n",
    "Since, The p-value for (Program, Experience Level and their intercation) is greater than significance level of 0.05 . Hence we conclude their is no significant effect"
   ]
  },
  {
   "cell_type": "markdown",
   "id": "bbb57f12-028f-48f1-929e-36aee16eca06",
   "metadata": {},
   "source": [
    "## Q11. An educational researcher is interested in whether a new teaching method improves student test scores. They randomly assign 100 students to either the control group (traditional teaching method) or the experimental group (new teaching method) and administer a test at the end of the semester. Conduct a two-sample t-test using Python to determine if there are any significant differences in test scores between the two groups. If the results are significant, follow up with a post-hoc test to determine which group(s) differ significantly from each other.\n"
   ]
  },
  {
   "cell_type": "code",
   "execution_count": null,
   "id": "b58a5364-aecf-4087-9d65-1d0956749770",
   "metadata": {},
   "outputs": [],
   "source": []
  },
  {
   "cell_type": "markdown",
   "id": "9a71a266-4cfb-4fb5-9db3-aa8f19e6b271",
   "metadata": {},
   "source": [
    "## Q12. A researcher wants to know if there are any significant differences in the average daily sales of three retail stores: Store A, Store B, and Store C. They randomly select 30 days and record the sales for each store on those days. Conduct a repeated measures ANOVA using Python to determine if there are any significant differences in sales between the three stores. If the results are significant, follow up with a posthoc test to determine which store(s) differ significantly from each other."
   ]
  },
  {
   "cell_type": "code",
   "execution_count": null,
   "id": "085b0bb8-1ced-4b6b-831f-da9e1d27b7d0",
   "metadata": {},
   "outputs": [],
   "source": []
  },
  {
   "cell_type": "code",
   "execution_count": null,
   "id": "15a200d0-4e3c-4aa1-bed8-59e97220ad5a",
   "metadata": {},
   "outputs": [],
   "source": []
  },
  {
   "cell_type": "code",
   "execution_count": null,
   "id": "bda67daf-1b9c-42f0-aa78-cfb87f1c3349",
   "metadata": {},
   "outputs": [],
   "source": []
  },
  {
   "cell_type": "code",
   "execution_count": null,
   "id": "2e5e205a-2c54-4368-8183-2c23910f208a",
   "metadata": {},
   "outputs": [],
   "source": []
  },
  {
   "cell_type": "code",
   "execution_count": null,
   "id": "1b2c8065-0d98-4385-9d45-9dc7a3ecafb6",
   "metadata": {},
   "outputs": [],
   "source": []
  },
  {
   "cell_type": "code",
   "execution_count": null,
   "id": "4c3f2b95-b616-4a54-ab52-6ce4aaa2faaf",
   "metadata": {},
   "outputs": [],
   "source": []
  }
 ],
 "metadata": {
  "kernelspec": {
   "display_name": "Python 3 (ipykernel)",
   "language": "python",
   "name": "python3"
  },
  "language_info": {
   "codemirror_mode": {
    "name": "ipython",
    "version": 3
   },
   "file_extension": ".py",
   "mimetype": "text/x-python",
   "name": "python",
   "nbconvert_exporter": "python",
   "pygments_lexer": "ipython3",
   "version": "3.10.8"
  }
 },
 "nbformat": 4,
 "nbformat_minor": 5
}
