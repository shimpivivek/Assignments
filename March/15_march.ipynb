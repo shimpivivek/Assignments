{
 "cells": [
  {
   "cell_type": "markdown",
   "id": "b3e92cdf-866d-4a0b-9706-0d8b9c79189e",
   "metadata": {},
   "source": [
    "## Q.1) Explain the following with an example ?\n",
    "1) Artificial Intelligence\n",
    "2) Machine learning\n",
    "3) Deep learning"
   ]
  },
  {
   "cell_type": "markdown",
   "id": "fd9b2e42-2cea-410f-ba0e-48bedce3cba5",
   "metadata": {},
   "source": [
    "Artificial Intelligence:- \n",
    "Artificial Intelligence refers to computer systems that can perform tasks requiring human-like intelligence. It includes learning, reasoning, problem-solving, and understanding natural language. For example, self-driving cars use AI to navigate, make decisions, and adapt to changing road conditions, demonstrating advanced machine learning capabilities."
   ]
  },
  {
   "cell_type": "markdown",
   "id": "6227218c-a913-4d0a-bc19-6cda6034210d",
   "metadata": {},
   "source": [
    "Machine leaning:-\n",
    "Machine Learning is a subset of Artificial Intelligence that enables systems to learn and improve from experience. Instead of being explicitly programmed, algorithms use data to train models and make predictions or decisions without human intervention. For example, ML is used in spam filters, recommendation systems."
   ]
  },
  {
   "cell_type": "markdown",
   "id": "3d2f17ed-2dd4-493b-b3cd-9e66208b1631",
   "metadata": {},
   "source": [
    "Deep Learning:-\n",
    "Deep Learning is a subset of Machine Learning that utilizes artificial neural networks with multiple layers to extract intricate patterns from vast amounts of data. It's particularly adept at tasks like image and speech recognition. For instance, in healthcare, deep learning aids in diagnosing diseases from medical images like X-rays and MRIs."
   ]
  },
  {
   "cell_type": "markdown",
   "id": "9d1bc2b4-479f-423f-8eba-80b302a53a83",
   "metadata": {},
   "source": [
    "## Q.2 ) What is Supervised learning ? List some examples of supervised learning ?"
   ]
  },
  {
   "cell_type": "markdown",
   "id": "a4ba8205-e201-4cc2-90a5-a8c6f2bbb7b5",
   "metadata": {},
   "source": [
    "\n",
    "Supervised learning is a type of machine learning where the algorithm learns from labeled data. It's provided with input-output pairs during training, allowing it to map input to output and make predictions on new, unseen data.\n",
    "\n",
    "Example :- Image Classification, Sentiment Analysis, Regression analysis."
   ]
  },
  {
   "cell_type": "markdown",
   "id": "64cf43ef-f73b-4b7d-b6f9-0824434d5308",
   "metadata": {},
   "source": [
    "## Q.3 ) What is UnSupervised learning ? List some examples of unsupervised learning ?"
   ]
  },
  {
   "cell_type": "markdown",
   "id": "44baa8ac-3407-4968-9d75-42aca8b7f926",
   "metadata": {},
   "source": [
    "Unsupervised learning is a type of machine learning where models learn patterns from unlabeled data without explicit supervision. Instead of having predefined outcomes, the algorithm identifies hidden structures or relationships within the data.\n",
    "\n",
    "Example :- Clustering,Dimensionlity reduction,Generative Adversarial Networks etc"
   ]
  },
  {
   "cell_type": "markdown",
   "id": "1a62104b-b316-4fba-aee2-ed341c3000ea",
   "metadata": {},
   "source": [
    "## Q.4) What is the difference between AI,ML,DLand DS ?"
   ]
  },
  {
   "cell_type": "markdown",
   "id": "0c8753af-fd06-4c85-9cb2-e03807eeab62",
   "metadata": {},
   "source": [
    "Artificial Intelligence : AI is a broad field of computer science focused on creating systems capable of intelligent behavior. It encompasses a range of techniques and approaches, including machine learning and deep learning. AI aims to simulate human cognitive functions like learning, reasoning, problem-solving, and natural language understanding.\n",
    "\n",
    "Machine Learning : ML is a subset of AI that involves the development of algorithms that can learn and make predictions or decisions based on data. Instead of being explicitly programmed, models learn from experience and improve over time. This field is divided into supervised learning, unsupervised learning, and reinforcement learning.\n",
    "\n",
    "Deep Learning : DL is a specialized form of machine learning that employs artificial neural networks with multiple layers to extract complex patterns from large datasets. It's particularly effective in tasks like image and speech recognition, natural language processing, and autonomous systems.\n",
    "\n",
    "Data Science : Data Science is a multidisciplinary field that involves the extraction of knowledge and insights from data. It encompasses various techniques such as data analysis, data mining, statistics, and machine learning. Data scientists work on tasks like data cleaning, visualization, and modeling to extract valuable information for decision-making."
   ]
  },
  {
   "cell_type": "markdown",
   "id": "ca509bd0-e40c-470c-a3a8-46baafa73af6",
   "metadata": {},
   "source": [
    "## Q.5 ) What is the main difference between supervised, unsupervised and semisupervised ?"
   ]
  },
  {
   "cell_type": "markdown",
   "id": "07d93431-09aa-4bb3-ad79-c305795590cb",
   "metadata": {},
   "source": [
    "Supervised Learning:\n",
    "\n",
    "In supervised learning, the model is trained on a labeled dataset, where each input data point is associated with a corresponding desired output or target.\n",
    "The model learns to make predictions or decisions by minimizing the error between its predictions and the actual labels in the training data.\n",
    "In a spam email classifier, the model is trained on a dataset where each email is labeled as either spam or not spam.\n",
    "\n",
    "Unsupervised Learning:\n",
    "\n",
    "Unsupervised learning involves training models on unlabeled data. The algorithm identifies patterns, structures, or relationships within the data without any predefined outcomes.\n",
    "The model learns to represent the inherent structure of the data, often by clustering similar data points or reducing the dimensionality of the data.\n",
    "Clustering customer data to identify distinct segments based on behavior without any prior information about customer categories.\n",
    "\n",
    "Semi-Supervised Learning:\n",
    "\n",
    "Semi-supervised learning is a hybrid approach that uses a combination of labeled and unlabeled data for training.\n",
    " It leverages the limited labeled data along with the additional unlabeled data to improve the model's performance. The model uses the labeled data to make predictions and the unlabeled data to uncover underlying patterns.\n",
    "Training a speech recognition system with a small dataset of labeled audio samples and a larger dataset of unlabeled audio data. The model learns to recognize speech patterns more accurately by incorporating information from both datasets."
   ]
  },
  {
   "cell_type": "markdown",
   "id": "8446b995-56b9-4a03-8ea4-403543eeea82",
   "metadata": {},
   "source": [
    "## Q.6) Explain Train,test validate split ? Explain Importance of each term ?"
   ]
  },
  {
   "cell_type": "markdown",
   "id": "a65eb41b-82d6-448e-b478-3d1d7706aaab",
   "metadata": {},
   "source": [
    "Training Set:\n",
    "\n",
    "This is the largest portion of the data, typically around 70-80% of the total dataset. It's used to train the model, meaning the algorithm learns from this portion of the data.\n",
    "\n",
    "Importance: The training set is crucial because it's where the model learns the underlying patterns and relationships within the data. A well-chosen training set leads to a better-performing model.\n",
    "\n",
    "Validation Set:\n",
    "\n",
    "This is a smaller portion of the data (usually around 10-15% of the total) that's set aside to fine-tune the model's hyperparameters.\n",
    "\n",
    "Importance: The validation set is used to assess how well the model is likely to perform on unseen data. It helps in adjusting the model's settings, like learning rate or complexity, to prevent overfitting or underfitting.\n",
    "\n",
    "Test Set:\n",
    "\n",
    "This is another portion of the data, separate from the training and validation sets, and is typically about 10-15% of the total dataset.\n",
    "\n",
    "Importance: The test set is critical for assessing the model's performance on completely unseen data. It provides an unbiased evaluation of the model's generalization ability, giving an estimate of its real-world performance."
   ]
  },
  {
   "cell_type": "markdown",
   "id": "45394ff1-90b8-4eef-9ada-6682b7373b05",
   "metadata": {},
   "source": [
    "## Q.7) How can unsupervised learning be use in anomaly detection ?"
   ]
  },
  {
   "cell_type": "markdown",
   "id": "29ef96d5-f9b7-470d-bd21-9265b228e3cd",
   "metadata": {},
   "source": [
    "\n",
    "Unsupervised learning is particularly effective in anomaly detection because it doesn't require labeled data with predefined outcomes. Instead, it identifies patterns or structures within the data without any prior knowledge of what constitutes an anomaly.\n",
    "Unsupervised learning is especially valuable in anomaly detection when labeled anomaly data is scarce or when anomalies are hard to define beforehand. It allows the model to learn the normal behavior of the system and identify deviations from that norm as potential anomalies. This makes it a powerful tool in various fields, including cybersecurity, fraud detection, and quality control."
   ]
  },
  {
   "cell_type": "markdown",
   "id": "02bad439-dec8-48fe-94b6-7de906b29b29",
   "metadata": {
    "tags": []
   },
   "source": [
    "## Q8 ) List down some commonly used Supervised and Unsupervised Algorithms ?"
   ]
  },
  {
   "cell_type": "markdown",
   "id": "23dfed93-a97e-47a5-830e-6c3aa2e5e0f8",
   "metadata": {},
   "source": [
    "### Supervised Learning Algorithms:\n",
    "\n",
    "Linear Regression: Predicts a continuous target variable based on linear relationships in the data.\n",
    "\n",
    "Logistic Regression: Classifies data into discrete categories based on a logistic function.\n",
    "\n",
    "Decision Trees: Builds a tree-like structure to make decisions by recursively splitting the data based on features.\n",
    "\n",
    "Random Forest: An ensemble method that combines multiple decision trees to improve accuracy and reduce overfitting.\n",
    "\n",
    "Support Vector Machines (SVM): Separates data points in a high-dimensional space to classify them into different categories.\n",
    "\n",
    "K-Nearest Neighbors (KNN): Classifies data points by considering the 'k' nearest neighbors in the feature space.\n",
    "\n",
    "Naive Bayes: Uses Bayes' theorem to classify data based on the probability of a feature belonging to a certain class.\n",
    "\n",
    "Neural Networks: Mimics the structure of the human brain to learn complex relationships in data."
   ]
  },
  {
   "cell_type": "markdown",
   "id": "0f69577d-ae87-45be-b6f6-1055c6a670e3",
   "metadata": {
    "tags": []
   },
   "source": [
    "### Unsupervised Learning Algorithms:\n",
    "\n",
    "K-Means Clustering: Divides data into 'k' clusters based on similarity.\n",
    "\n",
    "Hierarchical Clustering: Creates a tree of clusters, where similar data points are grouped together.\n",
    "\n",
    "DBSCAN (Density-Based Spatial Clustering of Applications with Noise): Clusters data based on density, forming clusters of varying shapes.\n",
    "\n",
    "PCA (Principal Component Analysis): Reduces the dimensionality of data while retaining as much information as possible.\n",
    "\n",
    "Autoencoders: Neural networks that learn to compress and decompress data, often used for dimensionality reduction and anomaly detection.\n",
    "\n",
    "t-SNE (t-Distributed Stochastic Neighbor Embedding): Reduces high-dimensional data to two or three dimensions for visualization.\n",
    "\n",
    "Isolation Forest: An ensemble learning method for anomaly detection.\n",
    "\n",
    "Self-Organizing Maps (SOMs): Neural networks that create a low-dimensional representation of high-dimensional data."
   ]
  },
  {
   "cell_type": "code",
   "execution_count": null,
   "id": "8b28ef39-6c11-45ec-b45f-911a1ac6d441",
   "metadata": {},
   "outputs": [],
   "source": []
  },
  {
   "cell_type": "code",
   "execution_count": null,
   "id": "f4126326-54e2-4851-9051-b62866a1ec5b",
   "metadata": {},
   "outputs": [],
   "source": []
  },
  {
   "cell_type": "code",
   "execution_count": null,
   "id": "15a206ea-c306-46d8-bb2f-0f0eb4d83db5",
   "metadata": {},
   "outputs": [],
   "source": []
  },
  {
   "cell_type": "code",
   "execution_count": null,
   "id": "31f1f012-0b2f-4c47-a16f-506d3e339c8d",
   "metadata": {},
   "outputs": [],
   "source": []
  },
  {
   "cell_type": "code",
   "execution_count": null,
   "id": "c6b71ae7-158a-44bc-8861-bfeda431aa80",
   "metadata": {},
   "outputs": [],
   "source": []
  },
  {
   "cell_type": "code",
   "execution_count": null,
   "id": "025d6a34-b785-484c-b110-6bc079a8c307",
   "metadata": {},
   "outputs": [],
   "source": []
  },
  {
   "cell_type": "code",
   "execution_count": null,
   "id": "bf7dad48-b856-4d12-bbe4-4eb7d731ad38",
   "metadata": {},
   "outputs": [],
   "source": []
  },
  {
   "cell_type": "code",
   "execution_count": null,
   "id": "890955e3-59af-4c4d-8ec5-cb8e06c4864a",
   "metadata": {},
   "outputs": [],
   "source": []
  },
  {
   "cell_type": "code",
   "execution_count": null,
   "id": "3116b047-3dc6-45ad-a48a-e3a7f98966a0",
   "metadata": {},
   "outputs": [],
   "source": []
  },
  {
   "cell_type": "code",
   "execution_count": null,
   "id": "08907d83-1243-4035-99a6-ba59417eb305",
   "metadata": {},
   "outputs": [],
   "source": []
  },
  {
   "cell_type": "code",
   "execution_count": null,
   "id": "85502a14-62fb-48bb-98a3-2a0246e6cb1b",
   "metadata": {},
   "outputs": [],
   "source": []
  },
  {
   "cell_type": "code",
   "execution_count": null,
   "id": "354e186a-daae-4916-b499-4d50795ec431",
   "metadata": {},
   "outputs": [],
   "source": []
  },
  {
   "cell_type": "code",
   "execution_count": null,
   "id": "22f564de-4a9c-4c42-b93b-c0637688ffa3",
   "metadata": {},
   "outputs": [],
   "source": []
  },
  {
   "cell_type": "code",
   "execution_count": null,
   "id": "018a0e8b-32d4-4b63-8bcb-a0e926578210",
   "metadata": {},
   "outputs": [],
   "source": []
  }
 ],
 "metadata": {
  "kernelspec": {
   "display_name": "Python 3 (ipykernel)",
   "language": "python",
   "name": "python3"
  },
  "language_info": {
   "codemirror_mode": {
    "name": "ipython",
    "version": 3
   },
   "file_extension": ".py",
   "mimetype": "text/x-python",
   "name": "python",
   "nbconvert_exporter": "python",
   "pygments_lexer": "ipython3",
   "version": "3.10.8"
  }
 },
 "nbformat": 4,
 "nbformat_minor": 5
}
