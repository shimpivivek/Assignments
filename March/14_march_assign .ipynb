{
 "cells": [
  {
   "cell_type": "markdown",
   "id": "5bbd9ea2-c5fd-4928-b26a-20a509852d9b",
   "metadata": {},
   "source": [
    "### Q1. Write a Python function that takes in two arrays of data and calculates the F-value for a variance ratio test. The function should return the F-value and the corresponding p-value for the test.\n"
   ]
  },
  {
   "cell_type": "code",
   "execution_count": 3,
   "id": "af619c88-7877-46cf-a056-8d2598b9e0a9",
   "metadata": {},
   "outputs": [],
   "source": [
    "import numpy as np\n",
    "import scipy.stats as stat\n",
    "\n",
    "def variance_ratio_test(a,b):\n",
    "    f1=np.var(a)\n",
    "    f2=np.var(b)\n",
    "    df1=len(a)-1\n",
    "    df2=len(b)-1\n",
    "    F_value=f1/f2\n",
    "    print(f1,f2)\n",
    "    print(F_value)\n",
    "    print(stat.f.ppf(significance_value,df1,df2))"
   ]
  },
  {
   "cell_type": "code",
   "execution_count": 4,
   "id": "248222b1-34eb-4a39-8076-3ba323da4488",
   "metadata": {},
   "outputs": [
    {
     "name": "stdout",
     "output_type": "stream",
     "text": [
      "2.0 4.24\n",
      "0.4716981132075471\n",
      "6.388232908695868\n"
     ]
    }
   ],
   "source": [
    "data1 = [1, 2, 3, 4, 5]\n",
    "data2 = [5, 7, 7, 4, 10]\n",
    "significance_value=1-0.05\n",
    "variance_ratio_test(data1,data2)"
   ]
  },
  {
   "cell_type": "markdown",
   "id": "2c765b93-e420-4f97-a61f-0d79e4780f32",
   "metadata": {},
   "source": [
    "### Q2. Given a significance level of 0.05 and the degrees of freedom for the numerator and denominator of an F-distribution, write a Python function that returns the critical F-value for a two-tailed test.\n"
   ]
  },
  {
   "cell_type": "code",
   "execution_count": 5,
   "id": "f0086a20-b571-4e7c-86b0-7e63423c9667",
   "metadata": {},
   "outputs": [
    {
     "name": "stdout",
     "output_type": "stream",
     "text": [
      "5.987565126046928\n"
     ]
    }
   ],
   "source": [
    "significance_level=0.05\n",
    "df1=5\n",
    "df2=6\n",
    "print(stat.f.ppf(1-significance_level/2,df1,df2))"
   ]
  },
  {
   "cell_type": "markdown",
   "id": "55380abc-0f58-426b-9693-89760e682be5",
   "metadata": {},
   "source": [
    "### Q3. Write a Python program that generates random samples from two normal distributions with known variances and uses an F-test to determine if the variances are equal. The program should output the Fvalue, degrees of freedom, and p-value for the test.\n"
   ]
  },
  {
   "cell_type": "code",
   "execution_count": 6,
   "id": "a435fee5-b52a-437b-be71-9e2cf84d1a26",
   "metadata": {},
   "outputs": [
    {
     "name": "stdout",
     "output_type": "stream",
     "text": [
      "The F Value is equal to 8.24969160337973\n",
      "The Degree of freedom are 9 & 9\n",
      "The P value is  3.178893104458269\n"
     ]
    }
   ],
   "source": [
    "#assume Significance_level=0.05\n",
    "alpha=0.05\n",
    "np.random.seed(0)\n",
    "data1=np.random.normal(5,6,10)\n",
    "data2=np.random.normal(7,3,10)\n",
    "f_test=np.var(data1)/np.var(data2)\n",
    "df1=len(data1)-1\n",
    "df2=len(data2)-1\n",
    "critical_value=stat.f.ppf(1-alpha,df1,df2)\n",
    "print(\"The F Value is equal to\",f_test)\n",
    "print(\"The Degree of freedom are\", df1,\"&\", df2)\n",
    "print(\"The P value is \",critical_value )"
   ]
  },
  {
   "cell_type": "markdown",
   "id": "0712b9bd-3506-450d-b092-d371422bfcf1",
   "metadata": {},
   "source": [
    "### Q4.The variances of two populations are known to be 10 and 15. A sample of 12 observations is taken from each population. Conduct an F-test at the 5% significance level to determine if the variances are significantly different.\n"
   ]
  },
  {
   "cell_type": "code",
   "execution_count": 9,
   "id": "de57a116-8573-4c21-881c-63f972821d98",
   "metadata": {},
   "outputs": [
    {
     "name": "stdout",
     "output_type": "stream",
     "text": [
      "The variance is not significantly different\n"
     ]
    },
    {
     "data": {
      "text/plain": [
       "2.686637112495684"
      ]
     },
     "execution_count": 9,
     "metadata": {},
     "output_type": "execute_result"
    }
   ],
   "source": [
    "alpha=0.05\n",
    "var_a=10\n",
    "var_b=15\n",
    "df1=df2=12\n",
    "f_test=var_a/var_b\n",
    "crv=stat.f.ppf(1-alpha,df1,df2)\n",
    "if crv>f_test:\n",
    "    print(\"The variance is not significantly different\")\n",
    "else:\n",
    "    print(\"The Variance is significantly different\")"
   ]
  },
  {
   "cell_type": "markdown",
   "id": "dd034583-51c0-45e6-9bf1-0f24377850da",
   "metadata": {},
   "source": [
    "### Q5. A manufacturer claims that the variance of the diameter of a certain product is 0.005. A sample of 25 products is taken, and the sample variance is found to be 0.006. Conduct an F-test at the 1% significance level to determine if the claim is justified.\n"
   ]
  },
  {
   "cell_type": "code",
   "execution_count": 17,
   "id": "a943ec30-59af-4ac5-ab0b-abc19e498edb",
   "metadata": {},
   "outputs": [
    {
     "name": "stdout",
     "output_type": "stream",
     "text": [
      "The claim is Correct\n"
     ]
    }
   ],
   "source": [
    "#Assume population to be 10000\n",
    "pop_var=0.005\n",
    "sample_var=0.006\n",
    "population=10000\n",
    "sample=25\n",
    "df1=sample-1\n",
    "df2=population-1\n",
    "alpha=0.01\n",
    "f_test=pop_var/sample_var\n",
    "crv=stat.f.ppf(1-alpha,df1,df2)\n",
    "\n",
    "if f_test<crv:\n",
    "    print(\"The claim is Correct\")\n",
    "else:\n",
    "    print(\"The claim is Incorrect\")"
   ]
  },
  {
   "cell_type": "markdown",
   "id": "97f25bfb-d8e0-4fe1-af6f-2b5816805dc4",
   "metadata": {},
   "source": [
    "### Q6. Write a Python function that takes in the degrees of freedom for the numerator and denominator of an F-distribution and calculates the mean and variance of the distribution. The function should return the mean and variance as a tuple.\n"
   ]
  },
  {
   "cell_type": "code",
   "execution_count": null,
   "id": "d866417d-9db8-444d-a679-7f66b956fe68",
   "metadata": {},
   "outputs": [],
   "source": []
  },
  {
   "cell_type": "markdown",
   "id": "9eedd31a-6fa6-46ce-981a-1f021aead02d",
   "metadata": {},
   "source": [
    "### Q7. A random sample of 10 measurements is taken from a normal population with unknown variance. The sample variance is found to be 25. Another random sample of 15 measurements is taken from another normal population with unknown variance, and the sample variance is found to be 20. Conduct an F-test at the 10% significance level to determine if the variances are significantly different.\n"
   ]
  },
  {
   "cell_type": "code",
   "execution_count": 18,
   "id": "267f6c7d-73f6-4a0f-b8b0-52e354a1e0c1",
   "metadata": {},
   "outputs": [
    {
     "name": "stdout",
     "output_type": "stream",
     "text": [
      "The variance is not significantly different\n"
     ]
    }
   ],
   "source": [
    "sample1=10\n",
    "var_1=25\n",
    "sample2=15\n",
    "var_2=20\n",
    "alpha=0.1\n",
    "df1=sample1-1\n",
    "df2=sample2-1\n",
    "f_test=var_1/var_2\n",
    "crv=stat.f.ppf(1-alpha,df1,df2)\n",
    "if crv>f_test:\n",
    "    print(\"The variance is not significantly different\")\n",
    "else:\n",
    "    print(\"The Variance is significantly different\")"
   ]
  },
  {
   "cell_type": "markdown",
   "id": "5bc5f6e5-ed60-4547-902a-5f1dfe79bf00",
   "metadata": {},
   "source": [
    "### Q8. The following data represent the waiting times in minutes at two different restaurants on a Saturday night: Restaurant A: 24, 25, 28, 23, 22, 20, 27; Restaurant B: 31, 33, 35, 30, 32, 36. Conduct an F-test at the 5% significance level to determine if the variances are significantly different.\n"
   ]
  },
  {
   "cell_type": "code",
   "execution_count": 26,
   "id": "d3e3c9dc-39f5-4fcb-ac97-71202343b71c",
   "metadata": {},
   "outputs": [
    {
     "name": "stdout",
     "output_type": "stream",
     "text": [
      "The variance is not significantly different\n"
     ]
    }
   ],
   "source": [
    "A=[24, 25, 28, 23, 22, 20, 27]\n",
    "B=[31, 33, 35, 30, 32, 36]\n",
    "alpha=0.05\n",
    "var_a=np.var(A)\n",
    "var_b=np.var(B)\n",
    "df1=len(A)-1\n",
    "df2=len(B)-1\n",
    "f_test=var_a/var_b\n",
    "crv=stat.f.ppf(1-alpha,df1,df2)\n",
    "if crv>f_test:\n",
    "    print(\"The variance is not significantly different\")\n",
    "else:\n",
    "    print(\"The Variance is significantly different\")"
   ]
  },
  {
   "cell_type": "markdown",
   "id": "14dc3cab-3c9f-462a-a896-c6eb12726d0f",
   "metadata": {},
   "source": [
    "### Q9. The following data represent the test scores of two groups of students: Group A: 80, 85, 90, 92, 87, 83; Group B: 75, 78, 82, 79, 81, 84. Conduct an F-test at the 1% significance level to determine if the variances are significantly different."
   ]
  },
  {
   "cell_type": "code",
   "execution_count": 29,
   "id": "761ed03e-0337-4442-9000-b69667114c3a",
   "metadata": {},
   "outputs": [
    {
     "name": "stdout",
     "output_type": "stream",
     "text": [
      "The variance is not significantly different\n"
     ]
    }
   ],
   "source": [
    "A= [80, 85, 90, 92, 87, 83]\n",
    "B=[75, 78, 82, 79, 81, 84]\n",
    "alpha=0.01\n",
    "var_a=np.var(A)\n",
    "var_b=np.var(B)\n",
    "df1=len(A)-1\n",
    "df2=len(B)-1\n",
    "f_test=var_a/var_b\n",
    "crv=stat.f.ppf(1-alpha,df1,df2)\n",
    "if crv>f_test:\n",
    "    print(\"The variance is not significantly different\")\n",
    "else:\n",
    "    print(\"The Variance is significantly different\")"
   ]
  },
  {
   "cell_type": "code",
   "execution_count": 41,
   "id": "598368d3-6927-415e-9086-3afac2c974f5",
   "metadata": {},
   "outputs": [
    {
     "name": "stdout",
     "output_type": "stream",
     "text": [
      "The variance is not significantly different\n"
     ]
    }
   ],
   "source": [
    "A= [80, 85, 90, 92, 87, 83]\n",
    "B=[50, 45, 52, 53, 50, 51]\n",
    "alpha=0.01\n",
    "var_a=np.var(A)\n",
    "var_b=np.var(B)\n",
    "df1=len(A)-1\n",
    "df2=len(B)-1\n",
    "f_test=var_a/var_b\n",
    "crv=stat.f.ppf(1-alpha,df1,df2)\n",
    "if crv>f_test:\n",
    "    print(\"The variance is not significantly different\")\n",
    "else:\n",
    "    print(\"The Variance is significantly different\")"
   ]
  },
  {
   "cell_type": "code",
   "execution_count": null,
   "id": "1f2eba6f-1ad6-4db3-9543-471401c6a819",
   "metadata": {},
   "outputs": [],
   "source": []
  },
  {
   "cell_type": "code",
   "execution_count": null,
   "id": "243991ba-e5e6-407b-a1b1-ee53b1117ae3",
   "metadata": {},
   "outputs": [],
   "source": []
  },
  {
   "cell_type": "code",
   "execution_count": null,
   "id": "bdcea625-9673-4f4e-949e-4b8566e0a4b5",
   "metadata": {},
   "outputs": [],
   "source": []
  },
  {
   "cell_type": "code",
   "execution_count": null,
   "id": "bcbd1e79-1390-4ddc-96ea-918b1164d4e5",
   "metadata": {},
   "outputs": [],
   "source": []
  }
 ],
 "metadata": {
  "kernelspec": {
   "display_name": "Python 3 (ipykernel)",
   "language": "python",
   "name": "python3"
  },
  "language_info": {
   "codemirror_mode": {
    "name": "ipython",
    "version": 3
   },
   "file_extension": ".py",
   "mimetype": "text/x-python",
   "name": "python",
   "nbconvert_exporter": "python",
   "pygments_lexer": "ipython3",
   "version": "3.10.8"
  }
 },
 "nbformat": 4,
 "nbformat_minor": 5
}
