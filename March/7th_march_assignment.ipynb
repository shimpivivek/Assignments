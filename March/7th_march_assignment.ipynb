{
 "cells": [
  {
   "cell_type": "markdown",
   "id": "badf583d-6cd2-40bc-86e1-42bd02326547",
   "metadata": {},
   "source": [
    "## Q1. What are the three measures of central tendency?\n"
   ]
  },
  {
   "cell_type": "markdown",
   "id": "6e677dad-2bf7-49e1-a4ac-0fd84fa84f00",
   "metadata": {},
   "source": [
    "The three measures of central tendencies are\n",
    "1) Mean\n",
    "2) Median\n",
    "3) Mode"
   ]
  },
  {
   "cell_type": "markdown",
   "id": "d54e51df-e396-42ad-a785-c09c70dbd7a1",
   "metadata": {},
   "source": [
    "## Q2. What is the difference between the mean, median, and mode? How are they used to measure the central tendency of a dataset?\n"
   ]
  },
  {
   "cell_type": "markdown",
   "id": "4e1a667d-5325-4f43-9c16-28302ea81aac",
   "metadata": {},
   "source": [
    "Mean :-\n",
    "The mean is the average of all the values in a dataset. It is calculated by adding up all the values and then dividing by the total number of values. The mean is sensitive to outliers, as a single extreme value can significantly impact its value\n",
    "Median :- \n",
    "The median is the middle value of a dataset when the values are arranged in ascending or descending order. It divides the data into two equal halves, with half the values falling below and half above it. The median is not influenced by outliers , hence is used when data set have outliers\n",
    "Mode :-\n",
    "The mode is the value that appears most frequently in a dataset. It is the simplest measure of central tendency and can be used with both numerical and categorical data.\n",
    "\n",
    "they are used as,\n",
    "1) mean :- when arthematic mean is required\n",
    "2) median :- when dataset contains outliers, and middle value is expected.\n",
    "3) mode :- when maximum repeated datapoint is expected."
   ]
  },
  {
   "cell_type": "markdown",
   "id": "20d67f8b-cc80-4425-b290-1f5bf6b5a833",
   "metadata": {},
   "source": [
    "## 3. Measure the three measures of central tendency for the given height data:\n",
    "\n",
    "\n"
   ]
  },
  {
   "cell_type": "code",
   "execution_count": 12,
   "id": "f1e4f640-f166-4dcd-9f7e-003638b27644",
   "metadata": {},
   "outputs": [
    {
     "name": "stdout",
     "output_type": "stream",
     "text": [
      "The mode is  ModeResult(mode=177.0, count=3)\n",
      "The Median is  177.0\n",
      "The mean is 177.01875\n"
     ]
    }
   ],
   "source": [
    "import numpy as np\n",
    "import scipy.stats as stats\n",
    "x=[178,177,176,177,178.2,178,175,179,180,175,178.9,176.2,177,172.5,178,176.5]\n",
    "\n",
    "print(\"The mode is \" ,stats.mode(x,keepdims=False))\n",
    "print(\"The Median is \" , np.median(x))\n",
    "print(\"The mean is\", np.mean(x))"
   ]
  },
  {
   "cell_type": "markdown",
   "id": "9cc77e3e-2c5e-4178-96ff-f495c688de7a",
   "metadata": {},
   "source": [
    "## Q4. Find the standard deviation for the given data:\n",
    "\n",
    "\n"
   ]
  },
  {
   "cell_type": "code",
   "execution_count": 17,
   "id": "5351082c-9072-4c07-a6d7-1014ddafc075",
   "metadata": {},
   "outputs": [
    {
     "data": {
      "text/plain": [
       "1.7885814036548633"
      ]
     },
     "execution_count": 17,
     "metadata": {},
     "output_type": "execute_result"
    }
   ],
   "source": [
    "\n",
    "x1=[178,177,176,177,178.2,178,175,179,180,175,178.9,176.2,177,172.5,178,176.5]\n",
    "np.std(x1)"
   ]
  },
  {
   "cell_type": "markdown",
   "id": "bd0b821f-17d0-4e77-b4d6-9eb7e01629b0",
   "metadata": {},
   "source": [
    "## Q5. How are measures of dispersion such as range, variance, and standard deviation used to describe the spread of a dataset? Provide an example.\n"
   ]
  },
  {
   "cell_type": "markdown",
   "id": "668732db-6b0c-4ada-a81a-965573231c37",
   "metadata": {},
   "source": [
    "Measures of dispersion, including range, variance, and standard deviation, are used to describe the spread or variability of data within a dataset.\n",
    "1) Range :- Its the differnece betwwen the maximum and minimum datapoint in given dataset. It is sensitive to outliers\n",
    "2) Variance :- Its the average squared difference between data point and mean in given dataset.\n",
    "3) standard deviation :- it  is the square root of the variance. It provides a measure of how individual data points typically deviate from the mean."
   ]
  },
  {
   "cell_type": "code",
   "execution_count": 20,
   "id": "0b5ad0bd-d6c5-48f8-b37f-347ea9649f42",
   "metadata": {},
   "outputs": [
    {
     "name": "stdout",
     "output_type": "stream",
     "text": [
      "The range for above dataset is  7.5\n",
      "The Variance for above dataset is  3.199023437500001\n",
      "The standard deviation for above dataset is 1.7885814036548633\n"
     ]
    }
   ],
   "source": [
    "## Example\n",
    "x1=[178,177,176,177,178.2,178,175,179,180,175,178.9,176.2,177,172.5,178,176.5]\n",
    "print(\"The range for above dataset is \", np.max(x1)-np.min(x1))\n",
    "print(\"The Variance for above dataset is \", np.var(x1))\n",
    "print(\"The standard deviation for above dataset is\", np.std(x1))"
   ]
  },
  {
   "cell_type": "markdown",
   "id": "78fbd6c9-963f-4d2c-9813-2f7944e893da",
   "metadata": {},
   "source": [
    "## Q6. What is a Venn diagram?\n"
   ]
  },
  {
   "cell_type": "markdown",
   "id": "2aebff53-862d-4ce6-a06b-2316d47dc7b1",
   "metadata": {},
   "source": [
    "A Venn diagram is a graphical representation that illustrates the relationships between different sets or groups of items. It consists of overlapping circles or other shapes, each representing a distinct set, and the overlapping areas represent the elements that belong to multiple sets. Venn diagrams are commonly used to visually depict the intersections and differences among various groups or categories.\n",
    "\n",
    "Venn diagrams are particularly useful for showing the relationships between sets and helping to analyze the commonalities and differences between them. They are often used in mathematics, logic, statistics, and various fields where data or concepts can be categorized into different groups."
   ]
  },
  {
   "cell_type": "markdown",
   "id": "6ab3c51b-c9d0-4dfd-8a5f-329cb2c156f9",
   "metadata": {},
   "source": [
    "## Q7. For the two given sets A = (2,3,4,5,6,7) & B = (0,2,6,8,10). Find:\n",
    "\n",
    "## (i) A intersection B\n",
    "\n",
    "## (ii) A Union B\n"
   ]
  },
  {
   "cell_type": "markdown",
   "id": "0fe6dc4d-8748-42b9-87b7-092efcfafc6b",
   "metadata": {},
   "source": [
    "A intersection b =(2,6)\n",
    "\n",
    "A Union B =(2,3,4,5,6,7,0,8,10)"
   ]
  },
  {
   "cell_type": "markdown",
   "id": "af3073d5-6704-491e-9ab7-0a88d26bded4",
   "metadata": {},
   "source": [
    "## Q8. What do you understand about skewness in data?\n"
   ]
  },
  {
   "cell_type": "markdown",
   "id": "98c49b9a-aa31-4b12-99b4-a33d5289b757",
   "metadata": {},
   "source": [
    "Skewness in data refers to the asymmetry or lack of symmetry in the distribution of values within a dataset. It indicates the degree to which the data is skewed to one side of the mean. Skewness can provide insights into the shape and characteristics of the data distribution.\n",
    "The two types of skewness are\n",
    "1) Positive skew (Skewded towards right)\n",
    "2) Negative skew (Skewed towards left)"
   ]
  },
  {
   "cell_type": "markdown",
   "id": "45e2696c-89bf-402d-aef6-c49e6a0bbed9",
   "metadata": {},
   "source": [
    "## Q9. If a data is right skewed then what will be the position of median with respect to mean?\n"
   ]
  },
  {
   "cell_type": "markdown",
   "id": "d8ed0bbc-04a1-4ef9-a610-8aa991a88b60",
   "metadata": {},
   "source": [
    "Median will be smaller than mean. or mean will be away from median."
   ]
  },
  {
   "cell_type": "markdown",
   "id": "a18b2968-6ed1-41f2-b247-e4a4719598d3",
   "metadata": {},
   "source": [
    "## Q10. Explain the difference between covariance and correlation. How are these measures used in statistical analysis?\n"
   ]
  },
  {
   "cell_type": "markdown",
   "id": "1aee4acc-19ba-4092-b66a-74cd8ceefa12",
   "metadata": {},
   "source": [
    "\n",
    "Covariance and correlation are both measures used to quantify the relationship between two variables in a dataset, but they serve different purposes and have different properties.\n",
    "\n",
    "Covariance:\n",
    "Covariance measures the extent to which two variables change together. It indicates the direction of the linear relationship between variables and whether they tend to increase or decrease together. A positive covariance indicates a positive relationship (as one variable increases, the other tends to increase), while a negative covariance indicates a negative relationship (as one variable increases, the other tends to decrease). However, the magnitude of covariance doesn't provide information about the strength or degree of the relationship.\n",
    "\n",
    "Correlation:\n",
    "Correlation is a standardized measure that quantifies the strength and direction of the linear relationship between two variables. It ranges between -1 and +1, where -1 indicates a perfect negative linear relationship, 0 indicates no linear relationship, and +1 indicates a perfect positive linear relationship. Correlation allows for comparison of relationships across different datasets because it's independent of the units of measurement."
   ]
  },
  {
   "cell_type": "markdown",
   "id": "d1a42d9c-3a09-4f70-a80a-7168c8aff4de",
   "metadata": {},
   "source": [
    "## Q11. What is the formula for calculating the sample mean? Provide an example calculation for a dataset.\n"
   ]
  },
  {
   "cell_type": "markdown",
   "id": "34eedd52-3626-4980-868d-0c0920129f47",
   "metadata": {},
   "source": [
    "Sample mean = sum(xi)/n \n",
    "\n",
    "xi= invidual datapoints taken in sample\n",
    "\n",
    "n= number of datapoint in sample set"
   ]
  },
  {
   "cell_type": "code",
   "execution_count": 23,
   "id": "9d66f5cc-aebe-404a-b7b8-5906dc3d9135",
   "metadata": {},
   "outputs": [
    {
     "data": {
      "text/plain": [
       "5.428571428571429"
      ]
     },
     "execution_count": 23,
     "metadata": {},
     "output_type": "execute_result"
    }
   ],
   "source": [
    "x2=[2,6,8,4,7,3,8]\n",
    "np.mean(x2)"
   ]
  },
  {
   "cell_type": "markdown",
   "id": "16550c6b-2ace-4a11-b0ec-20544e2cef9f",
   "metadata": {},
   "source": [
    "## Q12. For a normal distribution data what is the relationship between its measure of central tendency?\n"
   ]
  },
  {
   "cell_type": "markdown",
   "id": "aa2ad906-560b-4a9d-858e-86cdcdbbbaaf",
   "metadata": {},
   "source": [
    "For a normally distributed data, all the central tendencies (mean,median,mode) are approximately same."
   ]
  },
  {
   "cell_type": "markdown",
   "id": "20aeb2f8-063b-468d-ae5b-c27ddae7d221",
   "metadata": {},
   "source": [
    "## Q13. How is covariance different from correlation?\n"
   ]
  },
  {
   "cell_type": "markdown",
   "id": "8a81d16b-ff44-4c67-95a4-dfe36d9367ae",
   "metadata": {},
   "source": [
    "Covariance:\n",
    "Covariance measures the extent to which two variables change together. It indicates the direction of the linear relationship between variables and whether they tend to increase or decrease together. A positive covariance indicates a positive relationship (as one variable increases, the other tends to increase), while a negative covariance indicates a negative relationship (as one variable increases, the other tends to decrease). However, the magnitude of covariance doesn't provide information about the strength or degree of the relationship.\n",
    "\n",
    "Correlation:\n",
    "Correlation is a standardized measure that quantifies the strength and direction of the linear relationship between two variables. It ranges between -1 and +1, where -1 indicates a perfect negative linear relationship, 0 indicates no linear relationship, and +1 indicates a perfect positive linear relationship. Correlation allows for comparison of relationships across different datasets because it's independent of the units of measurement.\n",
    "\n",
    "while both covariance and correlation indicate the relationship between two variables, correlation is a more standardized measure that provides a clear indication of the strength and direction of the relationship,making it a preferred choice in many cases, especially for comparing relationships across different datasets."
   ]
  },
  {
   "cell_type": "markdown",
   "id": "2b3414c5-d003-4858-af6c-b52846c78809",
   "metadata": {},
   "source": [
    "## Q14. How do outliers affect measures of central tendency and dispersion? Provide an example."
   ]
  },
  {
   "cell_type": "markdown",
   "id": "5da20465-3f85-4eda-932f-ec1be188cdb7",
   "metadata": {},
   "source": [
    "Central Tendencies :-\n",
    "1) Mean :- Since mean is arthematic mean. It is greatly affaeted by Outliers.\n",
    "2) median :- Median is not affected by outliers, hence is important when dataset contains outliers.\n",
    "3) Mode :- is not affeted by outliers\n",
    "\n",
    "Dispersion.\n",
    "1) Range :- Since its the diffence between max and min datapoint, its greatly affected by outlier.\n",
    "2) Variance and Standard Deviation: Since these measures involve squared differences from the mean, outliers can inflate these values, as squared differences from an outlier tend to be large."
   ]
  },
  {
   "cell_type": "code",
   "execution_count": 26,
   "id": "d5a8b094-8c14-4b3f-8827-4fee9be469be",
   "metadata": {},
   "outputs": [
    {
     "name": "stdout",
     "output_type": "stream",
     "text": [
      "The mode is  ModeResult(mode=1, count=1)\n",
      "The Median is  8.5\n",
      "The mean is 64.375\n",
      "The range for above dataset is  909\n",
      "The Variance for above dataset is  47689.609375\n",
      "The standard deviation for above dataset is 218.3795076810093\n"
     ]
    }
   ],
   "source": [
    "# Example consider below dataset.\n",
    "x3=[1,2,3,4,5,6,7,8,9,10,11,12,13,14,15,910]\n",
    "\n",
    "print(\"The mode is \" ,stats.mode(x3,keepdims=False))\n",
    "print(\"The Median is \" , np.median(x3))\n",
    "print(\"The mean is\", np.mean(x3))\n",
    "\n",
    "print(\"The range for above dataset is \", np.max(x3)-np.min(x3))\n",
    "print(\"The Variance for above dataset is \", np.var(x3))\n",
    "print(\"The standard deviation for above dataset is\", np.std(x3))"
   ]
  },
  {
   "cell_type": "code",
   "execution_count": null,
   "id": "114b8f2e-31d7-4456-b82d-3f67fab4e037",
   "metadata": {},
   "outputs": [],
   "source": []
  }
 ],
 "metadata": {
  "kernelspec": {
   "display_name": "Python 3 (ipykernel)",
   "language": "python",
   "name": "python3"
  },
  "language_info": {
   "codemirror_mode": {
    "name": "ipython",
    "version": 3
   },
   "file_extension": ".py",
   "mimetype": "text/x-python",
   "name": "python",
   "nbconvert_exporter": "python",
   "pygments_lexer": "ipython3",
   "version": "3.10.8"
  }
 },
 "nbformat": 4,
 "nbformat_minor": 5
}
