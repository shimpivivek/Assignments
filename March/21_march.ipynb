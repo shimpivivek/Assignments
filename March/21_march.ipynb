{
 "cells": [
  {
   "cell_type": "markdown",
   "id": "3fabcdc3-fb8f-4ca2-a143-659a578be8e6",
   "metadata": {},
   "source": [
    "## Q1. What is the difference between Ordinal Encoding and Label Encoding? Provide an example of when you might choose one over the other.\n"
   ]
  },
  {
   "cell_type": "markdown",
   "id": "358a81b1-abfd-42ed-a110-9b015592eaeb",
   "metadata": {},
   "source": [
    "Ordinal encoding:-\n",
    "\n",
    "Ordinal encoding is used when there is an inherent order or ranking among the categories. In other words, the categories have a meaningful sequence.Consider a dataset with a \"Size\" feature having categories like \"Small,\" \"Medium,\" and \"Large.\" Here, there is a clear order, and \"Large\" is greater than \"Medium,\" which is greater than \"Small.\"\n",
    "In ordinal encoding, the categories are assigned numerical values according to their order. For example, \"Small\" might be encoded as 1, \"Medium\" as 2, and \"Large\" as 3.Ordinal encoding is suitable when the categorical variable represents a meaningful and interpretable order, like levels of education (e.g., \"High School,\" \"Bachelor's,\" \"Master's,\" etc.).\n",
    "\n",
    "Label Encoding:\n",
    "\n",
    "Label encoding is used when there is no inherent order or ranking among the categories. Each category is treated as distinct and unrelated.Consider a dataset with a \"Color\" feature having categories like \"Red,\" \"Green,\" and \"Blue.\" There is no intrinsic order among these colors.\n",
    "In label encoding, each category is assigned a unique numerical value. For example, \"Red\" might be encoded as 1, \"Green\" as 2, and \"Blue\" as 3.Label encoding is suitable for nominal variables, where the categories are unordered, like types of fruits (\"Apple,\" \"Banana,\" \"Orange,\" etc.)."
   ]
  },
  {
   "cell_type": "markdown",
   "id": "aa43e508-5c2c-4e17-a701-3987f00977e1",
   "metadata": {},
   "source": [
    "## Q2. Explain how Target Guided Ordinal Encoding works and provide an example of when you might use it in a machine learning project.\n"
   ]
  },
  {
   "cell_type": "markdown",
   "id": "be9a5a41-d1d8-4e1e-9f89-74d34d891a86",
   "metadata": {},
   "source": [
    "Target Guided Ordinal Encoding is a technique used to convert categorical variables into ordinal numbers based on their relationship with the target variable in a supervised learning problem. Here's how it works:\n",
    "\n",
    "Step 1 - Calculate the Mean of the Target Variable:\n",
    "\n",
    "For each category in the categorical variable, compute the mean of the target variable. This means you calculate the average target value for each category.\n",
    "\n",
    "Step 2 - Order Categories by Mean:\n",
    "\n",
    "Sort the categories based on their mean target value. This establishes an ordinal relationship among the categories.\n",
    "Step 3 - Assign Ordinal Values:\n",
    "\n",
    "Assign ordinal values (integers) based on the order established in Step 2.\n",
    "\n",
    "This encoding technique is particularly useful when you have a categorical variable with an ordinal relationship to the target variable, and you want to preserve this relationship in the encoding"
   ]
  },
  {
   "cell_type": "markdown",
   "id": "34be81d6-85c5-408b-bc43-01283e2e40a6",
   "metadata": {},
   "source": [
    "## Q3. Define covariance and explain why it is important in statistical analysis. How is covariance calculated?\n"
   ]
  },
  {
   "cell_type": "markdown",
   "id": "1120ca40-cdd1-4568-bf33-f3747d9792eb",
   "metadata": {},
   "source": [
    "\n",
    "Covariance is a statistical measure that quantifies the extent to which two random variables change together. Specifically, it indicates the direction (positive or negative) of the linear relationship between variables. A positive covariance suggests that as one variable increases, the other tends to also increase, and vice versa.\n",
    "\n",
    "Covv (x,y) = sum {(xi-x^) (yi-y^) / n - 1 }\n",
    "Here xi= datapoint,\n",
    "     X^ = mean of x\n",
    "     yi= datapoint\n",
    "     y^ =mean of y\n",
    "     n = No. of observations"
   ]
  },
  {
   "cell_type": "markdown",
   "id": "2e6eb6ac-9ef1-4698-b2da-893dca0f4f5f",
   "metadata": {},
   "source": [
    "## Q4. For a dataset with the following categorical variables: Color (red, green, blue), Size (small, medium, large), and Material (wood, metal, plastic), perform label encoding using Python's scikit-learn library. Show your code and explain the output.\n"
   ]
  },
  {
   "cell_type": "code",
   "execution_count": 3,
   "id": "3c922ede-044e-4184-843e-855304abbe86",
   "metadata": {},
   "outputs": [],
   "source": [
    "import pandas as pd\n",
    "from sklearn.preprocessing import OneHotEncoder,LabelEncoder,OrdinalEncoder\n",
    "data1={\"Color\":[\"red\", 'green', 'blue']}\n",
    "data2={'size':[\"small\", \"medium\", 'large']}\n",
    "data3={\"Material\":['wood', 'metal', 'plastic']}\n",
    "df=pd.DataFrame(data1)\n",
    "encoder=OneHotEncoder()\n",
    "encoded=encoder.fit_transform(df[[\"Color\"]]).toarray()\n",
    "encoder_df=pd.DataFrame(encoded,columns=encoder.get_feature_names_out())\n",
    "encoder_df"
   ]
  },
  {
   "cell_type": "code",
   "execution_count": 22,
   "id": "f93009e9-ed68-4228-bbee-7fa54c109285",
   "metadata": {},
   "outputs": [
    {
     "name": "stderr",
     "output_type": "stream",
     "text": [
      "/opt/conda/lib/python3.10/site-packages/sklearn/preprocessing/_label.py:116: DataConversionWarning: A column-vector y was passed when a 1d array was expected. Please change the shape of y to (n_samples, ), for example using ravel().\n",
      "  y = column_or_1d(y, warn=True)\n"
     ]
    },
    {
     "data": {
      "text/plain": [
       "array([2, 0, 1])"
      ]
     },
     "execution_count": 22,
     "metadata": {},
     "output_type": "execute_result"
    }
   ],
   "source": [
    "df1=pd.DataFrame(data3)\n",
    "lbl_encoder=LabelEncoder()\n",
    "encoded=lbl_encoder.fit_transform(df1[[\"Material\"]])\n",
    "encoded"
   ]
  },
  {
   "cell_type": "code",
   "execution_count": 24,
   "id": "242c7519-6264-46db-80a0-b36861b37965",
   "metadata": {},
   "outputs": [
    {
     "data": {
      "text/plain": [
       "array([[0.],\n",
       "       [1.],\n",
       "       [2.]])"
      ]
     },
     "execution_count": 24,
     "metadata": {},
     "output_type": "execute_result"
    }
   ],
   "source": [
    "df2=pd.DataFrame(data2)\n",
    "od_encoder=OrdinalEncoder(categories=([['small', 'medium', 'large']]))\n",
    "od_encoded=od_encoder.fit_transform(df2[[\"size\"]])\n",
    "od_encoded"
   ]
  },
  {
   "cell_type": "markdown",
   "id": "a18b78ec-1044-48bb-9970-bf3220461575",
   "metadata": {},
   "source": [
    "## Q5. Calculate the covariance matrix for the following variables in a dataset: Age, Income, and Education level. Interpret the results.\n"
   ]
  },
  {
   "cell_type": "code",
   "execution_count": 37,
   "id": "0785c268-cc96-46d6-b518-766ce2ec76a8",
   "metadata": {},
   "outputs": [
    {
     "name": "stderr",
     "output_type": "stream",
     "text": [
      "/tmp/ipykernel_102/3907099459.py:5: FutureWarning: The default value of numeric_only in DataFrame.cov is deprecated. In a future version, it will default to False. Select only valid columns or specify the value of numeric_only to silence this warning.\n",
      "  df3.cov()\n"
     ]
    },
    {
     "data": {
      "text/html": [
       "<div>\n",
       "<style scoped>\n",
       "    .dataframe tbody tr th:only-of-type {\n",
       "        vertical-align: middle;\n",
       "    }\n",
       "\n",
       "    .dataframe tbody tr th {\n",
       "        vertical-align: top;\n",
       "    }\n",
       "\n",
       "    .dataframe thead th {\n",
       "        text-align: right;\n",
       "    }\n",
       "</style>\n",
       "<table border=\"1\" class=\"dataframe\">\n",
       "  <thead>\n",
       "    <tr style=\"text-align: right;\">\n",
       "      <th></th>\n",
       "      <th>Age</th>\n",
       "      <th>Income</th>\n",
       "    </tr>\n",
       "  </thead>\n",
       "  <tbody>\n",
       "    <tr>\n",
       "      <th>Age</th>\n",
       "      <td>100.0</td>\n",
       "      <td>1.500000e+05</td>\n",
       "    </tr>\n",
       "    <tr>\n",
       "      <th>Income</th>\n",
       "      <td>150000.0</td>\n",
       "      <td>2.583333e+08</td>\n",
       "    </tr>\n",
       "  </tbody>\n",
       "</table>\n",
       "</div>"
      ],
      "text/plain": [
       "             Age        Income\n",
       "Age        100.0  1.500000e+05\n",
       "Income  150000.0  2.583333e+08"
      ]
     },
     "execution_count": 37,
     "metadata": {},
     "output_type": "execute_result"
    }
   ],
   "source": [
    "df3=pd.DataFrame(data={ \"Age\":[20,30,40],\n",
    "       \"Income\":[20000,25000,50000],\n",
    "       \"Education level\":[\"Graduate\",\"Post_graduate\",\"Phd\"]\n",
    "})\n",
    "df3.cov()"
   ]
  },
  {
   "cell_type": "markdown",
   "id": "abf91c16-5db2-4ca0-a8f1-ed37b3c27d84",
   "metadata": {},
   "source": [
    "## Q6. You are working on a machine learning project with a dataset containing several categorical variables, including \"Gender\" (Male/Female), \"Education Level\" (High School/Bachelor's/Master's/PhD), and \"Employment Status\" (Unemployed/Part-Time/Full-Time). Which encoding method would you use for each variable, and why?\n"
   ]
  },
  {
   "cell_type": "markdown",
   "id": "0e246769-a69c-46e6-a369-35a2fa049a8d",
   "metadata": {},
   "source": [
    "For the Gender category we will use Nominal encoding (onehotencoding), this will give us data in [0,1].\n",
    "\n",
    "for the Education Level category, as the data has an specific order as per the qualification level we will use Ordinal Encoding.\n",
    "\n",
    "for the Employment Status category, data does not have any specific order Hence, both Nominal or Label Encoding can be used."
   ]
  },
  {
   "cell_type": "markdown",
   "id": "df593f6c-c040-4a95-afdb-17157bbb112b",
   "metadata": {},
   "source": [
    "## Q7. You are analyzing a dataset with two continuous variables, \"Temperature\" and \"Humidity\", and two categorical variables, \"Weather Condition\" (Sunny/Cloudy/Rainy) and \"Wind Direction\" (North/South/ East/West). Calculate the covariance between each pair of variables and interpret the results."
   ]
  },
  {
   "cell_type": "code",
   "execution_count": 44,
   "id": "03369d45-54b9-4053-a084-dbc53d5d4b2a",
   "metadata": {},
   "outputs": [
    {
     "name": "stdout",
     "output_type": "stream",
     "text": [
      "             Temperature    Humidity\n",
      "Temperature    83.333333   -0.666667\n",
      "Humidity       -0.666667  164.333333\n"
     ]
    },
    {
     "name": "stderr",
     "output_type": "stream",
     "text": [
      "/tmp/ipykernel_102/3943007267.py:8: FutureWarning: The default value of numeric_only in DataFrame.cov is deprecated. In a future version, it will default to False. Select only valid columns or specify the value of numeric_only to silence this warning.\n",
      "  print(df4.cov())\n"
     ]
    },
    {
     "data": {
      "text/plain": [
       "'Temperature and Humdidity are Negativily Correalated'"
      ]
     },
     "execution_count": 44,
     "metadata": {},
     "output_type": "execute_result"
    }
   ],
   "source": [
    "#Assuming the data\n",
    "data4={\"Temperature\":[23,45,32,36],\n",
    "       \"Humidity\":[30,28,45,55],\n",
    "       \"Weather Condition\":[\"Rainy\",\"Sunny\",\"Rainy\",\"Cloudy\"],\n",
    "       \"Wind Direction\":[\"North\",\"West\",\"South\",\"East\"]\n",
    "                            }\n",
    "df4=pd.DataFrame(data4)\n",
    "print(df4.cov())\n",
    "\n",
    "# Insights from the Covariance matrix\n",
    "\"Temperature and Humdidity are Negativily Correalated\""
   ]
  },
  {
   "cell_type": "code",
   "execution_count": null,
   "id": "12557c79-1bf7-4122-b982-771506b9a749",
   "metadata": {},
   "outputs": [],
   "source": []
  },
  {
   "cell_type": "code",
   "execution_count": null,
   "id": "4c3a0090-847e-42d9-9929-2cef9c822b0e",
   "metadata": {},
   "outputs": [],
   "source": []
  },
  {
   "cell_type": "code",
   "execution_count": null,
   "id": "ab3a1251-9194-48d0-a732-fca1544e03de",
   "metadata": {},
   "outputs": [],
   "source": []
  },
  {
   "cell_type": "code",
   "execution_count": null,
   "id": "8b518781-4b08-4ff1-8196-9f0e54eb055d",
   "metadata": {},
   "outputs": [],
   "source": []
  },
  {
   "cell_type": "code",
   "execution_count": null,
   "id": "7b2166ff-f583-4852-9673-6556045a0ff4",
   "metadata": {},
   "outputs": [],
   "source": []
  },
  {
   "cell_type": "code",
   "execution_count": null,
   "id": "358810e3-9087-497a-90a5-58ce26ac21ea",
   "metadata": {},
   "outputs": [],
   "source": []
  },
  {
   "cell_type": "code",
   "execution_count": null,
   "id": "bc7740be-daae-4adf-87a0-1060294fad7d",
   "metadata": {},
   "outputs": [],
   "source": []
  },
  {
   "cell_type": "code",
   "execution_count": null,
   "id": "38c47dd2-f99b-49af-9049-bcb8613fd70d",
   "metadata": {},
   "outputs": [],
   "source": []
  },
  {
   "cell_type": "code",
   "execution_count": null,
   "id": "2893411d-c413-45aa-9f19-1943258e3027",
   "metadata": {},
   "outputs": [],
   "source": []
  },
  {
   "cell_type": "code",
   "execution_count": null,
   "id": "3c64c84b-710e-4776-94ec-be609fa2b17d",
   "metadata": {},
   "outputs": [],
   "source": []
  },
  {
   "cell_type": "code",
   "execution_count": null,
   "id": "855b8b59-8559-4211-b684-9f9feaba8607",
   "metadata": {},
   "outputs": [],
   "source": []
  },
  {
   "cell_type": "code",
   "execution_count": null,
   "id": "6d9e48ff-686b-4339-9f4c-dcec27ca0b80",
   "metadata": {},
   "outputs": [],
   "source": []
  },
  {
   "cell_type": "code",
   "execution_count": null,
   "id": "5984436c-6d7e-4459-b7dd-7ab85a58442a",
   "metadata": {},
   "outputs": [],
   "source": []
  },
  {
   "cell_type": "code",
   "execution_count": null,
   "id": "fba8e786-fd99-4067-b24b-ba72c7b78825",
   "metadata": {},
   "outputs": [],
   "source": []
  },
  {
   "cell_type": "code",
   "execution_count": null,
   "id": "ad66043c-7a58-459f-a2e1-a566141ef317",
   "metadata": {},
   "outputs": [],
   "source": []
  },
  {
   "cell_type": "code",
   "execution_count": null,
   "id": "e0f7b547-1799-4508-a08c-affc462e3bf9",
   "metadata": {},
   "outputs": [],
   "source": []
  },
  {
   "cell_type": "code",
   "execution_count": null,
   "id": "123bd3d7-db5d-46f7-b321-3a2553dc22cb",
   "metadata": {},
   "outputs": [],
   "source": []
  },
  {
   "cell_type": "code",
   "execution_count": null,
   "id": "5987b70a-3045-4389-88d6-41a9bcf37a6d",
   "metadata": {},
   "outputs": [],
   "source": []
  },
  {
   "cell_type": "code",
   "execution_count": null,
   "id": "3c00c88d-6f16-49db-b6dc-a6431ef3dc95",
   "metadata": {},
   "outputs": [],
   "source": []
  },
  {
   "cell_type": "code",
   "execution_count": null,
   "id": "8f5d6c6e-30fb-440b-9cee-f1ab174f0c13",
   "metadata": {},
   "outputs": [],
   "source": []
  },
  {
   "cell_type": "code",
   "execution_count": null,
   "id": "238619ff-2f48-4951-8057-58fbd097cdf2",
   "metadata": {},
   "outputs": [],
   "source": []
  },
  {
   "cell_type": "code",
   "execution_count": null,
   "id": "b1f5538c-1515-4218-b16d-57af5c23ede6",
   "metadata": {},
   "outputs": [],
   "source": []
  },
  {
   "cell_type": "code",
   "execution_count": null,
   "id": "c4d9ba15-5724-4500-9039-f576982566e4",
   "metadata": {},
   "outputs": [],
   "source": []
  },
  {
   "cell_type": "code",
   "execution_count": null,
   "id": "d8faffa0-6975-4451-81c8-557c7a5bd5f2",
   "metadata": {},
   "outputs": [],
   "source": []
  },
  {
   "cell_type": "code",
   "execution_count": null,
   "id": "81b9c68a-d3fd-4282-8413-b1d62058f34e",
   "metadata": {},
   "outputs": [],
   "source": []
  }
 ],
 "metadata": {
  "kernelspec": {
   "display_name": "Python 3 (ipykernel)",
   "language": "python",
   "name": "python3"
  },
  "language_info": {
   "codemirror_mode": {
    "name": "ipython",
    "version": 3
   },
   "file_extension": ".py",
   "mimetype": "text/x-python",
   "name": "python",
   "nbconvert_exporter": "python",
   "pygments_lexer": "ipython3",
   "version": "3.10.8"
  }
 },
 "nbformat": 4,
 "nbformat_minor": 5
}
