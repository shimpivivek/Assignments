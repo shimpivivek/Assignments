{
 "cells": [
  {
   "cell_type": "markdown",
   "id": "953325ef-4223-49bd-804d-dad1ea500b63",
   "metadata": {},
   "source": [
    "## Q1: What are the Probability Mass Function (PMF) and Probability Density Function (PDF)? Explain with an example.\n"
   ]
  },
  {
   "cell_type": "markdown",
   "id": "8cc56c28-d375-450e-a5f8-7b0ec4d513f7",
   "metadata": {},
   "source": [
    "Probability Density Function (PDF):\n",
    "The PDF is used for continuous random variables. Unlike the PMF, which assigns probabilities to specific points, the PDF gives the relative likelihood of the random variable falling within a particular interval. The area under the PDF curve over a certain interval corresponds to the probability of the random variable falling within that interval.\n",
    "Example :- Dataset containing weights of population.\n",
    "\n",
    "Probability Mass Function (PMF):\n",
    "The PMF is used for discrete random variables. It gives the probability of a specific outcome occurring. In other words, it maps each possible value of a discrete random variable to its corresponding probability. The sum of probabilities for all possible values of the random variable is equal to 1.\n",
    "Example :- Rolling a dice.\n"
   ]
  },
  {
   "cell_type": "markdown",
   "id": "fd8574ca-7a54-4dd6-8a35-4aa1cc74777c",
   "metadata": {},
   "source": [
    "## Q2: What is Cumulative Density Function (CDF)? Explain with an example. Why CDF is used?\n"
   ]
  },
  {
   "cell_type": "markdown",
   "id": "10db4d39-04b3-478e-a0b2-8afbd65ec202",
   "metadata": {},
   "source": [
    "CDF is the cumulative probability distribution of a random variable. It gives you the probability that the random variable takes on a value less than or equal to a given value.\n",
    "\n",
    "Example :- While rolling a fair dice. CDF is given as,\n",
    "p(x=1)=1/6\n",
    "p(x=<2)=2/6\n",
    "p(x=<3)=3/6\n",
    "p(x=<4)=4/6\n",
    "p(x=<5)51/6\n",
    "p(x=<6)=6/6\n",
    "\n",
    "CDF is used for Probablity and Quantile calculations.\n",
    "\n",
    "\n"
   ]
  },
  {
   "cell_type": "markdown",
   "id": "9bd3c738-ae56-41c7-80ea-217cad901b55",
   "metadata": {},
   "source": [
    "## 3: What are some examples of situations where the normal distribution might be used as a model? Explain how the parameters of the normal distribution relate to the shape of the distribution.\n"
   ]
  },
  {
   "cell_type": "markdown",
   "id": "3742157a-ea61-4747-960a-13525f999746",
   "metadata": {},
   "source": [
    "Example normal distribution as a modal,\n",
    "1) Heights of population follow a normal distribution\n",
    "2) Weights of population follow a normal distribution\n",
    "\n",
    "The Parameters associated with normal distribution are\n",
    "\n",
    "1) Mean :- The mean represents the central value around which the data clusters. It determines the center of the distribution.\n",
    "2) Standard deviation :- The standard deviation measures the spread or dispersion of the data points around the mean\n",
    "\n",
    "Also, the normal distribution follows the 68-95-99.7 rule. i.e. 68% of distribution lies in -1 to 1 Sigma and so on."
   ]
  },
  {
   "cell_type": "markdown",
   "id": "d4773bdd-1d44-4c08-a15f-dc3f9ffe1d3c",
   "metadata": {},
   "source": [
    "## Q4: Explain the importance of Normal Distribution. Give a few real-life examples of Normal Distribution."
   ]
  },
  {
   "cell_type": "markdown",
   "id": "10b8cad5-578b-4e0f-b9c0-ea5417d6ef47",
   "metadata": {},
   "source": [
    "\n",
    "The Normal Distribution holds significant importance in various fields due to its widespread occurrence in real-world phenomena. Its properties and characteristics make it a valuable tool for understanding and analyzing data\n",
    "\n",
    "Example :-The annual rainfall in many regions tends to follow a normal distribution. Most years have rainfall close to the average, with fewer years experiencing extremely high or low rainfall."
   ]
  },
  {
   "cell_type": "markdown",
   "id": "d6324e11-a3b7-458e-a5ec-5ce60425a664",
   "metadata": {},
   "source": [
    "## Q5: What is Bernaulli Distribution? Give an Example. What is the difference between Bernoulli Distribution and Binomial Distribution?\n"
   ]
  },
  {
   "cell_type": "markdown",
   "id": "dac9d89b-8050-4677-9b07-2ffbc32a694d",
   "metadata": {},
   "source": [
    "The Bernoulli Distribution is a simple discrete probability distribution that models a random experiment with two possible outcomes: success (1) and failure (0).\n",
    "Example :- Tossing a coin \n",
    "\n",
    "In Bernaulli distribution, experiment is performed only once, but when we perform the similar experiment n times the distribution is stated as Binomial distribution, where the analyze the successfull outcomes."
   ]
  },
  {
   "cell_type": "markdown",
   "id": "7e6a4e3d-faf7-4f9e-b3da-a041f6b61341",
   "metadata": {},
   "source": [
    "## Q6. Consider a dataset with a mean of 50 and a standard deviation of 10. If we assume that the dataset is normally distributed, what is the probability that a randomly selected observation will be greater than 60? Use the appropriate formula and show your calculations.\n"
   ]
  },
  {
   "cell_type": "code",
   "execution_count": 13,
   "id": "038583a1-2ed3-4573-8cd7-63465e3225aa",
   "metadata": {},
   "outputs": [
    {
     "data": {
      "text/plain": [
       "15.865525393145708"
      ]
     },
     "execution_count": 13,
     "metadata": {},
     "output_type": "execute_result"
    }
   ],
   "source": [
    "import scipy.stats as stats\n",
    "# This can be solved by using Z-score\n",
    "z_score=(60-50)/10\n",
    "z_score\n",
    "# Calcualting % of data for datapoint \"60\"\n",
    "cdf=stats.norm.cdf(z_score)\n",
    "# Percentage of distribution above 60 is \n",
    "(1-cdf)*100"
   ]
  },
  {
   "cell_type": "code",
   "execution_count": null,
   "id": "2937f969-0d2f-4f3d-8840-ec89f818e91a",
   "metadata": {},
   "outputs": [],
   "source": [
    "Q7: Explain uniform Distribution with an example."
   ]
  },
  {
   "cell_type": "markdown",
   "id": "bcec8fd3-acad-413c-ae1f-0abba3391646",
   "metadata": {},
   "source": [
    "The Uniform Distribution, often referred to as the rectangular distribution, is a continuous probability distribution where every value within a specific range has an equal likelihood of occurring. In simpler terms, it's a distribution where all outcomes are equally likely.\n",
    "\n",
    "Example :- Drawing a ball from bag containing 10 balls of different colours. here the probablity of any colour drawn is 1/10."
   ]
  },
  {
   "cell_type": "markdown",
   "id": "3b94f447-df30-4cd5-916b-c7eb511ea66b",
   "metadata": {},
   "source": [
    "## Q8: What is the z score? State the importance of the z score.\n"
   ]
  },
  {
   "cell_type": "markdown",
   "id": "344c71ed-e88c-485e-9260-45bba6b64b47",
   "metadata": {},
   "source": [
    "The Z-score, also known as the standard score or standard deviation score, is a statistical measure that quantifies how many standard deviations a data point is away from the mean of a distribution. It's a way to standardize data and compare individual data points to the overall distribution.\n",
    "\n",
    "Importance of the Z-score:\n",
    "\n",
    "Standardization: The Z-score standardizes data, allowing you to compare data from different distributions with varying scales and units. It transforms data into a common scale, making comparisons and analysis easier.\n",
    "\n",
    "Outlier Detection: Z-scores help identify outliers, which are data points that deviate significantly from the mean. Data points with Z-scores far from 0 are considered outliers.\n",
    "\n",
    "Probability and Normal Distribution: In a normal distribution, Z-scores are used to find probabilities associated with specific values. By converting values to Z-scores, you can easily find the probability of values falling within certain ranges.\n",
    "\n",
    "Data Analysis and Inference: Z-scores are used in hypothesis testing, confidence intervals, and other statistical analyses. They help determine whether observed differences are statistically significant."
   ]
  },
  {
   "cell_type": "markdown",
   "id": "02efa021-2751-4e4c-9867-5131bac3ed21",
   "metadata": {},
   "source": [
    "## Q9: What is Central Limit Theorem? State the significance of the Central Limit Theorem.\n"
   ]
  },
  {
   "cell_type": "markdown",
   "id": "6d588973-dbfc-47b3-9c45-1d0a42fda1b5",
   "metadata": {},
   "source": [
    "Central limit therom states that the \"sampling distribution of the mean\" will always be normally distributed, as long as the sample size is large enough. Regardless of wheather the poulation has a normal , poisson or any distribution.\n",
    "\n",
    "Significance of the Central Limit Theorem:\n",
    "\n",
    "Statistical Inference: The CLT is the foundation of many statistical methods. It allows us to make inferences about a population based on a sample, even when the original distribution is not normal. For example, hypothesis tests, confidence intervals, and regression analysis rely on the CLT.\n",
    "\n",
    "Sampling Theory: The CLT explains why sampling works. It provides a theoretical basis for why random sampling from a population allows us to make valid inferences about that population.\n",
    "\n",
    "Real-World Applications: Many real-world phenomena involve sums or averages of variables. The CLT allows us to use normal distribution approximations for these aggregates, making analysis and prediction easier."
   ]
  },
  {
   "cell_type": "markdown",
   "id": "70f4075c-fb74-44cd-aedd-13f54936a405",
   "metadata": {},
   "source": [
    "## Q10: State the assumptions of the Central Limit Theorem."
   ]
  },
  {
   "cell_type": "markdown",
   "id": "054909ac-8101-48a7-af06-b4245f6b7859",
   "metadata": {},
   "source": [
    "Independence: The random variables being sampled are assumed to be independent of each other. This means that the value of one variable doesn't affect the value of another.\n",
    "\n",
    "Identically Distributed: The random variables being sampled must be identically distributed. This means that they follow the same probability distribution with the same mean and variance.\n",
    "\n",
    "Finite Variance: The random variables should have a finite variance. If the variance is infinite or undefined, the CLT may not hold.\n",
    "\n",
    "Sample Size: The sample size should be sufficiently large. a common guideline is that the sample size should be at least 30.\n",
    "\n",
    "No Extreme Outliers: The presence of extreme outliers or influential observations can affect the applicability of the CLT. If the dataset contains extreme values, the normality assumption might not hold, and the CLT might not apply accurately.\n",
    "\n",
    "Finite Mean: While not always explicitly stated, it's generally assumed that the random variables have a finite mean.\n",
    "\n",
    "Population Distribution Shape: The CLT works for a wide variety of population distributions, but its accuracy can vary depending on the shape of the original distribution."
   ]
  },
  {
   "cell_type": "code",
   "execution_count": null,
   "id": "18342210-021d-46d2-bbb6-1df9c31e2f48",
   "metadata": {},
   "outputs": [],
   "source": []
  },
  {
   "cell_type": "code",
   "execution_count": null,
   "id": "8f8a330d-822a-4187-9558-097d69f60f9b",
   "metadata": {},
   "outputs": [],
   "source": []
  },
  {
   "cell_type": "code",
   "execution_count": null,
   "id": "354288b1-db3c-4700-9b9c-72812f28bbe2",
   "metadata": {},
   "outputs": [],
   "source": []
  },
  {
   "cell_type": "code",
   "execution_count": null,
   "id": "8d8b649d-ec28-494a-a6c6-e8b583f35e7e",
   "metadata": {},
   "outputs": [],
   "source": []
  },
  {
   "cell_type": "code",
   "execution_count": null,
   "id": "fb4a7258-3466-4bdf-823d-113c99dcd09f",
   "metadata": {},
   "outputs": [],
   "source": []
  },
  {
   "cell_type": "code",
   "execution_count": null,
   "id": "845b4a27-9582-418a-8eef-d516f9f03ca7",
   "metadata": {},
   "outputs": [],
   "source": []
  },
  {
   "cell_type": "code",
   "execution_count": null,
   "id": "81f3022d-94aa-48d9-93b9-c4d6c4d0bbd1",
   "metadata": {},
   "outputs": [],
   "source": []
  },
  {
   "cell_type": "code",
   "execution_count": null,
   "id": "d6d26fb9-e807-4829-8200-1a7306581c93",
   "metadata": {},
   "outputs": [],
   "source": []
  }
 ],
 "metadata": {
  "kernelspec": {
   "display_name": "Python 3 (ipykernel)",
   "language": "python",
   "name": "python3"
  },
  "language_info": {
   "codemirror_mode": {
    "name": "ipython",
    "version": 3
   },
   "file_extension": ".py",
   "mimetype": "text/x-python",
   "name": "python",
   "nbconvert_exporter": "python",
   "pygments_lexer": "ipython3",
   "version": "3.10.8"
  }
 },
 "nbformat": 4,
 "nbformat_minor": 5
}
