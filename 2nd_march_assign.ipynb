{
 "cells": [
  {
   "cell_type": "markdown",
   "id": "a8875ca3-541f-48f1-a888-28ec66ff90c4",
   "metadata": {},
   "source": [
    "### Q1: What is Matplotlib? Why is it used? Name five plots that can be plotted using the Pyplot module of Matplotlib."
   ]
  },
  {
   "cell_type": "markdown",
   "id": "422bc9d1-bf73-4c29-8444-c687c4dbea36",
   "metadata": {},
   "source": [
    "Matplotlib is a popular Python library used for creating static, interactive, and animated visualizations of data. It provides a wide range of functions and tools for generating various types of plots and charts, making it a valuable tool for data visualization and analysis.\n",
    "\n",
    "Types of plots pyplot module can plot are\n",
    "1) Scatter plot\n",
    "2) Bar plot\n",
    "3) Pie plot\n",
    "4) Line plot\n",
    "5) Histogram"
   ]
  },
  {
   "cell_type": "markdown",
   "id": "dafc4c2b-217c-4e8a-86a7-067cb4c13173",
   "metadata": {},
   "source": [
    "### Q2: What is a scatter plot? Use the following code to generate data for x and y. Using this generated data plot a scatter plot.\n"
   ]
  },
  {
   "cell_type": "markdown",
   "id": "7d549f15-514f-4990-9cf7-1f92f1be93d3",
   "metadata": {},
   "source": [
    "A scatter plot is a type of data visualization that displays individual data points as dots on a two-dimensional plane. Each dot represents a single data point with its x and y-coordinate determined by the values of two variables in the dataset. Scatter plots are used to visualize the relationship between two continuous variables and show how they might be related or correlated."
   ]
  },
  {
   "cell_type": "code",
   "execution_count": null,
   "id": "5ee8c229-23d4-4bd8-9d50-f15d7a0c4a5a",
   "metadata": {},
   "outputs": [],
   "source": [
    "import numpy as np\n",
    "import matplotlib.pyplot as plt\n",
    "np.random.seed(3) #due to this the random data generated remains constant.\n",
    "\n",
    "x = 3 + np.random.normal(0, 2, 50)\n",
    "\n",
    "y = 3 + np.random.normal(0, 2, len(x))\n",
    "\n",
    "plt.scatter(x,y)\n",
    "plt.xlabel(\"Variable X\")\n",
    "plt.ylabel(\"Variable Y\")\n",
    "plt.title(\"Sactter plot x vs Y\")\n",
    "plt.show()\n"
   ]
  },
  {
   "cell_type": "code",
   "execution_count": null,
   "id": "c961cd08-59d0-44a0-91e0-bd0205fdedb3",
   "metadata": {},
   "outputs": [],
   "source": [
    "Q.3 ) Q3: Why is the subplot() function used? Draw four line plots using the subplot() function.\n",
    "\n",
    "Use the following data:\n",
    "\n",
    "import numpy as np\n",
    "\n",
    "For line 1: x = np.array([0, 1, 2, 3, 4, 5]) and y = np.array([0, 100, 200, 300, 400, 500])\n",
    "\n",
    "For line 2: x = np.array([0, 1, 2, 3, 4, 5]) and y = np.array([50, 20, 40, 20, 60, 70])\n",
    "\n",
    "For line 3: x = np.array([0, 1, 2, 3, 4, 5]) and y = np.array([10, 20, 30, 40, 50, 60])\n",
    "\n",
    "For line 4: x = np.array([0, 1, 2, 3, 4, 5]) and y = np.array([200, 350, 250, 550, 450, 150])"
   ]
  },
  {
   "cell_type": "markdown",
   "id": "257b50d9-7b20-43c4-b011-3a68ed647b30",
   "metadata": {},
   "source": [
    "The subplot() function in MATLAB is used to create a grid of subplots within a single figure. It allows you to display multiple plots or visualizations together in a structured layout, making it easier to compare and analyze different datasets or aspects of the data."
   ]
  },
  {
   "cell_type": "code",
   "execution_count": null,
   "id": "2f2bfb6d-7264-48e3-a3ff-0d3b131ae5e4",
   "metadata": {},
   "outputs": [],
   "source": [
    "x1=np.array([0, 1, 2, 3, 4, 5])\n",
    "y1=np.array([0, 100, 200, 300, 400, 500])\n",
    "x2,y2=np.array([0, 1, 2, 3, 4, 5]),np.array([50, 20, 40, 20, 60, 70])\n",
    "x3,y3=np.array([0, 1, 2, 3, 4, 5]), np.array([10, 20, 30, 40, 50, 60])\n",
    "x4,y4=np.array([0, 1, 2, 3, 4, 5]),np.array([200, 350, 250, 550, 450, 150])"
   ]
  },
  {
   "cell_type": "code",
   "execution_count": null,
   "id": "6c099057-c2ad-4874-82c7-24fba32ecc74",
   "metadata": {},
   "outputs": [],
   "source": [
    "plt.figure(figsize=(10,5))\n",
    "plt.subplot(1,4,1)\n",
    "plt.plot(x1,y1)\n",
    "plt.title(\"Plot for line 1\")\n",
    "plt.subplot(1,4,2)\n",
    "plt.plot(x2,y2)\n",
    "plt.title(\"Plot for line 2\")\n",
    "plt.subplot(1,4,3)\n",
    "plt.plot(x3,y3)\n",
    "plt.title(\"Plot for line 3\")\n",
    "plt.subplot(1,4,4)\n",
    "plt.plot(x4,y4)\n",
    "plt.title(\"Plot for line 4\")\n",
    "plt.show()"
   ]
  },
  {
   "cell_type": "markdown",
   "id": "57bd8d8e-3326-49b1-b78f-a7f82dae78b6",
   "metadata": {},
   "source": [
    "Q4: What is a bar plot? Why is it used? Using the following data plot a bar plot and a horizontal bar plot.\n",
    "import numpy as np\n",
    "\n",
    "company = np.array([\"Apple\", \"Microsoft\", \"Google\", \"AMD\"])\n",
    "\n",
    "profit = np.array([3000, 8000, 1000, 10000])"
   ]
  },
  {
   "cell_type": "markdown",
   "id": "7b2afda5-bfa9-408b-ad21-297932b4a374",
   "metadata": {},
   "source": [
    "A bar plot is a type of data visualization that uses rectangular bars to represent categorical data. It is commonly used to display and compare the values of different categories or groups. Each bar in the plot corresponds to a specific category, and the length of the bar is proportional to the value it represents.\n",
    "\n",
    "Bar plots are especially useful when working with discrete or categorical data, where the data can be divided into distinct groups or categories. They provide a clear visual representation of the data distribution and allow for easy comparison between the values of different categories."
   ]
  },
  {
   "cell_type": "code",
   "execution_count": null,
   "id": "fa43658f-ea95-4443-a9a7-e3cf8ad77607",
   "metadata": {},
   "outputs": [],
   "source": [
    "company = np.array([\"Apple\", \"Microsoft\", \"Google\", \"AMD\"])\n",
    "\n",
    "profit = np.array([3000, 8000, 1000, 10000])\n",
    "\n",
    "plt.bar(company,profit)"
   ]
  },
  {
   "cell_type": "code",
   "execution_count": null,
   "id": "c0e023c1-a23d-4c27-b53c-32ec937224a6",
   "metadata": {},
   "outputs": [],
   "source": [
    "plt.barh(company,profit)"
   ]
  },
  {
   "cell_type": "markdown",
   "id": "1158a9e8-8e6f-451d-b87e-0a6da1d317f8",
   "metadata": {},
   "source": [
    "Q5: What is a box plot? Why is it used? Using the following data plot a box plot.\n",
    "\n",
    "box1 = np.random.normal(100, 10, 200)\n",
    "\n",
    "box2 = np.random.normal(90, 20, 200)"
   ]
  },
  {
   "cell_type": "markdown",
   "id": "a18b113e-97f9-41dd-ad6b-6292c99504b7",
   "metadata": {},
   "source": [
    "A box plot, also known as a box-and-whisker plot, is a data visualization technique that provides a graphical summary of the distribution of numerical data. It displays a summary of key statistical measures for the data, allowing for a quick understanding of the data's central tendency, spread, and the presence of potential outliers.\n",
    "\n",
    "Box plots are widely used in various fields, such as statistics, data analysis, quality control, and research, to gain insights into the distribution and variability of numerical data, identify potential outliers, and compare data across different groups."
   ]
  },
  {
   "cell_type": "code",
   "execution_count": null,
   "id": "04db4e56-17d6-4bf2-ae36-45b832104228",
   "metadata": {},
   "outputs": [],
   "source": [
    "box1 = np.random.normal(100, 10, 200)\n",
    "\n",
    "box2 = np.random.normal(90, 20, 200)\n",
    "plt.boxplot(box1)"
   ]
  },
  {
   "cell_type": "code",
   "execution_count": null,
   "id": "e0348950-d649-42cd-a258-4fb980d67b52",
   "metadata": {},
   "outputs": [],
   "source": [
    "plt.boxplot(box2)"
   ]
  },
  {
   "cell_type": "code",
   "execution_count": null,
   "id": "aac09fde-2fe9-4260-a3a4-9cb5e9df1fbd",
   "metadata": {},
   "outputs": [],
   "source": []
  },
  {
   "cell_type": "code",
   "execution_count": null,
   "id": "44851aee-fb5e-41f6-abde-cbe8214fb17a",
   "metadata": {},
   "outputs": [],
   "source": []
  }
 ],
 "metadata": {
  "kernelspec": {
   "display_name": "Python 3 (ipykernel)",
   "language": "python",
   "name": "python3"
  },
  "language_info": {
   "codemirror_mode": {
    "name": "ipython",
    "version": 3
   },
   "file_extension": ".py",
   "mimetype": "text/x-python",
   "name": "python",
   "nbconvert_exporter": "python",
   "pygments_lexer": "ipython3",
   "version": "3.10.8"
  }
 },
 "nbformat": 4,
 "nbformat_minor": 5
}
