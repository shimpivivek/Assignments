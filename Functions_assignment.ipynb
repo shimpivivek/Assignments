{
 "cells": [
  {
   "cell_type": "markdown",
   "id": "308f9462-153c-45a1-88b8-ba12b2ce2bed",
   "metadata": {},
   "source": [
    "### Q1. Which keyword is used to create a function? Create a function to return a list of odd numbers in the range of 1 to 25."
   ]
  },
  {
   "cell_type": "code",
   "execution_count": 38,
   "id": "39e3cd3e-f5c9-4cf8-b243-279810994403",
   "metadata": {},
   "outputs": [],
   "source": [
    "# def keyword is used to create a function.\n",
    "\n",
    "\n",
    "def odd_number(a):\n",
    "    lst=[]\n",
    "    for i in a:\n",
    "        if i%2==0:\n",
    "            pass\n",
    "        else:\n",
    "            lst.append(i)\n",
    "    return lst\n"
   ]
  },
  {
   "cell_type": "code",
   "execution_count": 40,
   "id": "0eca62bb-7409-4831-9901-7805766dd67f",
   "metadata": {},
   "outputs": [
    {
     "data": {
      "text/plain": [
       "[1, 3, 5, 7, 9, 11, 13, 15, 17, 19, 21, 23]"
      ]
     },
     "execution_count": 40,
     "metadata": {},
     "output_type": "execute_result"
    }
   ],
   "source": [
    "l=[i for i in range(1,25)]\n",
    "odd_number(l)"
   ]
  },
  {
   "cell_type": "markdown",
   "id": "f1d12e57-02e3-4392-a4b4-f141d9a69a22",
   "metadata": {},
   "source": [
    "### Q2. Why *args and **kwargs is used in some functions? Create a function each for *args and **kwargs to demonstrate their use."
   ]
  },
  {
   "cell_type": "code",
   "execution_count": 61,
   "id": "222e137f-45ec-45e9-ab7d-8a69978c36e2",
   "metadata": {},
   "outputs": [],
   "source": [
    " \"\"\"   * args are used in a function, when we need to give multiple input.\n",
    "       *kwargs are used in a function, when the input is in KEY-Value Pair.   \"\"\"\n",
    "    \n",
    "def even_number(*args):\n",
    "    lst=[]\n",
    "    for i in args:\n",
    "        if i%2==0:\n",
    "            lst.append(i)\n",
    "    return lst\n"
   ]
  },
  {
   "cell_type": "code",
   "execution_count": 63,
   "id": "db7f4780-81aa-452c-8c54-21a20cbe98a2",
   "metadata": {},
   "outputs": [
    {
     "data": {
      "text/plain": [
       "[2, 4, 6, 8]"
      ]
     },
     "execution_count": 63,
     "metadata": {},
     "output_type": "execute_result"
    }
   ],
   "source": [
    "even_number(1,2,3,4,5,6,7,8,9)"
   ]
  },
  {
   "cell_type": "code",
   "execution_count": 113,
   "id": "3a06fb2d-ae92-4001-92d2-0cb6bc289d06",
   "metadata": {},
   "outputs": [],
   "source": [
    "def person_info(**kwargs):\n",
    "    for i in kwargs.keys():\n",
    "        return kwargs[i]"
   ]
  },
  {
   "cell_type": "code",
   "execution_count": 114,
   "id": "fd9fa427-bcd8-4f1c-9dfa-7ec6784a31b7",
   "metadata": {},
   "outputs": [
    {
     "data": {
      "text/plain": [
       "'Ram'"
      ]
     },
     "execution_count": 114,
     "metadata": {},
     "output_type": "execute_result"
    }
   ],
   "source": [
    "person_info(a=\"Ram\",b=\"ankit\",c=\"Vijay\",d=\"vishal\")"
   ]
  },
  {
   "cell_type": "markdown",
   "id": "a3257dc5-16b4-4cac-bb15-00d7bd71d7b8",
   "metadata": {},
   "source": [
    "### Q3.  What is an iterator in python? Name the method used to initialise the iterator object and the method used for iteration. Use these methods to print the first five elements of the given list [2, 4, 6, 8, 10, 12, 14, 16, 18, 20]."
   ]
  },
  {
   "cell_type": "code",
   "execution_count": 115,
   "id": "0b250da5-6e90-49ce-818d-00ee5101785e",
   "metadata": {},
   "outputs": [
    {
     "data": {
      "text/plain": [
       "'  An iterator is an object that contains a countable number of values.\\n     An iterator is an object that can be iterated upon, meaning that you can traverse through all the values.\\n     The iterator object is initialized using the iter() method. It uses the next() method for iteration. '"
      ]
     },
     "execution_count": 115,
     "metadata": {},
     "output_type": "execute_result"
    }
   ],
   "source": [
    "\"\"\"  An iterator is an object that contains a countable number of values.\n",
    "     An iterator is an object that can be iterated upon, meaning that you can traverse through all the values.\n",
    "     The iterator object is initialized using the iter() method. It uses the next() method for iteration. \"\"\""
   ]
  },
  {
   "cell_type": "code",
   "execution_count": 41,
   "id": "ca982df2-f64f-4f61-96dd-03222683bfda",
   "metadata": {},
   "outputs": [
    {
     "name": "stdout",
     "output_type": "stream",
     "text": [
      "2 4 6 8 10 "
     ]
    }
   ],
   "source": [
    "lst=[2, 4, 6, 8, 10, 12, 14, 16, 18, 20]\n",
    "lst1=iter(lst)\n",
    "i=1\n",
    "while i<=5:\n",
    "    print(next(lst1),end=' ')\n",
    "    i+=1\n",
    "\n",
    "\n",
    "    "
   ]
  },
  {
   "cell_type": "markdown",
   "id": "23142860-135b-4775-af4b-cb62919dfd0a",
   "metadata": {},
   "source": [
    "### Q4.  What is a generator function in python? Why yield keyword is used? Give an example of a generator function."
   ]
  },
  {
   "cell_type": "markdown",
   "id": "acb34997-465d-44e1-9694-03fecf53ad56",
   "metadata": {},
   "source": [
    "Python Generator functions allow you to declare a function that behaves likes an iterator, allowing programmers to make an iterator in a fast, easy, and clean way. An iterator is an object that can be iterated or looped upon. It is used to abstract a container of data to make it behave like an iterable object. \n",
    "- yield keyword is used to create a generator function. A type of function that is memory efficient and can be used like an iterator object\n",
    "\n",
    "- Examples of iterable objects that are used more commonly include lists, dictionaries, and strings."
   ]
  },
  {
   "cell_type": "markdown",
   "id": "cb5d065f-f3e1-450b-9650-eef0d6776fdf",
   "metadata": {},
   "source": [
    "### Q5. Create a generator function for prime numbers less than 1000. Use the next() method to print the first 20 prime numbers."
   ]
  },
  {
   "cell_type": "code",
   "execution_count": 35,
   "id": "112c5b1b-14f3-44a3-8704-37082f16a89d",
   "metadata": {},
   "outputs": [],
   "source": [
    "def prime_generator(a):\n",
    "    lst=[i for i in range(2,a)]\n",
    "    lst1=[]\n",
    "    for i in lst:\n",
    "        for j in range(2,len(lst)//2-1):\n",
    "            if i%j==0 and i!=j:\n",
    "                break\n",
    "        else:\n",
    "            lst1.append(i)\n",
    "    return lst1"
   ]
  },
  {
   "cell_type": "code",
   "execution_count": 36,
   "id": "69d827b6-2684-4e52-90c4-47e172bb1e16",
   "metadata": {},
   "outputs": [
    {
     "name": "stdout",
     "output_type": "stream",
     "text": [
      "2 3 5 7 11 13 17 19 23 29 31 37 41 43 47 53 59 61 67 71 "
     ]
    }
   ],
   "source": [
    "lst2=[]\n",
    "for i in prime_generator(1000):\n",
    "    lst2.append(i)\n",
    "lst2_iter=iter(lst2)\n",
    "v=1\n",
    "while v<=20:\n",
    "    print(next(lst2_iter),end=\" \")\n",
    "    v+=1"
   ]
  },
  {
   "cell_type": "code",
   "execution_count": null,
   "id": "5a7d8f7c-9077-4780-bcb1-a94c1a690c0d",
   "metadata": {},
   "outputs": [],
   "source": []
  }
 ],
 "metadata": {
  "kernelspec": {
   "display_name": "Python 3 (ipykernel)",
   "language": "python",
   "name": "python3"
  },
  "language_info": {
   "codemirror_mode": {
    "name": "ipython",
    "version": 3
   },
   "file_extension": ".py",
   "mimetype": "text/x-python",
   "name": "python",
   "nbconvert_exporter": "python",
   "pygments_lexer": "ipython3",
   "version": "3.10.8"
  }
 },
 "nbformat": 4,
 "nbformat_minor": 5
}
