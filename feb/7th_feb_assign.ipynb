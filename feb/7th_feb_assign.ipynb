{
 "cells": [
  {
   "cell_type": "markdown",
   "id": "d2f543a7-4daf-4a21-954c-29c571f209b8",
   "metadata": {},
   "source": [
    "Q1. You are writing code for a company. The requirement of the company is that you create a python\n",
    "function that will check whether the password entered by the user is correct or not. The function should\n",
    "take the password as input and return the string “Valid Password” if the entered password follows the\n",
    "below-given password guidelines else it should return “Invalid Password”.\n",
    "\n",
    "\n",
    "Note: 1. The Password should contain at least two uppercase letters and at least two lowercase letters.\n",
    "\n",
    "2. The Password should contain at least a number and three special characters.\n",
    "\n",
    "3. The length of the password should be 10 characters long."
   ]
  },
  {
   "cell_type": "code",
   "execution_count": 38,
   "id": "d10bc48f-4188-40f9-9b5d-578798dec634",
   "metadata": {},
   "outputs": [],
   "source": [
    "upper_str = \"ABCDEFGHIJKLMNOPQRSTUVWXYZ\"\n",
    "lower_str = \"abcdefghijklmnopqrstuvwxyz\"\n",
    "digit_str = \"0123456789\"\n",
    "special_str = \"!@#$%^&*()_+\"\n",
    "\n",
    "def check_password(str1):\n",
    "    up_char = 0\n",
    "    low_char = 0\n",
    "    digit_char = 0\n",
    "    spl_char = 0\n",
    "    if len(str1)==10:\n",
    "        for i in str1:\n",
    "            if i in upper_str:\n",
    "                up_char+=1\n",
    "            elif i in lower_str:\n",
    "                low_char+=1\n",
    "            elif i in digit_str:\n",
    "                digit_char+=1\n",
    "            elif i in special_str:\n",
    "                spl_char+=1\n",
    "        if up_char >= 2 and low_char >= 2 and digit_char >= 1 and spl_char == 3:\n",
    "            print(\"valid password\")\n",
    "        else :\n",
    "            print(\"invalid password\")\n",
    "    else:\n",
    "        print(\"invalid password\") \n",
    "\n",
    "\n"
   ]
  },
  {
   "cell_type": "code",
   "execution_count": 39,
   "id": "940a8061-e43b-4c36-a001-68c569cb61fe",
   "metadata": {},
   "outputs": [
    {
     "name": "stdout",
     "output_type": "stream",
     "text": [
      "valid password\n"
     ]
    }
   ],
   "source": [
    "check_password(\"1VIve@#$23\")"
   ]
  },
  {
   "cell_type": "markdown",
   "id": "28099e8f-99ed-4aaa-85b9-cd2680756043",
   "metadata": {},
   "source": [
    "B Check if the string starts with a particular letterY"
   ]
  },
  {
   "cell_type": "code",
   "execution_count": 4,
   "id": "ba3b09dd-90d3-43fa-8bd8-ce7c21f14ad1",
   "metadata": {},
   "outputs": [
    {
     "name": "stdout",
     "output_type": "stream",
     "text": [
      "True\n"
     ]
    }
   ],
   "source": [
    "name=\"vivek_shimpi\"\n",
    "y=name.startswith(\"v\")\n",
    "print(y)"
   ]
  },
  {
   "cell_type": "markdown",
   "id": "378b7fe4-97ae-4cf9-b788-591935ec1e68",
   "metadata": {},
   "source": [
    "Check if the string is numericY"
   ]
  },
  {
   "cell_type": "code",
   "execution_count": 17,
   "id": "34eb3fec-b033-465c-ad71-4b2dd9631232",
   "metadata": {},
   "outputs": [
    {
     "data": {
      "text/plain": [
       "True"
      ]
     },
     "execution_count": 17,
     "metadata": {},
     "output_type": "execute_result"
    }
   ],
   "source": [
    "v=\"5856\"\n",
    "v.isnumeric()"
   ]
  },
  {
   "cell_type": "markdown",
   "id": "0ae243d5-ec8f-4134-ace1-53f609f96404",
   "metadata": {},
   "source": [
    " Sort a list of tuples having fruit names and their quantity. [(\"mango\",99),(\"orange\",80), (\"grapes\", 1000)-"
   ]
  },
  {
   "cell_type": "code",
   "execution_count": 18,
   "id": "1fc16493-2ef7-415d-9799-d39756a72cc1",
   "metadata": {},
   "outputs": [
    {
     "name": "stdout",
     "output_type": "stream",
     "text": [
      "[('orange', 80), ('mango', 99), ('grapes', 1000)]\n"
     ]
    }
   ],
   "source": [
    "lst=[(\"mango\",99),(\"orange\",80), (\"grapes\", 1000)]\n",
    "l1=sorted(lst,key=lambda x : x[1])\n",
    "print(l1)\n"
   ]
  },
  {
   "cell_type": "markdown",
   "id": "b71a88be-12e0-4ba3-87f1-9f68dc362b07",
   "metadata": {},
   "source": [
    "Find the squares of numbers from 1 to 10"
   ]
  },
  {
   "cell_type": "code",
   "execution_count": 30,
   "id": "735df6cc-ff24-4dc4-a478-a5c4ea891188",
   "metadata": {},
   "outputs": [
    {
     "name": "stdout",
     "output_type": "stream",
     "text": [
      "[1, 4, 9, 16, 25, 36, 49, 64, 81, 100]\n"
     ]
    }
   ],
   "source": [
    "lst1= [i for i in range(1,11)]\n",
    "dg_sq=list(map((lambda x : x**2),lst1))\n",
    "print(dg_sq)"
   ]
  },
  {
   "cell_type": "markdown",
   "id": "558f188d-0464-4b1f-84c3-101878fb2974",
   "metadata": {},
   "source": [
    "Find the cube root of numbers from 1 to 10"
   ]
  },
  {
   "cell_type": "code",
   "execution_count": 33,
   "id": "38e61f44-0b15-47a5-ba02-5cdef8619e70",
   "metadata": {},
   "outputs": [
    {
     "name": "stdout",
     "output_type": "stream",
     "text": [
      "[1.0, 1.2599210498948732, 1.4422495703074083, 1.5874010519681994, 1.7099759466766968, 1.8171205928321397, 1.912931182772389, 2.0, 2.080083823051904, 2.154434690031884]\n"
     ]
    }
   ],
   "source": [
    "lst2= [i for i in range(1,11)]\n",
    "dg_sq1=list(map((lambda x : x**(1/3)),lst2))\n",
    "print(dg_sq1)"
   ]
  },
  {
   "cell_type": "markdown",
   "id": "ac216d3b-9a45-4eca-b1d4-aa6e8d4c223d",
   "metadata": {},
   "source": [
    "Check if a given number is even"
   ]
  },
  {
   "cell_type": "code",
   "execution_count": 41,
   "id": "ec882768-3341-4be8-bf9b-9677723a3bb0",
   "metadata": {},
   "outputs": [
    {
     "name": "stdin",
     "output_type": "stream",
     "text": [
      "Please enter the number 22\n"
     ]
    },
    {
     "name": "stdout",
     "output_type": "stream",
     "text": [
      "[True]\n"
     ]
    }
   ],
   "source": [
    "num=[(int(input(\"Please enter the number\")))]\n",
    "check=list(map((lambda x:x%2==0),num))\n",
    "print(check)"
   ]
  },
  {
   "cell_type": "markdown",
   "id": "e0f5c44a-e274-451b-9990-4533ef6912a1",
   "metadata": {},
   "source": [
    "Filter odd numbers from the given list.\n",
    "\n",
    " [1,2,3,4,5,6,7,8,9,10]"
   ]
  },
  {
   "cell_type": "code",
   "execution_count": 50,
   "id": "e1294ff1-0a01-4560-8b04-c1c6b949a5dd",
   "metadata": {},
   "outputs": [
    {
     "data": {
      "text/plain": [
       "[1, 3, 5, 7, 9]"
      ]
     },
     "execution_count": 50,
     "metadata": {},
     "output_type": "execute_result"
    }
   ],
   "source": [
    "lst3=[1,2,3,4,5,6,7,8,9,10]\n",
    "list(filter(lambda x : x%2!=0,lst3))"
   ]
  },
  {
   "cell_type": "markdown",
   "id": "3344e739-e04d-4bc0-997e-5eae619d45db",
   "metadata": {},
   "source": [
    "Sort a list of integers into positive and negative integers lists.\n",
    "\n",
    " [1,2,3,4,5,6,-1,-2,-3,-4,-5,0]"
   ]
  },
  {
   "cell_type": "code",
   "execution_count": 53,
   "id": "b26dcfc3-3fff-463c-a74b-d8880090f631",
   "metadata": {},
   "outputs": [
    {
     "name": "stdout",
     "output_type": "stream",
     "text": [
      "[-1, -2, -3, -4, -5]\n",
      "[1, 2, 3, 4, 5, 6]\n"
     ]
    }
   ],
   "source": [
    "lst4= [1,2,3,4,5,6,-1,-2,-3,-4,-5,0]\n",
    "print(list(filter(lambda x : x<0,lst4)))\n",
    "print(list(filter(lambda x : x>0,lst4)))"
   ]
  },
  {
   "cell_type": "code",
   "execution_count": null,
   "id": "a5a82a9d-4e58-4888-8d85-8589ba94eea3",
   "metadata": {},
   "outputs": [],
   "source": []
  },
  {
   "cell_type": "code",
   "execution_count": null,
   "id": "8346a5c7-5a47-43a9-9ea5-b3f3a2f2a982",
   "metadata": {},
   "outputs": [],
   "source": []
  },
  {
   "cell_type": "code",
   "execution_count": null,
   "id": "8a77c8d6-4e25-4650-9090-e9c109cd9b69",
   "metadata": {},
   "outputs": [],
   "source": []
  },
  {
   "cell_type": "code",
   "execution_count": null,
   "id": "d76dca94-88ed-472c-a2e1-61968b0370e9",
   "metadata": {},
   "outputs": [],
   "source": []
  }
 ],
 "metadata": {
  "kernelspec": {
   "display_name": "Python 3 (ipykernel)",
   "language": "python",
   "name": "python3"
  },
  "language_info": {
   "codemirror_mode": {
    "name": "ipython",
    "version": 3
   },
   "file_extension": ".py",
   "mimetype": "text/x-python",
   "name": "python",
   "nbconvert_exporter": "python",
   "pygments_lexer": "ipython3",
   "version": "3.10.8"
  }
 },
 "nbformat": 4,
 "nbformat_minor": 5
}
