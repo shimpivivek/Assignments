{
 "cells": [
  {
   "cell_type": "markdown",
   "id": "e1209a19-9bf1-4ee2-8fe1-2077ff5b9371",
   "metadata": {},
   "source": [
    "### Q.1) What is an Exception in python ? Write the difference between Exceptions and Syntax errors.\n"
   ]
  },
  {
   "cell_type": "markdown",
   "id": "16b58f73-d2d1-44e8-bf5a-c55c53439b50",
   "metadata": {},
   "source": [
    "-An Exception is an error that happens during the execution of a program."
   ]
  },
  {
   "cell_type": "markdown",
   "id": "1deaff28-13d9-4611-9834-55bed2a15f3a",
   "metadata": {},
   "source": [
    "-An error is an issue in a program that prevents the program from completing its task. In comparison, an exception is a condition that interrupts the normal flow of the program. Both errors and exceptions are a type of runtime error, which means they occur during the execution of a program."
   ]
  },
  {
   "cell_type": "markdown",
   "id": "8b345470-80d5-4244-b9a7-7b2c01877aab",
   "metadata": {},
   "source": [
    "### Q2. What Happens when an exception is not handled ? Explan with an example ?\n",
    "\n"
   ]
  },
  {
   "cell_type": "markdown",
   "id": "62293a12-d49f-4e69-a75c-e1ab70ec321d",
   "metadata": {},
   "source": [
    "-  if exceptions are not handled, these errors will stop the code execution and display the error message."
   ]
  },
  {
   "cell_type": "code",
   "execution_count": 2,
   "id": "9685aa25-6f5d-47f6-b972-79e5ed385c8e",
   "metadata": {},
   "outputs": [
    {
     "ename": "ZeroDivisionError",
     "evalue": "division by zero",
     "output_type": "error",
     "traceback": [
      "\u001b[0;31m---------------------------------------------------------------------------\u001b[0m",
      "\u001b[0;31mZeroDivisionError\u001b[0m                         Traceback (most recent call last)",
      "Cell \u001b[0;32mIn[2], line 1\u001b[0m\n\u001b[0;32m----> 1\u001b[0m \u001b[38;5;241;43m1\u001b[39;49m\u001b[38;5;241;43m/\u001b[39;49m\u001b[38;5;241;43m0\u001b[39;49m\n",
      "\u001b[0;31mZeroDivisionError\u001b[0m: division by zero"
     ]
    }
   ],
   "source": [
    "1/0"
   ]
  },
  {
   "cell_type": "markdown",
   "id": "1616313d-8168-42cc-84ec-ee2395fa69ac",
   "metadata": {},
   "source": [
    "lets handle this error using try except method"
   ]
  },
  {
   "cell_type": "code",
   "execution_count": 4,
   "id": "4fbf35bb-6e68-4b45-a0e7-69f774303c71",
   "metadata": {},
   "outputs": [
    {
     "name": "stdout",
     "output_type": "stream",
     "text": [
      "Something went wrong :- division by zero\n",
      "This time pthyon gives us the error without stopping the next level of execusion\n"
     ]
    }
   ],
   "source": [
    "try:\n",
    "    print(1/0)\n",
    "except Exception as e:\n",
    "    print(\"Something went wrong :-\",e)\n",
    "\n",
    "print(\"This time pthyon gives us the error without stopping the next level of execusion\")"
   ]
  },
  {
   "cell_type": "markdown",
   "id": "0b2096b0-4ab9-40d7-be27-3f4aabb9d250",
   "metadata": {},
   "source": [
    "### Q.3) Which Statement are used to catch and handle exceptions? Explain with example ?"
   ]
  },
  {
   "cell_type": "markdown",
   "id": "8c8a5e9c-84d6-4646-adfb-91aaa78bc3fd",
   "metadata": {},
   "source": [
    " - The try and except block in Python is used to catch and handle exceptions."
   ]
  },
  {
   "cell_type": "code",
   "execution_count": 6,
   "id": "c0f71fb1-7951-43c4-a02f-fc550a441b55",
   "metadata": {},
   "outputs": [
    {
     "name": "stdout",
     "output_type": "stream",
     "text": [
      "Seems this means the file does not exist yet ---- [Errno 2] No such file or directory: 'Vive.txt'\n"
     ]
    }
   ],
   "source": [
    "try:\n",
    "    f=open(\"Vive.txt\",\"r\")\n",
    "    f.read()\n",
    "except Exception as e:\n",
    "    print(\"Seems this means the file does not exist yet ----\",e)"
   ]
  },
  {
   "cell_type": "markdown",
   "id": "f913ef83-2301-47e9-9a68-ff3e8f6ad269",
   "metadata": {},
   "source": [
    "### Q.4) Explain with example\n",
    "- try and else\n",
    "- finally\n",
    "- raise"
   ]
  },
  {
   "cell_type": "code",
   "execution_count": 7,
   "id": "cb403fa3-f2cd-41c1-be60-a53aa49c2713",
   "metadata": {},
   "outputs": [
    {
     "name": "stdout",
     "output_type": "stream",
     "text": [
      "Seems this means the file does not exist yet ---- [Errno 2] No such file or directory: 'Vive.txt'\n"
     ]
    }
   ],
   "source": [
    "# Example to show try and except function\n",
    "try:\n",
    "    f=open(\"Vive.txt\",\"r\")\n",
    "    f.read()\n",
    "except Exception as e:\n",
    "    print(\"Seems this means the file does not exist yet ----\",e)"
   ]
  },
  {
   "cell_type": "code",
   "execution_count": 11,
   "id": "54e85b67-ec09-4a91-bc8f-39d386c8bb7d",
   "metadata": {},
   "outputs": [
    {
     "name": "stdout",
     "output_type": "stream",
     "text": [
      "I dont know about others, but I am gonna EXECUTE......Mindit\n"
     ]
    }
   ],
   "source": [
    "# Example to show Finally function\n",
    "try:\n",
    "    f=open(\"Vive.txt\",\"r\")\n",
    "    f.read()\n",
    "except Exception as e:\n",
    "    pass\n",
    "finally:\n",
    "    print(\"I dont know about others, but I am gonna EXECUTE......Mindit\")"
   ]
  },
  {
   "cell_type": "code",
   "execution_count": 15,
   "id": "85d459c0-a2a7-48f2-9999-6e27360a75ca",
   "metadata": {},
   "outputs": [
    {
     "ename": "TypeError",
     "evalue": "Sirji only Integers are allowed.",
     "output_type": "error",
     "traceback": [
      "\u001b[0;31m---------------------------------------------------------------------------\u001b[0m",
      "\u001b[0;31mTypeError\u001b[0m                                 Traceback (most recent call last)",
      "Cell \u001b[0;32mIn[15], line 4\u001b[0m\n\u001b[1;32m      2\u001b[0m x \u001b[38;5;241m=\u001b[39m \u001b[38;5;124m\"\u001b[39m\u001b[38;5;124mhello\u001b[39m\u001b[38;5;124m\"\u001b[39m\n\u001b[1;32m      3\u001b[0m \u001b[38;5;28;01mif\u001b[39;00m \u001b[38;5;129;01mnot\u001b[39;00m \u001b[38;5;28mtype\u001b[39m(x) \u001b[38;5;129;01mis\u001b[39;00m \u001b[38;5;28mint\u001b[39m:\n\u001b[0;32m----> 4\u001b[0m     \u001b[38;5;28;01mraise\u001b[39;00m \u001b[38;5;167;01mTypeError\u001b[39;00m(\u001b[38;5;124m\"\u001b[39m\u001b[38;5;124mSirji only Integers are allowed.\u001b[39m\u001b[38;5;124m\"\u001b[39m)\n",
      "\u001b[0;31mTypeError\u001b[0m: Sirji only Integers are allowed."
     ]
    }
   ],
   "source": [
    "# Example to show raise function\n",
    "x = \"hello\"\n",
    "if not type(x) is int:\n",
    "    raise TypeError(\"Sirji only Integers are allowed.\")"
   ]
  },
  {
   "cell_type": "markdown",
   "id": "90d315b0-626d-4f58-9d9c-b3971f19bab7",
   "metadata": {},
   "source": [
    "### Q.5) What are custom Exceptions in python ? Why we need custom expection ? Expalin with an example ?"
   ]
  },
  {
   "cell_type": "markdown",
   "id": "1a30b3f0-0e0f-44c3-8a2b-d9f930f3cbd4",
   "metadata": {},
   "source": [
    "- Custom Expections are the Expections which are defined by the developers. by defining child class and inhereting the Exception class."
   ]
  },
  {
   "cell_type": "markdown",
   "id": "1ee9e266-02de-48de-92d1-62e980141dab",
   "metadata": {},
   "source": [
    "- We need custom expection because in some cases the input/event has no issues according to system, but are not relevent to realworld application.\n",
    "- Please find below example"
   ]
  },
  {
   "cell_type": "markdown",
   "id": "efd80428-9086-42db-9bb0-3dcc6d89395e",
   "metadata": {},
   "source": [
    "### Q.6) Create a Custom Expection class. Use this to handle an exception."
   ]
  },
  {
   "cell_type": "code",
   "execution_count": 36,
   "id": "59f9c712-b1ab-4856-a92c-a49c2806d4b1",
   "metadata": {},
   "outputs": [],
   "source": [
    "class Valid_voting_age(Exception):\n",
    "    def __init__(Self,age):\n",
    "        self.age=age\n",
    "def age_validation(age):\n",
    "    if 0<age<=18:\n",
    "        print(\"You are not eligible to Vote\")\n",
    "    elif 0<age<180:\n",
    "        print(\"You are eligible to vote\")\n",
    "    else:\n",
    "        print(\"Invalid input\")\n"
   ]
  },
  {
   "cell_type": "code",
   "execution_count": 37,
   "id": "b1623bc4-66d2-40f2-b403-e066ca788653",
   "metadata": {},
   "outputs": [
    {
     "name": "stdout",
     "output_type": "stream",
     "text": [
      "You are eligible to vote\n"
     ]
    }
   ],
   "source": [
    "age_validation(20)"
   ]
  },
  {
   "cell_type": "code",
   "execution_count": null,
   "id": "9eac285a-4fcd-4a74-b938-2bff4d768a51",
   "metadata": {},
   "outputs": [],
   "source": []
  }
 ],
 "metadata": {
  "kernelspec": {
   "display_name": "Python 3 (ipykernel)",
   "language": "python",
   "name": "python3"
  },
  "language_info": {
   "codemirror_mode": {
    "name": "ipython",
    "version": 3
   },
   "file_extension": ".py",
   "mimetype": "text/x-python",
   "name": "python",
   "nbconvert_exporter": "python",
   "pygments_lexer": "ipython3",
   "version": "3.10.8"
  }
 },
 "nbformat": 4,
 "nbformat_minor": 5
}
