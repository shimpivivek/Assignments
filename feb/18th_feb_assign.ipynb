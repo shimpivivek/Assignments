{
 "cells": [
  {
   "cell_type": "markdown",
   "id": "acce127b-0dbf-45cb-b7a4-3dcc4cd12521",
   "metadata": {},
   "source": [
    "### Q1. What is an API? Give an example, where an API is used in real life.\n"
   ]
  },
  {
   "cell_type": "markdown",
   "id": "3f711466-e04b-4c5c-ab6f-cf33b3de87fa",
   "metadata": {},
   "source": [
    "An API, which stands for Application Programming Interface, is a set of rules and protocols that allows different software applications to communicate and interact with each other. It defines the methods, data formats, and conventions that developers should use when integrating their software with a particular service or platform.an API acts as an intermediary between two applications, enabling them to exchange information and perform actions seamlessly. It abstracts away the complexities of the underlying system and provides a standardized way for applications to interact.\n",
    "\n",
    "Example :- Booking train tickets on IRCTC using 3rd party apps."
   ]
  },
  {
   "cell_type": "markdown",
   "id": "f318b269-9c4a-4442-8520-1ca48c019e9f",
   "metadata": {},
   "source": [
    "### Q2. Give advantages and disadvantages of using API."
   ]
  },
  {
   "cell_type": "markdown",
   "id": "1d677d45-a6b7-40c3-847e-0ea7f0d0f4ff",
   "metadata": {},
   "source": [
    "Advantages of using APIs:\n",
    "\n",
    "1) Modularity and code reuse: APIs allow developers to modularize their applications and reuse existing code and functionalities. By utilizing APIs, developers can leverage pre-built components and services, saving time and effort in development.\n",
    "\n",
    "2) Increased efficiency: APIs enable efficient collaboration and integration between different software systems.\n",
    "\n",
    "3) Enhanced functionality: APIs provide access to external services, libraries, and databases, expanding the functionality of applications. By integrating with APIs, developers can incorporate features such as payment processing, social media sharing, mapping services, and more, without building everything from scratch.\n",
    "\n",
    "4) Scalability and flexibility: APIs facilitate scalability by allowing applications to connect with external services that can handle heavy processing or storage requirements. They also provide flexibility, enabling applications to adapt and integrate with new technologies and services as needed.\n",
    "\n",
    "Disadvantages of using APIs:\n",
    "\n",
    "1) Dependency on third-party services: When utilizing APIs from external providers, applications become dependent on the availability and reliability of those services. If the API provider experiences downtime or discontinues the service, it can impact the functionality and performance of the dependent applications.\n",
    "\n",
    "2) Versioning and compatibility challenges: APIs evolve over time, and new versions may introduce changes or deprecate certain functionalities. This can lead to compatibility issues and require updates and modifications in the dependent applications to accommodate the changes.\n",
    "\n",
    "3) Security and privacy concerns: APIs often involve the exchange of sensitive data and require proper authentication and security measures to protect against unauthorized access. If APIs are not implemented securely or if there are vulnerabilities in the API implementation, it can pose risks to the confidentiality and integrity of the data.\n"
   ]
  },
  {
   "cell_type": "markdown",
   "id": "16a1c647-09bd-47b4-b308-0b997fb3d18c",
   "metadata": {},
   "source": [
    "### Q3. What is a Web API? Differentiate between API and Web API."
   ]
  },
  {
   "cell_type": "markdown",
   "id": "02813a39-d108-4891-8061-d8dfa6ef26f9",
   "metadata": {},
   "source": [
    "\n",
    "A Web API, also known as a Web Service API or HTTP API, is an API specifically designed to enable communication and interaction between different software applications over the web using standard web protocols such as HTTP. It allows applications to exchange data and perform actions by making requests to specific endpoints exposed by the API.\n",
    "\n",
    "The main difference between API and Web API lies in their implementation and communication protocols. While API is a general term referring to a set of rules for application integration, a Web API specifically utilizes web-based protocols and technologies like HTTP, REST (Representational State Transfer), or SOAP (Simple Object Access Protocol) for communication. Web APIs are typically accessed using URLs, and data is commonly exchanged in formats like JSON or XML."
   ]
  },
  {
   "cell_type": "markdown",
   "id": "8c2df34d-c1fc-4295-a77b-d5ce859b1ad3",
   "metadata": {},
   "source": [
    "### Q4. Explain REST and SOAP Architecture. Mention shortcomings of SOAP.\n"
   ]
  },
  {
   "cell_type": "markdown",
   "id": "c4d75d2e-a89b-4a30-baf0-95bfb700993a",
   "metadata": {},
   "source": [
    "REST (Representational State Transfer) and SOAP (Simple Object Access Protocol) are two different architectural styles used for designing web services.\n",
    "\n",
    "REST Architecture:\n",
    "REST is an architectural style that is based on a set of principles for building scalable and lightweight web services. It emphasizes simplicity, statelessness, and the use of standard HTTP methods (GET, POST, PUT, DELETE) for data manipulation. RESTful APIs typically use JSON or XML as the data interchange format. REST is widely adopted due to its simplicity, scalability, and compatibility with various platforms and devices.\n",
    "\n",
    "SOAP Architecture:\n",
    "SOAP is an XML-based protocol for exchanging structured information in web services. It provides a standardized way for applications to communicate over the internet using XML messages. SOAP uses a formal contract called a Web Services Description Language (WSDL) to define the structure of the messages and the operations supported by the web service. SOAP supports more advanced features like message-level security and transaction handling.\n",
    "\n",
    "Shortcomings of SOAP:\n",
    "\n",
    "1) Complexity: SOAP is more complex compared to REST, as it involves XML parsing and adherence to strict messaging structures. This complexity can lead to slower development and increased overhead.\n",
    "\n",
    "2) Overhead: SOAP messages are larger in size due to XML formatting and additional headers, resulting in higher bandwidth consumption and slower performance compared to REST.\n",
    "\n",
    "3) Tight Coupling: SOAP is tightly coupled with specific technologies and platforms, making it less flexible and limiting interoperability with different programming languages and frameworks.\n",
    "\n",
    "4) Limited Browser Support: SOAP is not natively supported by web browsers, which can hinder its usage in client-side applications or JavaScript-based environments.\n",
    "\n",
    "5) Lack of Caching: SOAP is generally not cache-friendly, as it lacks built-in mechanisms for caching responses. This can result in reduced performance and increased network traffic."
   ]
  },
  {
   "cell_type": "markdown",
   "id": "5087e8b2-74ac-41dc-b36e-4cd579919d0f",
   "metadata": {},
   "source": [
    "### Q5. Differentiate between REST and SOAP."
   ]
  },
  {
   "cell_type": "markdown",
   "id": "e73cee5b-bca4-4c2a-8b93-9c694ca6ccce",
   "metadata": {},
   "source": [
    "REST:-\n",
    "1) Relies on REST (Representational State Transfer) architecture using HTTP.\n",
    "2) Generally transports data in JSON. It is based on URI. Because REST follows stateless model, REST does not enforces message format as XML or JSON etc.\n",
    "3) It works with GET, POST, PUT, DELETE\n",
    "4) \tWorks over HTTP and HTTPS\n",
    "5) Less structured -> less bulky data\n",
    "6) Designed with mobile devices in mind\n",
    "\n",
    "SOAP :- \n",
    "1) Relies on SOAP (Simple Object Access Protocol)\n",
    "2) Transports data in standard XML format.\n",
    "3) Because it is XML based and relies on SOAP, it works with WSDL\n",
    "4) Works over HTTP, HTTPS, SMTP, XMPP\n",
    "5) Highly structured/typed\n",
    "6) Designed with large enterprise applications in mind"
   ]
  },
  {
   "cell_type": "code",
   "execution_count": null,
   "id": "6022558d-701e-4eae-b5b5-cbd482c35b00",
   "metadata": {},
   "outputs": [],
   "source": []
  },
  {
   "cell_type": "code",
   "execution_count": null,
   "id": "ad0c348d-6149-4933-b450-580597d79408",
   "metadata": {},
   "outputs": [],
   "source": []
  },
  {
   "cell_type": "code",
   "execution_count": null,
   "id": "c8ed0b17-309b-4919-aca3-baccaac3ae93",
   "metadata": {},
   "outputs": [],
   "source": []
  },
  {
   "cell_type": "code",
   "execution_count": null,
   "id": "7c57f71e-ce6e-4251-85d7-0a1a7a6d8f5d",
   "metadata": {},
   "outputs": [],
   "source": []
  },
  {
   "cell_type": "code",
   "execution_count": null,
   "id": "ee198c8c-2317-44df-8bdf-e8bda0ed7697",
   "metadata": {},
   "outputs": [],
   "source": []
  },
  {
   "cell_type": "code",
   "execution_count": null,
   "id": "71db4444-e5e3-4443-a1d7-ec4ff0c0e969",
   "metadata": {},
   "outputs": [],
   "source": []
  },
  {
   "cell_type": "code",
   "execution_count": null,
   "id": "295f1bc1-86c7-4c93-86cb-1d7d073d42c7",
   "metadata": {},
   "outputs": [],
   "source": []
  },
  {
   "cell_type": "code",
   "execution_count": null,
   "id": "50b84471-45af-4c25-9e34-2fe9b66ee98c",
   "metadata": {},
   "outputs": [],
   "source": []
  },
  {
   "cell_type": "code",
   "execution_count": null,
   "id": "361a207c-fbba-462c-9ec3-017035e92f84",
   "metadata": {},
   "outputs": [],
   "source": []
  }
 ],
 "metadata": {
  "kernelspec": {
   "display_name": "Python 3 (ipykernel)",
   "language": "python",
   "name": "python3"
  },
  "language_info": {
   "codemirror_mode": {
    "name": "ipython",
    "version": 3
   },
   "file_extension": ".py",
   "mimetype": "text/x-python",
   "name": "python",
   "nbconvert_exporter": "python",
   "pygments_lexer": "ipython3",
   "version": "3.10.8"
  }
 },
 "nbformat": 4,
 "nbformat_minor": 5
}
