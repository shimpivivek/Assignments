{
 "cells": [
  {
   "cell_type": "markdown",
   "id": "0725a1ae-90f4-4c25-9c17-7d00ebc3f9c9",
   "metadata": {},
   "source": [
    "### Q1. Which function is used to open a file? What are the different modes of opening a file? Explain each mode of file opening.\n"
   ]
  },
  {
   "cell_type": "markdown",
   "id": "1257a271-26aa-4314-9ad6-00c9f7a280af",
   "metadata": {},
   "source": [
    "- The fopen() function is used to create a file or open an existing file:"
   ]
  },
  {
   "cell_type": "markdown",
   "id": "d8421a5b-6ccc-429b-a93e-d0364fc1076f",
   "metadata": {},
   "source": [
    "There are many modes for opening a file:\n",
    "\n",
    "- r - open a file in read mode\n",
    "- w - opens or create a text file in write mode\n",
    "- a - opens a file in append mode\n",
    "- r+ - opens a file in both read and write mode\n",
    "- a+ - opens a file in both read and write mode\n",
    "- w+ - opens a file in both read and write mode"
   ]
  },
  {
   "cell_type": "markdown",
   "id": "0671002a-6272-4447-af84-ebaac1be8a9f",
   "metadata": {},
   "source": [
    "### Q2. Why close() function is used? Why is it important to close a file?\n"
   ]
  },
  {
   "cell_type": "markdown",
   "id": "036243ee-e2ce-4d06-bd28-eab828b5bffb",
   "metadata": {},
   "source": [
    "Python file method close() closes the opened file. A closed file cannot be read or written any more. Any operation, which requires that the file be opened will raise a ValueError after the file has been closed. Calling close() more than once is allowed.\n",
    "\n",
    "Python automatically closes a file when the reference object of a file is reassigned to another file. It is a good practice to use the close() method to close a file."
   ]
  },
  {
   "cell_type": "markdown",
   "id": "0dae5cf4-259b-4bc6-8242-20a3c89fd75e",
   "metadata": {},
   "source": [
    "### Q3. Write a python program to create a text file. Write ‘I want to become a Data Scientist’ in that file. Then close the file. Open this file and read the content of the file."
   ]
  },
  {
   "cell_type": "code",
   "execution_count": 29,
   "id": "d02168b3-d6c7-47a9-a697-a1d63d279f88",
   "metadata": {},
   "outputs": [],
   "source": [
    "f=open(\"Data_sci.txt\",\"w\")\n",
    "f.write(\"I want to become a Data Scientist\")\n",
    "f.close()\n",
    "f=open(\"Data_sci.txt\",\"r\")\n",
    "f.read()\n",
    "f.close()"
   ]
  },
  {
   "cell_type": "markdown",
   "id": "5586f479-b7c9-49d2-b3b1-f1d32c6a8874",
   "metadata": {},
   "source": [
    "### Q4. Explain the following with python code: read(), readline() and readlines().\n"
   ]
  },
  {
   "cell_type": "code",
   "execution_count": 46,
   "id": "856837ae-59d2-42fe-8c2b-0332ee075de3",
   "metadata": {},
   "outputs": [
    {
     "data": {
      "text/plain": [
       "' In a drea'"
      ]
     },
     "execution_count": 46,
     "metadata": {},
     "output_type": "execute_result"
    }
   ],
   "source": [
    "f=open(\"Data_sci.txt\",\"w\")\n",
    "f.write(\" In a dream I spoke with the Cyprus-born,\\n And said to her, “Mother of beauty, mother of joy, Why hast thou given to men “This thing called love, like the ache of a wound In beauty's side, To burn and throb and be quelled for an hour And never wholly depart \")\n",
    "f.close()\n",
    "f=open(\"Data_sci.txt\",\"r\")\n",
    "f.read(10) # Reads the number of character specified."
   ]
  },
  {
   "cell_type": "code",
   "execution_count": 47,
   "id": "bffe85ea-9e87-4c5e-8df7-199e286aa894",
   "metadata": {},
   "outputs": [
    {
     "data": {
      "text/plain": [
       "'m I spoke with the Cyprus-born,\\n'"
      ]
     },
     "execution_count": 47,
     "metadata": {},
     "output_type": "execute_result"
    }
   ],
   "source": [
    "f.readline() # Reads single line from the content"
   ]
  },
  {
   "cell_type": "code",
   "execution_count": 48,
   "id": "5064deb7-7b7a-4e30-8ab0-b9817fb58815",
   "metadata": {},
   "outputs": [
    {
     "data": {
      "text/plain": [
       "[\" And said to her, “Mother of beauty, mother of joy, Why hast thou given to men “This thing called love, like the ache of a wound In beauty's side, To burn and throb and be quelled for an hour And never wholly depart \"]"
      ]
     },
     "execution_count": 48,
     "metadata": {},
     "output_type": "execute_result"
    }
   ],
   "source": [
    "f.readlines() # Reads all the lines in the given content."
   ]
  },
  {
   "cell_type": "markdown",
   "id": "91d37d69-f7d8-4bea-82ea-f87f8e1f07f7",
   "metadata": {},
   "source": [
    "### Q5. Explain why with statement is used with open(). What is the advantage of using with statement and open() together?\n"
   ]
  },
  {
   "cell_type": "markdown",
   "id": "cf0034f5-317a-4a4b-a360-8e63244f74e3",
   "metadata": {},
   "source": [
    "- while using only open() statement we need to close it manully by calling file.close() or the programme doesnt refelct in the file.\n"
   ]
  },
  {
   "cell_type": "markdown",
   "id": "0a1000ce-5267-4ed6-8851-997c1d1c66b5",
   "metadata": {},
   "source": [
    "- but with the help of \"\"with\"\" statement we dont need to call file.close(), because \"with\" internall calls two functions , – __enter()__ and __exit()__. "
   ]
  },
  {
   "cell_type": "markdown",
   "id": "21aa4137-8a53-44c4-8efc-a757ebe0007d",
   "metadata": {},
   "source": [
    "### Q6. Explain the write() and writelines() functions. Give a suitable example."
   ]
  },
  {
   "cell_type": "markdown",
   "id": "da41ff8c-996f-4de7-87a9-46a21f7d5c34",
   "metadata": {},
   "source": [
    "The difference between Write() and WriteLine() method is based on new line character. Write() method displays the output but do not provide a new line character. WriteLine() method displays the output and also provides a new line character it the end of the string"
   ]
  },
  {
   "cell_type": "code",
   "execution_count": 51,
   "id": "b11b16ea-3f47-4a34-ab4a-2de14dc05f33",
   "metadata": {},
   "outputs": [
    {
     "data": {
      "text/plain": [
       "'See you soon!Over and out.'"
      ]
     },
     "execution_count": 51,
     "metadata": {},
     "output_type": "execute_result"
    }
   ],
   "source": [
    "f=open(\"Data_sci\",\"a\")\n",
    "f.writelines([\"See you soon!\", \"Over and out.\"])\n",
    "f.close()\n",
    "f=open(\"Data_sci\",\"r\")\n",
    "f.read()\n"
   ]
  },
  {
   "cell_type": "code",
   "execution_count": null,
   "id": "fb705957-2c10-47dd-94dc-396c0985a853",
   "metadata": {},
   "outputs": [],
   "source": []
  },
  {
   "cell_type": "code",
   "execution_count": null,
   "id": "79ddd589-133e-4684-a357-b4a5dc58013a",
   "metadata": {},
   "outputs": [],
   "source": []
  },
  {
   "cell_type": "code",
   "execution_count": null,
   "id": "bf090fcc-520a-40e7-bb5b-7d9e456f0f39",
   "metadata": {},
   "outputs": [],
   "source": []
  },
  {
   "cell_type": "code",
   "execution_count": null,
   "id": "bcf6bbbf-4fe5-4ecc-bf9b-fee109b03a8f",
   "metadata": {},
   "outputs": [],
   "source": []
  },
  {
   "cell_type": "code",
   "execution_count": null,
   "id": "5ffae7eb-48fa-4923-a9c9-b2f50a6e7a6a",
   "metadata": {},
   "outputs": [],
   "source": []
  },
  {
   "cell_type": "code",
   "execution_count": null,
   "id": "22bdd413-4bfd-4190-91ea-a1f246e468c9",
   "metadata": {},
   "outputs": [],
   "source": []
  }
 ],
 "metadata": {
  "kernelspec": {
   "display_name": "Python 3 (ipykernel)",
   "language": "python",
   "name": "python3"
  },
  "language_info": {
   "codemirror_mode": {
    "name": "ipython",
    "version": 3
   },
   "file_extension": ".py",
   "mimetype": "text/x-python",
   "name": "python",
   "nbconvert_exporter": "python",
   "pygments_lexer": "ipython3",
   "version": "3.10.8"
  }
 },
 "nbformat": 4,
 "nbformat_minor": 5
}
