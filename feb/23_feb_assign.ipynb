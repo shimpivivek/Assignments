{
 "cells": [
  {
   "cell_type": "markdown",
   "id": "ec6cd373-576b-47d7-9a7c-6c9b78268c66",
   "metadata": {},
   "source": [
    "### Q1. Create a Pandas Series that contains the following data: 4, 8, 15, 16, 23, and 42. Then, print the series.\n"
   ]
  },
  {
   "cell_type": "code",
   "execution_count": 1,
   "id": "e06fee74-001d-490b-9822-b1558aad01fc",
   "metadata": {},
   "outputs": [
    {
     "name": "stdout",
     "output_type": "stream",
     "text": [
      "0     4\n",
      "1     8\n",
      "2    15\n",
      "3    16\n",
      "4    23\n",
      "5    42\n",
      "dtype: int64\n"
     ]
    }
   ],
   "source": [
    "import pandas as pd\n",
    "lst=[4,8,15,16,23,42]\n",
    "print(pd.Series(lst))\n"
   ]
  },
  {
   "cell_type": "markdown",
   "id": "975b31a6-a73a-4941-bd41-fb33607a4797",
   "metadata": {},
   "source": [
    "### Q2. Create a variable of list type containing 10 elements in it, and apply pandas.Series function on the variable print it.\n"
   ]
  },
  {
   "cell_type": "code",
   "execution_count": 3,
   "id": "ccfa7781-cd19-45db-ae06-bb44deb18ff4",
   "metadata": {},
   "outputs": [
    {
     "name": "stdout",
     "output_type": "stream",
     "text": [
      "0      0\n",
      "1      2\n",
      "2      4\n",
      "3      6\n",
      "4      8\n",
      "5     10\n",
      "6     12\n",
      "7     14\n",
      "8     16\n",
      "9     18\n",
      "10    20\n",
      "dtype: int64\n"
     ]
    }
   ],
   "source": [
    "lst1=[i for i in range(0,21,2)]\n",
    "print(pd.Series(lst1))"
   ]
  },
  {
   "cell_type": "code",
   "execution_count": 6,
   "id": "3fef37c0-41da-4f51-92b9-9c1a334c1971",
   "metadata": {},
   "outputs": [
    {
     "name": "stdout",
     "output_type": "stream",
     "text": [
      "     Name  Age  Gender\n",
      "0   Alice   25  Female\n",
      "1     Bob   30    Male\n",
      "2  Claire   27  Female\n"
     ]
    }
   ],
   "source": [
    "data={\"Name\":[\"Alice\",\"Bob\",\"Claire\"],\n",
    "      \"Age\":[25,30,27],\n",
    "      \"Gender\":[\"Female\",\"Male\",\"Female\"]}\n",
    "df=pd.DataFrame(data)\n",
    "print(df)"
   ]
  },
  {
   "cell_type": "markdown",
   "id": "dce58f9b-b407-41d0-8cd1-9bdb37febb76",
   "metadata": {},
   "source": [
    "### Q4. What is ‘DataFrame’ in pandas and how is it different from pandas.series? Explain with an example.\n"
   ]
  },
  {
   "cell_type": "markdown",
   "id": "0527c35a-1082-4272-ac37-8fa8ae9956dd",
   "metadata": {},
   "source": [
    "In pandas, a DataFrame is a two-dimensional data structure that represents data in a tabular format, similar to a spreadsheet or a SQL table. It consists of rows and columns, where each column can have a different data type. DataFrames are the primary data structure used in pandas for data manipulation and analysis.\n",
    "\n",
    "On the other hand, a Series is a one-dimensional data structure in pandas that represents a single column or a single row of data in a DataFrame. It can be thought of as a labeled array or a column in a spreadsheet. Unlike DataFrames, Series have a fixed data type and are homogeneous, meaning all the elements in a Series must have the same data type."
   ]
  },
  {
   "cell_type": "code",
   "execution_count": 8,
   "id": "af8428f3-5954-445c-9cbc-331bb1671671",
   "metadata": {},
   "outputs": [
    {
     "name": "stdout",
     "output_type": "stream",
     "text": [
      "     Name  Age  Gender\n",
      "0   Alice   25  Female\n",
      "1     Bob   30    Male\n",
      "2  Claire   27  Female\n",
      "<class 'pandas.core.frame.DataFrame'>\n",
      "0     Alice\n",
      "1       Bob\n",
      "2    Claire\n",
      "Name: Name, dtype: object\n",
      "<class 'pandas.core.series.Series'>\n"
     ]
    }
   ],
   "source": [
    "# Example of data farme:-\n",
    "print(df)\n",
    "print(type(df))\n",
    "# Example of pandas.series:-\n",
    "print(df[\"Name\"])\n",
    "print(type(df[\"Name\"]))"
   ]
  },
  {
   "cell_type": "markdown",
   "id": "b531be0f-e21a-4ab9-932a-778377747bf5",
   "metadata": {},
   "source": [
    "### Q5. What are some common functions you can use to manipulate data in a Pandas DataFrame? Can you give an example of when you might use one of these functions?\n"
   ]
  },
  {
   "cell_type": "markdown",
   "id": "f09097d0-ddde-4410-a425-52f23f3cda33",
   "metadata": {},
   "source": [
    "1) head() and tail(): These functions allow you to view the first or last few rows of a DataFrame, respectively. They are useful for quickly inspecting the data.\n",
    "2) info(): This function provides a summary of the DataFrame, including the column names, data types, and the number of non-null values. It's useful for getting a quick overview of the data.\n",
    "3) describe(): This function generates descriptive statistics of the numerical columns in the DataFrame, such as count, mean, standard deviation, minimum, and maximum values. It's helpful for understanding the distribution of the data.\n",
    "4) sort_values(): This function allows you to sort the DataFrame by one or more columns. You can specify the column(s) to sort by and choose the sorting order (ascending or descending).\n",
    "5) groupby(): This function is used to group the data based on one or more columns and perform operations on each group. It's useful for aggregating data and computing summary statistics.\n",
    "6) dropna(): This function is used to remove rows or columns with missing values (NaN) from the DataFrame. It's helpful for cleaning the data before analysis.\n"
   ]
  },
  {
   "cell_type": "code",
   "execution_count": null,
   "id": "031f6f5e-2d18-4017-9234-99ac8f095216",
   "metadata": {},
   "outputs": [],
   "source": [
    "#example :- \n",
    "df.info()\n"
   ]
  },
  {
   "cell_type": "markdown",
   "id": "80218616-a264-4de1-8eb1-7b3d53ec5137",
   "metadata": {},
   "source": [
    "### Q6. Which of the following is mutable in nature Series, DataFrame, Panel?\n"
   ]
  },
  {
   "cell_type": "markdown",
   "id": "5dc2e382-9dfc-41c2-9aba-9071c6378ec4",
   "metadata": {},
   "source": [
    "Series: A Series object is mutable, meaning you can modify its elements or assign new values to them. You can change the values within a Series using indexing or other methods provided by pandas.\n",
    "\n",
    "DataFrame: Similar to Series, a DataFrame is also mutable. You can modify individual cell values, add or remove columns, or update rows using various methods and operations available in pandas.\n",
    "\n",
    "Panel: Panels were a three-dimensional data structure in pandas that used to hold data in the past.Panels are not mutable because they are no longer actively used in the latest versions of pandas."
   ]
  },
  {
   "cell_type": "markdown",
   "id": "fcf55214-60fd-442a-9c23-98b129c4cbdd",
   "metadata": {},
   "source": [
    "### Q7. Create a DataFrame using multiple Series. Explain with an example."
   ]
  },
  {
   "cell_type": "code",
   "execution_count": 16,
   "id": "f823acb7-88d1-4d88-a476-54eca30e3f79",
   "metadata": {},
   "outputs": [
    {
     "name": "stdout",
     "output_type": "stream",
     "text": [
      "     Name  age  gender\n",
      "0   Alice   25  Female\n",
      "1     Bob   30    Male\n",
      "2  Claire   27  Female\n"
     ]
    }
   ],
   "source": [
    "name_series=pd.Series([\"Alice\",\"Bob\",\"Claire\"])\n",
    "age_series=pd.Series([25,30,27])\n",
    "gender_series=pd.Series([\"Female\",\"Male\",\"Female\"])\n",
    "data1={\"Name\":name_series,\n",
    "       \"age\": age_series,\n",
    "       \"gender\":gender_series}\n",
    "df1=pd.DataFrame(data1)\n",
    "print(df1)"
   ]
  },
  {
   "cell_type": "code",
   "execution_count": null,
   "id": "a58e7ef3-44c8-400b-89b4-08f8bac2d0d1",
   "metadata": {},
   "outputs": [],
   "source": []
  }
 ],
 "metadata": {
  "kernelspec": {
   "display_name": "Python 3 (ipykernel)",
   "language": "python",
   "name": "python3"
  },
  "language_info": {
   "codemirror_mode": {
    "name": "ipython",
    "version": 3
   },
   "file_extension": ".py",
   "mimetype": "text/x-python",
   "name": "python",
   "nbconvert_exporter": "python",
   "pygments_lexer": "ipython3",
   "version": "3.10.8"
  }
 },
 "nbformat": 4,
 "nbformat_minor": 5
}
