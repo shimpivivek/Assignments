{
 "cells": [
  {
   "cell_type": "code",
   "execution_count": 15,
   "id": "6951dcfb-4285-4475-a715-a18ac81ec705",
   "metadata": {},
   "outputs": [
    {
     "data": {
      "text/plain": [
       "array(['1', '2', '3', '4', '5'], dtype='<U1')"
      ]
     },
     "execution_count": 15,
     "metadata": {},
     "output_type": "execute_result"
    }
   ],
   "source": [
    "import numpy as np\n",
    "\n",
    "lst= [\"1\",\"2\",\"3\",\"4\",\"5\"]\n",
    "\n",
    "array_list = np.array(object = lst)\n",
    "array_list"
   ]
  },
  {
   "cell_type": "markdown",
   "id": "e105a620-9645-4a0e-a6e4-1d38765b4762",
   "metadata": {},
   "source": [
    "### Q1. Is there any difference in the data type of variables list_ and array_list? If there is then write a code to print the data types of both the variables.\n"
   ]
  },
  {
   "cell_type": "code",
   "execution_count": 16,
   "id": "686a6c65-3c9c-4b37-ac2b-9d710df2f92c",
   "metadata": {},
   "outputs": [
    {
     "name": "stdout",
     "output_type": "stream",
     "text": [
      "Yes their is difference between the data types\n",
      "<class 'list'>\n",
      "<class 'numpy.ndarray'>\n"
     ]
    }
   ],
   "source": [
    "print(\"Yes their is difference between the data types\")\n",
    "print(type(lst))\n",
    "print(type(array_list))"
   ]
  },
  {
   "cell_type": "markdown",
   "id": "6f691864-7400-4cb7-afc1-1979e79ebe84",
   "metadata": {},
   "source": [
    "### Q2. Write a code to print the data type of each and every element of both the variables list_ and arra_list.\n"
   ]
  },
  {
   "cell_type": "code",
   "execution_count": 17,
   "id": "e5c635c9-cc24-4e1f-9da0-6a3ef86103ad",
   "metadata": {},
   "outputs": [
    {
     "name": "stdout",
     "output_type": "stream",
     "text": [
      "<class 'str'>\n",
      "<class 'str'>\n",
      "<class 'str'>\n",
      "<class 'str'>\n",
      "<class 'str'>\n",
      "<class 'numpy.str_'>\n",
      "<class 'numpy.str_'>\n",
      "<class 'numpy.str_'>\n",
      "<class 'numpy.str_'>\n",
      "<class 'numpy.str_'>\n"
     ]
    }
   ],
   "source": [
    "for i in lst:\n",
    "    print(type(i))\n",
    "for y in array_list:\n",
    "    print(type(y))"
   ]
  },
  {
   "cell_type": "code",
   "execution_count": 22,
   "id": "1d5afb9d-7de8-4d68-8ba5-5b037e100e9e",
   "metadata": {},
   "outputs": [],
   "source": [
    "array_list = np.array(object = lst, dtype = int)"
   ]
  },
  {
   "cell_type": "markdown",
   "id": "aff53ee0-6038-4de3-8c7c-1cfe33186c61",
   "metadata": {},
   "source": [
    "### Will there be any difference in the data type of the elements present in both the variables, list_ and arra_list? If so then print the data types of each and every element present in both the variables, list_ and arra_list.\n"
   ]
  },
  {
   "cell_type": "code",
   "execution_count": 23,
   "id": "e134b923-0923-4773-bf24-97c48bee111b",
   "metadata": {},
   "outputs": [
    {
     "name": "stdout",
     "output_type": "stream",
     "text": [
      "<class 'str'>\n",
      "<class 'str'>\n",
      "<class 'str'>\n",
      "<class 'str'>\n",
      "<class 'str'>\n",
      "<class 'numpy.int64'>\n",
      "<class 'numpy.int64'>\n",
      "<class 'numpy.int64'>\n",
      "<class 'numpy.int64'>\n",
      "<class 'numpy.int64'>\n"
     ]
    }
   ],
   "source": [
    "for i in lst:\n",
    "    print(type(i))\n",
    "for y in array_list:\n",
    "    print(type(y))"
   ]
  },
  {
   "cell_type": "code",
   "execution_count": 24,
   "id": "2a5038b2-690c-427a-87c3-6a5f1d9fa06d",
   "metadata": {},
   "outputs": [],
   "source": [
    "import numpy as np\n",
    "\n",
    "num_list = [ [ 1 , 2 , 3 ] , [ 4 , 5 , 6 ] ]\n",
    "\n",
    "num_array = np.array(object = num_list)"
   ]
  },
  {
   "cell_type": "markdown",
   "id": "a264c460-f1ea-4928-95a9-ec4b6e764950",
   "metadata": {},
   "source": [
    "Q4. Write a code to find the following characteristics of variable, num_array:\n",
    "\n",
    "(i) shape\n",
    "\n",
    "(ii) size\n",
    "\n"
   ]
  },
  {
   "cell_type": "code",
   "execution_count": 29,
   "id": "1955c08c-12bf-49ab-9c5f-9b98e7c60d5f",
   "metadata": {},
   "outputs": [
    {
     "name": "stdout",
     "output_type": "stream",
     "text": [
      "(2, 3)\n",
      "6\n"
     ]
    }
   ],
   "source": [
    "print(num_array.shape)\n",
    "print(num_array.size)\n"
   ]
  },
  {
   "cell_type": "markdown",
   "id": "ff4c2e26-34c0-41de-bfee-32570b97da54",
   "metadata": {},
   "source": [
    "Q5. Write a code to create numpy array of 3*3 matrix containing zeros only, using a numpy array\n",
    "creation function.\n",
    "\n",
    "[Hint: The size of the array will be 9 and the shape will be (3,3).]\n",
    "\n"
   ]
  },
  {
   "cell_type": "code",
   "execution_count": 35,
   "id": "f1026c1c-d65f-4781-a403-b8599ec924c0",
   "metadata": {},
   "outputs": [
    {
     "data": {
      "text/plain": [
       "array([[0., 0., 0.],\n",
       "       [0., 0., 0.],\n",
       "       [0., 0., 0.]])"
      ]
     },
     "execution_count": 35,
     "metadata": {},
     "output_type": "execute_result"
    }
   ],
   "source": [
    "num1=np.zeros((3,3))\n",
    "num1"
   ]
  },
  {
   "cell_type": "markdown",
   "id": "4ea33e54-5ba3-438d-ba98-acb7b6d89443",
   "metadata": {},
   "source": [
    "Q6. Create an identity matrix of shape (5,5) using numpy functions?\n",
    "\n",
    "[Hint: An identity matrix is a matrix containing 1 diagonally and other elements will be 0.]"
   ]
  },
  {
   "cell_type": "code",
   "execution_count": 38,
   "id": "7f0f6265-4c5f-4adb-84f6-f8dea2b15f83",
   "metadata": {},
   "outputs": [
    {
     "name": "stdout",
     "output_type": "stream",
     "text": [
      "[[1. 0. 0. 0. 0.]\n",
      " [0. 1. 0. 0. 0.]\n",
      " [0. 0. 1. 0. 0.]\n",
      " [0. 0. 0. 1. 0.]\n",
      " [0. 0. 0. 0. 1.]]\n"
     ]
    }
   ],
   "source": [
    "num2=np.eye(5)\n",
    "print(num2)"
   ]
  },
  {
   "cell_type": "code",
   "execution_count": null,
   "id": "e8f087eb-9c2e-43eb-9915-f247b7b39f7b",
   "metadata": {},
   "outputs": [],
   "source": []
  },
  {
   "cell_type": "code",
   "execution_count": null,
   "id": "503f2268-ab3f-4a1a-8a41-224f8587e804",
   "metadata": {},
   "outputs": [],
   "source": []
  },
  {
   "cell_type": "code",
   "execution_count": null,
   "id": "21a04f75-194f-450f-8001-7357a7f6e723",
   "metadata": {},
   "outputs": [],
   "source": []
  }
 ],
 "metadata": {
  "kernelspec": {
   "display_name": "Python 3 (ipykernel)",
   "language": "python",
   "name": "python3"
  },
  "language_info": {
   "codemirror_mode": {
    "name": "ipython",
    "version": 3
   },
   "file_extension": ".py",
   "mimetype": "text/x-python",
   "name": "python",
   "nbconvert_exporter": "python",
   "pygments_lexer": "ipython3",
   "version": "3.10.8"
  }
 },
 "nbformat": 4,
 "nbformat_minor": 5
}
