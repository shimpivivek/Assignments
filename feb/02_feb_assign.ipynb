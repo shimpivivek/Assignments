{
 "cells": [
  {
   "cell_type": "markdown",
   "id": "0f1d3d9b-1619-459e-9863-6d7b530d5261",
   "metadata": {},
   "source": [
    "### 1)  What are the characteristics of the tuples? Is tuple immutable?"
   ]
  },
  {
   "cell_type": "code",
   "execution_count": null,
   "id": "969e4cca-1adf-4aca-8fa3-92a5b538b7dd",
   "metadata": {},
   "outputs": [],
   "source": [
    "\"\"\" A Tuple is a databtype in python which is,\n",
    "1) Ordered - it means that the items have a defined order, and that order will not change.\n",
    "2) unchangeable -meaning that we cannot change, add or remove items after the tuple has been created. \n",
    "3) Indexed -Tuple items are indexed, the first item has index [0], the second item has index [1] etc.\n",
    "3) duplicate values - Since tuples are indexed, they can have items with the same value\n",
    "\n",
    "Tuple are immutable \"\"\""
   ]
  },
  {
   "cell_type": "markdown",
   "id": "ec3682c2-164b-4d71-a557-dea6901e0747",
   "metadata": {},
   "source": [
    "### 2)  What are the two tuple methods in python? Give an example of each method. Give a reason why tuples have only two in-built methods as compared to Lists."
   ]
  },
  {
   "cell_type": "code",
   "execution_count": 12,
   "id": "d5685a5c-7d6a-45f4-9e35-ec11ec73116d",
   "metadata": {},
   "outputs": [
    {
     "data": {
      "text/plain": [
       "0"
      ]
     },
     "execution_count": 12,
     "metadata": {},
     "output_type": "execute_result"
    }
   ],
   "source": [
    "\"\"\" The Two tuple method in python are count() and index().\"\"\"\n",
    "#Example:- \n",
    "a=(4,2,3,4,5,6,7,8,4,10)\n",
    "a.count(4) #b Counts the No of occurences of the item in the ().\n",
    "a.index(4) # returns the first index of iten in ().\n",
    "\n",
    "#In Python, tuples are immutables. Meaning, you cannot change items of a tuple once it is assigned.\n",
    "#hence tuple does not support other method as list does.\"\"\"\n"
   ]
  },
  {
   "cell_type": "markdown",
   "id": "1c9619b0-7406-4a3b-bd5e-bbb2d1cf7e4d",
   "metadata": {},
   "source": [
    "### Q3.  Which collection datatypes in python do not allow duplicate items? Write a code using a set to remove duplicates from the given list.\n",
    "List = [1, 1, 1, 2, 1, 3, 1, 4, 2, 1, 2, 2, 2, 3, 2, 4, 3, 1, 3, 2, 3, 3, 3, 4, 4, 1, 4, 2, 4, 3, 4, 4]"
   ]
  },
  {
   "cell_type": "code",
   "execution_count": 25,
   "id": "df0799ba-3951-4312-a372-d3e877f02169",
   "metadata": {},
   "outputs": [
    {
     "name": "stdout",
     "output_type": "stream",
     "text": [
      "{1, 2, 3, 4}\n"
     ]
    }
   ],
   "source": [
    "\"\"\" SET is the datatype in python which does not allow duplicates.\"\"\"\n",
    "List=[1, 1, 1, 2, 1, 3, 1, 4, 2, 1, 2, 2, 2, 3, 2, 4, 3, 1, 3, 2, 3, 3, 3, 4, 4, 1, 4, 2, 4, 3, 4, 4]\n",
    "set_list=set(List)\n",
    "print(set_list)"
   ]
  },
  {
   "cell_type": "code",
   "execution_count": 29,
   "id": "f07dd24c-0e80-41ca-a75e-19d83fedf5cc",
   "metadata": {},
   "outputs": [
    {
     "name": "stdout",
     "output_type": "stream",
     "text": [
      "{1, 2, 3, 4}\n"
     ]
    }
   ],
   "source": [
    "List=[1, 1, 1, 2, 1, 3, 1, 4, 2, 1, 2, 2, 2, 3, 2, 4, 3, 1, 3, 2, 3, 3, 3, 4, 4, 1, 4, 2, 4, 3, 4, 4]\n",
    "set_list=set()\n",
    "for i in List:\n",
    "    set_list.add(i)\n",
    "print(set_list)"
   ]
  },
  {
   "cell_type": "markdown",
   "id": "c6ba0d8b-7985-4843-b477-28d407e41fc5",
   "metadata": {},
   "source": [
    "### Q4. Explain the difference between the union() and update() methods for a set. Give an example of each method."
   ]
  },
  {
   "cell_type": "code",
   "execution_count": 39,
   "id": "0b9fb7ea-3b2a-4b3d-832c-bbc2814d893d",
   "metadata": {},
   "outputs": [
    {
     "name": "stdout",
     "output_type": "stream",
     "text": [
      "{1, 2, 3, 4, 5} {6, 7, 8, 9, 10}\n",
      "{1, 2, 3, 4, 5, 6, 7, 8, 9, 10}\n",
      "{1, 2, 3, 4, 5}\n"
     ]
    }
   ],
   "source": [
    "set1={1,2,3,4,5}\n",
    "set2={6,7,8,9,10}\n",
    "print(set1,set2)\n",
    "print(set1.union(set2))\n",
    "print(set1)"
   ]
  },
  {
   "cell_type": "code",
   "execution_count": 40,
   "id": "cba01999-af7e-426e-ab41-61bd7e233320",
   "metadata": {},
   "outputs": [
    {
     "name": "stdout",
     "output_type": "stream",
     "text": [
      "{1, 2, 3, 4, 5, 6, 7, 8, 9, 10}\n",
      "{1, 2, 3, 4, 5, 6, 7, 8, 9, 10}\n",
      "{6, 7, 8, 9, 10}\n"
     ]
    }
   ],
   "source": [
    "set1.update(set2)\n",
    "print(set1)\n",
    "print(set1)\n",
    "print(set2)"
   ]
  },
  {
   "cell_type": "markdown",
   "id": "85c4c9d6-9203-4801-9b1e-df7bc7f153cd",
   "metadata": {},
   "source": [
    "ANS - From the above example it can be seen that.\n",
    "-x.union(y)- Returns a new set containing elemets from both the sets. but the it does not change is the original set.\n",
    "-x.update(y)-retuens the the elements from both the sets by changing the original set."
   ]
  },
  {
   "cell_type": "markdown",
   "id": "eb0ba911-6b4b-4cbd-ac31-2898ddb632da",
   "metadata": {},
   "source": [
    "#### Q5. What is a dictionary? Give an example. Also, state whether a dictionary is ordered or unordered."
   ]
  },
  {
   "cell_type": "code",
   "execution_count": 42,
   "id": "9daa3111-86b4-4483-a60a-7261cc226695",
   "metadata": {},
   "outputs": [
    {
     "name": "stdout",
     "output_type": "stream",
     "text": [
      "{1: 'vivek', 2: 'Kiran', 3: 'ankit'}\n"
     ]
    }
   ],
   "source": [
    "\"\"\"Dictionary items are ordered, changeable, and does not allow duplicates.\n",
    "Dictionary items are presented in key:value pairs, and can be referred to by using the key name.\"\"\"\n",
    "#Example :-a dict named \"class_lst\" containing roll number as Keys and names as Values\n",
    "class_lst={1:\"vivek\",\n",
    "           2: \"Kiran\",\n",
    "           3: \"ankit\"}\n",
    "print(class_lst)\n",
    "\n",
    "# As stated in Defination of Dict items are unordered and hence cannot be indexed."
   ]
  },
  {
   "cell_type": "markdown",
   "id": "dd34a041-e3a0-41ea-ba2b-d2cbf1ba66c0",
   "metadata": {},
   "source": [
    "### Q6. Can we create a nested dictionary? If so, please give an example by creating a simple one-level nested dictionary."
   ]
  },
  {
   "cell_type": "code",
   "execution_count": 51,
   "id": "22924fac-8c07-4396-96f3-e4389659bf23",
   "metadata": {},
   "outputs": [
    {
     "name": "stdout",
     "output_type": "stream",
     "text": [
      "{'name': 'vivek', 'roll_no': 147, 'marks': {'hindi': 87, 'Eng': 89, 'maths': 93}}\n"
     ]
    }
   ],
   "source": [
    "\"\"\"A nested dictionary is a dictionary inside a parent dictionary stored as Value.\n",
    "and Yes we can create Nested dictionary \"\"\"\n",
    "info_std={\"name\":\"vivek\",\n",
    "          \"roll_no\":147,\n",
    "          \"marks\":{\"hindi\":87,\n",
    "                 \"Eng\":89,\n",
    "                 \"maths\":93}}\n",
    "print(info_std)"
   ]
  },
  {
   "cell_type": "markdown",
   "id": "68a482ba-4fd2-4b52-8370-1ab13daa9a61",
   "metadata": {},
   "source": [
    "### Q7. Using setdefault() method, create key named topics in the given dictionary and also add the value of\n",
    "the key as this list ['Python', 'Machine Learning’, 'Deep Learning']\n",
    "\n",
    "dict1 = {'language' : 'Python', 'course': 'Data Science Masters'}"
   ]
  },
  {
   "cell_type": "code",
   "execution_count": 54,
   "id": "ee61c7ef-62e8-45e2-8aff-dd154baf0d2a",
   "metadata": {},
   "outputs": [
    {
     "name": "stdout",
     "output_type": "stream",
     "text": [
      "{'language': 'Python', 'course': 'Data Science Masters', 'topic': ['Python', 'Machine Learning', 'Deep Learning']}\n"
     ]
    }
   ],
   "source": [
    "# The setdefault() method returns the Value for key given in ().\n",
    "#If no such key exists this adds the (Key:value) pair to existising dict.\n",
    "#exapmle :-\n",
    "dict1 = {'language' : 'Python', 'course': 'Data Science Masters'}\n",
    "dict1.setdefault(\"topic\",['Python','Machine Learning','Deep Learning'])\n",
    "print(dict1)"
   ]
  },
  {
   "cell_type": "markdown",
   "id": "308efd50-553e-4f94-aad2-66ead38a784b",
   "metadata": {},
   "source": [
    "### Q8. What are the three view objects in dictionaries? Use the three in-built methods in python to display these three view objects for the given dictionary.\n",
    "dict1 = {'Sport': 'Cricket' , 'Teams': ['India', 'Australia', 'England', 'South Africa', 'Sri Lanka', 'New Zealand']}"
   ]
  },
  {
   "cell_type": "code",
   "execution_count": 56,
   "id": "ab8e2f94-05bc-487c-a928-20c6d22db2f2",
   "metadata": {},
   "outputs": [
    {
     "name": "stdout",
     "output_type": "stream",
     "text": [
      "dict_keys(['Sport', 'Teams'])\n",
      "dict_values(['Cricket', ['India', 'Australia', 'England', 'South Africa', 'Sri Lanka', 'New Zealand']])\n",
      "dict_items([('Sport', 'Cricket'), ('Teams', ['India', 'Australia', 'England', 'South Africa', 'Sri Lanka', 'New Zealand'])])\n"
     ]
    }
   ],
   "source": [
    "# The 3 view objects in dict are\n",
    "#dict_keys: Obtained by calling the keys() method.\n",
    "#dict_values: Obtained by calling the values() method\n",
    "#dict_items: Obtained by calling the items() method\n",
    "dict1 = {'Sport': 'Cricket' , 'Teams': ['India', 'Australia', 'England', 'South Africa', 'Sri Lanka', 'New Zealand']}\n",
    "print(dict1.keys())\n",
    "print(dict1.values())\n",
    "print(dict1.items())"
   ]
  },
  {
   "cell_type": "code",
   "execution_count": null,
   "id": "40cf395c-19f0-4caf-b618-8a2d68fdf417",
   "metadata": {},
   "outputs": [],
   "source": []
  }
 ],
 "metadata": {
  "kernelspec": {
   "display_name": "Python 3 (ipykernel)",
   "language": "python",
   "name": "python3"
  },
  "language_info": {
   "codemirror_mode": {
    "name": "ipython",
    "version": 3
   },
   "file_extension": ".py",
   "mimetype": "text/x-python",
   "name": "python",
   "nbconvert_exporter": "python",
   "pygments_lexer": "ipython3",
   "version": "3.10.8"
  }
 },
 "nbformat": 4,
 "nbformat_minor": 5
}
