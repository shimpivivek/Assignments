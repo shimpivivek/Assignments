{
 "cells": [
  {
   "cell_type": "markdown",
   "id": "52cab7b1-16a7-4a17-a060-92ee7b1066ff",
   "metadata": {},
   "source": [
    "Q1. Create a function which will take a list as an argument and return the product of all the numbers\n",
    "after creating a flat list.\n",
    "Use the below-given list as an argument for your function.\n",
    "list1 = [1,2,3,4, [44,55,66, True], False, (34,56,78,89,34), {1,2,3,3,2,1}, {1:34, \"key2\": [55, 67, 78, 89], 4: (45,\n",
    "22, 61, 34)}, [56, 'data science'], 'Machine Learning']\n",
    "Note: you must extract numeric keys and values of the dictionary also."
   ]
  },
  {
   "cell_type": "code",
   "execution_count": 2,
   "id": "f2a8cc9f-6a2c-4533-9b2a-a52e4ca57e56",
   "metadata": {},
   "outputs": [
    {
     "name": "stdout",
     "output_type": "stream",
     "text": [
      "[1, 2, 3, 4, 44, 55, 66, 34, 56, 78, 89, 34, 1, 2, 3, 56, 1, 34, 55, 67, 78, 89, 4, 45, 22, 61, 34]\n"
     ]
    },
    {
     "data": {
      "text/plain": [
       "4134711838987085478833841242112000"
      ]
     },
     "execution_count": 2,
     "metadata": {},
     "output_type": "execute_result"
    }
   ],
   "source": [
    "list1 = [1,2,3,4, [44,55,66, True], False, (34,56,78,89,34), {1,2,3,3,2,1}, {1:34, \"key2\": [55, 67, 78, 89], 4: (45,\n",
    "22, 61, 34)}, [56, 'data science'], 'Machine Learning']\n",
    "\n",
    "from functools import reduce\n",
    "lst2={1:34, \"key2\": [55, 67, 78, 89], 4: (45,22, 61, 34)}\n",
    "lst2=list(lst2.items())\n",
    "lst3=[]\n",
    "for i in lst2:\n",
    "    for j in i:\n",
    "        if type(j)==int:\n",
    "            lst3.append(j)\n",
    "        elif type(j)==list or type(j)==tuple:\n",
    "            for k in j:\n",
    "                lst3.append(k)\n",
    "new_lst=[]\n",
    "for i in list1:\n",
    "    if type(i)==int:\n",
    "        new_lst.append(i)\n",
    "    if type(i)==list or type(i)==tuple or type(i)==set:\n",
    "        for j in i:\n",
    "            if type(j)==int:\n",
    "                new_lst.append(j)\n",
    "for s in lst3:\n",
    "    new_lst.append(s)\n",
    "print(new_lst)\n",
    "reduce(lambda x,y:x*y,new_lst)"
   ]
  },
  {
   "cell_type": "markdown",
   "id": "159cc3b4-b069-4d78-a155-0b9b521a10b3",
   "metadata": {},
   "source": [
    "Q2. Write a python program for encrypting a message sent to you by your friend. The logic of encryption\n",
    "should be such that, for a the output should be z. For b, the output should be y. For c, the output should\n",
    "be x respectively. Also, the whitespace should be replaced with a dollar sign. Keep the punctuation\n",
    "marks unchanged.\n",
    "\n",
    "\n",
    "Input Sentence: I want to become a Data Scientist.\n",
    "\n",
    "\n",
    "Encrypt the above input sentence using the program you just created.\n",
    "\n",
    "\n",
    "Note: Convert the given input sentence into lowercase before encrypting. The final output should be\n",
    "lowercase."
   ]
  },
  {
   "cell_type": "code",
   "execution_count": 5,
   "id": "f0333479-0757-4df0-8fed-e5c4a22f6dae",
   "metadata": {},
   "outputs": [
    {
     "name": "stdout",
     "output_type": "stream",
     "text": [
      "I$wznt$to$yexome$z$Dztz$Sxientist.\n"
     ]
    }
   ],
   "source": [
    "msg=\"I want to become a Data Scientist.\"\n",
    "msg.lower()\n",
    "Encrypt_msg=msg.replace(\"a\",\"z\").replace(\"b\",\"y\").replace(\"c\",\"x\").replace(\" \",\"$\")\n",
    "print(Encrypt_msg)"
   ]
  },
  {
   "cell_type": "code",
   "execution_count": null,
   "id": "1158ea74-2826-4067-94c1-c89953b9ae22",
   "metadata": {},
   "outputs": [],
   "source": []
  }
 ],
 "metadata": {
  "kernelspec": {
   "display_name": "Python 3 (ipykernel)",
   "language": "python",
   "name": "python3"
  },
  "language_info": {
   "codemirror_mode": {
    "name": "ipython",
    "version": 3
   },
   "file_extension": ".py",
   "mimetype": "text/x-python",
   "name": "python",
   "nbconvert_exporter": "python",
   "pygments_lexer": "ipython3",
   "version": "3.10.8"
  }
 },
 "nbformat": 4,
 "nbformat_minor": 5
}
