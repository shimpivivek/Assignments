{
 "cells": [
  {
   "cell_type": "markdown",
   "id": "352a9270-9d56-4991-b7c6-2f595ec8ba20",
   "metadata": {},
   "source": [
    "### Q1. What is a database? Differentiate between SQL and NoSQL databases.\n"
   ]
  },
  {
   "cell_type": "markdown",
   "id": "0629fbd4-a25f-42ad-a72d-7484304decf1",
   "metadata": {},
   "source": [
    "A database is an organized collection of structured information, or data, typically stored electronically in a computer system\n",
    "\n",
    "SQL :- \n",
    "1) RELATIONAL DATABASE MANAGEMENT SYSTEM (RDBMS)   vs   Non-relational or distributed database system\n",
    "2) These databases have fixed or static or predefined schema    vs    They have dynamic schema\n",
    "3) These databases are not suited for hierarchical data storage    vs   These databases are best suited for hierarchical data storage.\n",
    "4) These databases are best suited for complex queries    vs    These databases are not so good for complex queries\n",
    "5) Follows ACID property    vs    Follows CAP(consistency, availability, partition tolerance)"
   ]
  },
  {
   "cell_type": "markdown",
   "id": "48766631-fc67-425a-b18c-92da9cb8be83",
   "metadata": {},
   "source": [
    "### Q2. What is DDL? Explain why CREATE, DROP, ALTER, and TRUNCATE are used with an example.\n"
   ]
  },
  {
   "cell_type": "markdown",
   "id": "2cfbfb02-e437-4d6c-9115-3426402f68cf",
   "metadata": {},
   "source": [
    "Data definition language (DDL) describes the portion of SQL that creates, alters, and deletes database objects. These database objects include schemas, tables, views, sequences, catalogs, indexes, and aliases."
   ]
  },
  {
   "cell_type": "markdown",
   "id": "10b12709-bf69-4b6c-8e9a-d2b1718c661b",
   "metadata": {},
   "source": [
    " CREATE : - The CREATE statement is used to create a new database object. \n",
    "\n",
    " DROP :- The DROP statement is used to delete an existing database object. \n",
    "\n",
    " ALTER :- The ALTER statement is used to modify the structure of an existing database object.\n",
    "\n",
    " TRUNCATE :-The TRUNCATE statement is used to delete all data from a table but keep the table structure "
   ]
  },
  {
   "cell_type": "markdown",
   "id": "702645a2-db0e-4798-90b6-fc46b9ed8fac",
   "metadata": {},
   "source": [
    "CREATE TABLE customers (\n",
    "  id INT PRIMARY KEY,\n",
    "  name VARCHAR(50),\n",
    "  email VARCHAR(100)\n",
    ");\n",
    "\n",
    "DROP TABLE customers;\n",
    "\n",
    "ALTER TABLE customers\n",
    "ADD phone VARCHAR(20);\n",
    "\n",
    "TRUNCATE TABLE customers;"
   ]
  },
  {
   "cell_type": "markdown",
   "id": "755e6a7e-f5ea-4413-8c44-4a61ba121d78",
   "metadata": {},
   "source": [
    "### Q3. What is DML? Explain INSERT, UPDATE, and DELETE with an example."
   ]
  },
  {
   "cell_type": "markdown",
   "id": "b3e4b0d9-eb28-48f7-a64e-40630dc29b33",
   "metadata": {},
   "source": [
    "DML stands for Data Manipulation Language in SQL. It is a subset of SQL statements used to manipulate data within a database. DML statements are used to insert, update, and delete data from database tables."
   ]
  },
  {
   "cell_type": "code",
   "execution_count": 2,
   "id": "8f7b1350-3c1c-45b4-ad29-288c6021d66a",
   "metadata": {},
   "outputs": [
    {
     "ename": "SyntaxError",
     "evalue": "invalid syntax (4203561623.py, line 3)",
     "output_type": "error",
     "traceback": [
      "\u001b[0;36m  Cell \u001b[0;32mIn[2], line 3\u001b[0;36m\u001b[0m\n\u001b[0;31m    INSERT INTO customers (id, name, email, phone)\u001b[0m\n\u001b[0m           ^\u001b[0m\n\u001b[0;31mSyntaxError\u001b[0m\u001b[0;31m:\u001b[0m invalid syntax\n"
     ]
    }
   ],
   "source": [
    "#INSERT :- The INSERT statement is used to add new rows of data into a database table.\n",
    "\n",
    "INSERT INTO customers (id, name, email, phone)\n",
    "VALUES (1, 'John Doe', 'johndoe@example.com', '555-555-1212');\n",
    "\n",
    "#UPDATE :- The UPDATE statement is used to modify existing data within a database table.\n",
    "\n",
    "UPDATE customers\n",
    "SET email = 'john.doe@example.com'\n",
    "WHERE id = 1;\n",
    "\n",
    "#DELETE :- The DELETE statement is used to remove one or more rows of data from a database table. \n",
    "\n",
    "DELETE FROM customers\n",
    "WHERE id = 1;"
   ]
  },
  {
   "cell_type": "markdown",
   "id": "54def3b4-28f6-487b-9e96-4ed456978a2e",
   "metadata": {},
   "source": [
    "### Q4. What is DQL? Explain SELECT with an example."
   ]
  },
  {
   "cell_type": "markdown",
   "id": "116f86a7-70ac-496e-a470-b6d6e808629c",
   "metadata": {},
   "source": [
    "#DQL stands for Data Query Language in SQL. It is a subset of SQL statements used to retrieve data from a database. DQL statements are used to query data from one or more database tables.\n",
    "\n",
    "SELECT *\n",
    "FROM customers;\n",
    "\n",
    "#This statement selects all columns and all rows from the \"customers\" table and returns the result set."
   ]
  },
  {
   "cell_type": "markdown",
   "id": "9d783992-f51b-42f7-9d9e-60b0e1df3949",
   "metadata": {},
   "source": [
    "### Q5. Explain Primary Key and Foreign Key.\n"
   ]
  },
  {
   "cell_type": "markdown",
   "id": "81870db8-3f02-49bb-a417-13fc045e2b89",
   "metadata": {},
   "source": [
    "Primary Key:\n",
    "A primary key is a unique identifier for a row in a database table. It must be a unique value, which means that no two rows can have the same primary key value. Typically, a primary key is a single column, but it can also be a combination of columns that together form a unique value. The primary key is used to ensure the integrity of the data, as it provides a way to uniquely identify each row in a table.\n",
    "\n",
    "Foreign Key:\n",
    "A foreign key is a column or set of columns in one table that refers to the primary key of another table. This creates a relationship between the two tables, allowing the database to link related data across tables."
   ]
  },
  {
   "cell_type": "markdown",
   "id": "4a735efa-2a4b-4047-8cb9-a5f9afa6390c",
   "metadata": {},
   "source": [
    "### Q6. Write a python code to connect MySQL to python. Explain the cursor() and execute() method.\n"
   ]
  },
  {
   "cell_type": "code",
   "execution_count": null,
   "id": "1e8db7d5-28ad-4407-8a81-e7ab03edf0a6",
   "metadata": {},
   "outputs": [],
   "source": [
    "pip install mysql-connector-python\n",
    "\n",
    "import mysql.connector\n",
    "mydb=mysql.connector.connect(\n",
    "                             host=\"localhost\",\n",
    "                             user=\"localuser\",\n",
    "                             password=\"password\")\n",
    "print(mydb)\n"
   ]
  },
  {
   "cell_type": "markdown",
   "id": "db4d1e14-6424-404a-aeea-143b01e56779",
   "metadata": {},
   "source": [
    "### Q7. Give the order of execution of SQL clauses in an SQL query."
   ]
  },
  {
   "cell_type": "markdown",
   "id": "1daf44c3-36bc-485e-99c2-7d521cd96744",
   "metadata": {},
   "source": [
    "The order of execution of SQL clauses in an SQL query can be summarized as follows:\n",
    "\n",
    "FROM: Specifies the table(s) from which to retrieve data. \n",
    "\n",
    "JOIN: Combines data from multiple tables based on a specified condition.\n",
    "\n",
    "WHERE: Filters data based on a specified condition.\n",
    "\n",
    "GROUP BY: Groups data based on one or more columns.\n",
    "\n",
    "HAVING: Filters grouped data based on a specified condition.\n",
    "\n",
    "SELECT: Specifies the columns to retrieve data from.\n",
    "\n",
    "DISTINCT: Filters out duplicate values from the result set.\n",
    "\n",
    "ORDER BY: Sorts the result set based on one or more columns.\n",
    "\n",
    "LIMIT: Limits the number of rows returned in the result set.\n",
    "\n",
    "It's important to note that not all SQL queries will use all of these clauses, and they may be used in a different order depending on the specific requirements of the query. However, this order provides a general guideline for the sequence in which SQL clauses are typically executed in a query."
   ]
  },
  {
   "cell_type": "code",
   "execution_count": null,
   "id": "1ff150a7-b9c3-46c7-a25d-95fd1d6ae18f",
   "metadata": {},
   "outputs": [],
   "source": []
  },
  {
   "cell_type": "code",
   "execution_count": null,
   "id": "26de8745-f57b-495f-a91c-e340b425bce0",
   "metadata": {},
   "outputs": [],
   "source": []
  },
  {
   "cell_type": "code",
   "execution_count": null,
   "id": "c4df710c-bf42-4a94-a248-2538899c2108",
   "metadata": {},
   "outputs": [],
   "source": []
  }
 ],
 "metadata": {
  "kernelspec": {
   "display_name": "Python 3 (ipykernel)",
   "language": "python",
   "name": "python3"
  },
  "language_info": {
   "codemirror_mode": {
    "name": "ipython",
    "version": 3
   },
   "file_extension": ".py",
   "mimetype": "text/x-python",
   "name": "python",
   "nbconvert_exporter": "python",
   "pygments_lexer": "ipython3",
   "version": "3.10.8"
  }
 },
 "nbformat": 4,
 "nbformat_minor": 5
}
