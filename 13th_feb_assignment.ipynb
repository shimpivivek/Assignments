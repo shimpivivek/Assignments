{
 "cells": [
  {
   "cell_type": "markdown",
   "id": "af65ddb6-a395-492f-9a95-118a82e42066",
   "metadata": {},
   "source": [
    "### Q1. Explain why we have to use the Exception class while creating a Custom Exception.\n"
   ]
  },
  {
   "cell_type": "markdown",
   "id": "14a988b0-174d-48dc-a763-cf1754e0430a",
   "metadata": {},
   "source": [
    "-Expetion class is the base class for any Custom class. and every custom class derives methods and classes from the parent Exception class."
   ]
  },
  {
   "cell_type": "markdown",
   "id": "9d7cc86c-3685-4fb2-b935-00ee595f6048",
   "metadata": {},
   "source": [
    "### Q2. Write a python program to print Python Exception Hierarchy.\n"
   ]
  },
  {
   "cell_type": "code",
   "execution_count": null,
   "id": "2453a912-706b-481f-a020-476e760d7e8e",
   "metadata": {},
   "outputs": [],
   "source": [
    "import inspect\n",
    "\n",
    "def treeClass(cls, ind = 0):\n",
    "    print ('-' * ind, cls.__name__)\n",
    "    for i in cls.__subclasses__():\n",
    "        treeClass(i, ind + 3)\n",
    "print(\"Hierarchy for Built-in exceptions is : \")\n",
    "\n",
    "inspect.getclasstree(inspect.getmro(BaseException))\n",
    "\n",
    "treeClass(BaseException)"
   ]
  },
  {
   "cell_type": "markdown",
   "id": "45ca3d6a-bd56-4c1c-95aa-a7728c04f497",
   "metadata": {},
   "source": [
    "### Q3. What errors are defined in the ArithmeticError class? Explain any two with an example.\n"
   ]
  },
  {
   "cell_type": "markdown",
   "id": "1918b27c-6daf-42d3-a17e-f71386beabe8",
   "metadata": {},
   "source": [
    "-OverflowError, ZeroDivisionError, FloatingPointError."
   ]
  },
  {
   "cell_type": "code",
   "execution_count": 2,
   "id": "bc8e7f01-34dd-475f-a42a-c99d996c1b9d",
   "metadata": {},
   "outputs": [
    {
     "ename": "ZeroDivisionError",
     "evalue": "division by zero",
     "output_type": "error",
     "traceback": [
      "\u001b[0;31m---------------------------------------------------------------------------\u001b[0m",
      "\u001b[0;31mZeroDivisionError\u001b[0m                         Traceback (most recent call last)",
      "Cell \u001b[0;32mIn[2], line 1\u001b[0m\n\u001b[0;32m----> 1\u001b[0m \u001b[38;5;28mprint\u001b[39m(\u001b[38;5;241;43m1\u001b[39;49m\u001b[38;5;241;43m/\u001b[39;49m\u001b[38;5;241;43m0\u001b[39;49m)\n\u001b[1;32m      2\u001b[0m \u001b[38;5;28;01mtry\u001b[39;00m:\n\u001b[1;32m      3\u001b[0m     \u001b[38;5;28mprint\u001b[39m(\u001b[38;5;241m1\u001b[39m\u001b[38;5;241m/\u001b[39m\u001b[38;5;241m0\u001b[39m)\n",
      "\u001b[0;31mZeroDivisionError\u001b[0m: division by zero"
     ]
    }
   ],
   "source": [
    "#ZeroDivisionError\n",
    "print(1/0)\n",
    "\n",
    "    "
   ]
  },
  {
   "cell_type": "code",
   "execution_count": 3,
   "id": "b14778f3-5f56-4e8d-9e5a-0519d13c7f2a",
   "metadata": {},
   "outputs": [
    {
     "name": "stdout",
     "output_type": "stream",
     "text": [
      "division by zero is infinity :-  division by zero\n"
     ]
    }
   ],
   "source": [
    "try:\n",
    "    print(1/0)\n",
    "except ZeroDivisionError as e:\n",
    "    print(\"division by zero is infinity :- \", e)"
   ]
  },
  {
   "cell_type": "code",
   "execution_count": 4,
   "id": "88b58c83-ba67-4b45-9b73-225a8be23bbd",
   "metadata": {},
   "outputs": [
    {
     "name": "stdout",
     "output_type": "stream",
     "text": [
      "10.0\n",
      "100.0\n",
      "1000000.0\n",
      "1e+24\n",
      "1e+120\n"
     ]
    },
    {
     "ename": "OverflowError",
     "evalue": "(34, 'Numerical result out of range')",
     "output_type": "error",
     "traceback": [
      "\u001b[0;31m---------------------------------------------------------------------------\u001b[0m",
      "\u001b[0;31mOverflowError\u001b[0m                             Traceback (most recent call last)",
      "Cell \u001b[0;32mIn[4], line 5\u001b[0m\n\u001b[1;32m      2\u001b[0m j\u001b[38;5;241m=\u001b[39m\u001b[38;5;241m10.0\u001b[39m\n\u001b[1;32m      4\u001b[0m \u001b[38;5;28;01mfor\u001b[39;00m i \u001b[38;5;129;01min\u001b[39;00m \u001b[38;5;28mrange\u001b[39m(\u001b[38;5;241m1\u001b[39m,\u001b[38;5;241m1000\u001b[39m):\n\u001b[0;32m----> 5\u001b[0m     j\u001b[38;5;241m=\u001b[39m\u001b[43mj\u001b[49m\u001b[38;5;241;43m*\u001b[39;49m\u001b[38;5;241;43m*\u001b[39;49m\u001b[43mi\u001b[49m\n\u001b[1;32m      6\u001b[0m     \u001b[38;5;28mprint\u001b[39m(j)\n",
      "\u001b[0;31mOverflowError\u001b[0m: (34, 'Numerical result out of range')"
     ]
    }
   ],
   "source": [
    "#OverflowError\n",
    "j=10.0\n",
    "\n",
    "for i in range(1,1000):\n",
    "    j=j**i\n",
    "    print(j)"
   ]
  },
  {
   "cell_type": "code",
   "execution_count": 6,
   "id": "400d2581-aa83-49b5-ad32-1169f3515947",
   "metadata": {},
   "outputs": [
    {
     "name": "stdout",
     "output_type": "stream",
     "text": [
      "10.0\n",
      "100.0\n",
      "1000000.0\n",
      "1e+24\n",
      "1e+120\n",
      "Please find below error (34, 'Numerical result out of range')\n"
     ]
    }
   ],
   "source": [
    "try:\n",
    "    j=10.0\n",
    "    for i in range(1,1000):\n",
    "        j=j**i\n",
    "        print(j)\n",
    "except OverflowError as e:\n",
    "    print(\"Please find below error\", e)"
   ]
  },
  {
   "cell_type": "markdown",
   "id": "653c5159-dea1-426a-ab12-1cd2f1aa59e4",
   "metadata": {},
   "source": [
    "### Q4. Why LookupError class is used? Explain with an example KeyError and IndexError.\n"
   ]
  },
  {
   "cell_type": "markdown",
   "id": "1b74b98e-5b89-4dd3-8127-b4989863de2a",
   "metadata": {},
   "source": [
    "-LookupError Exception is the Base class for errors raised when something can't be found. The base class for the exceptions that are raised when a key or index used on a mapping or sequence is invalid: IndexError, KeyError. An IndexError is raised when a sequence reference is out of range."
   ]
  },
  {
   "cell_type": "code",
   "execution_count": 10,
   "id": "6d74c004-4cef-4b44-a31d-abbdd3c94a7b",
   "metadata": {},
   "outputs": [
    {
     "ename": "KeyError",
     "evalue": "'Name'",
     "output_type": "error",
     "traceback": [
      "\u001b[0;31m---------------------------------------------------------------------------\u001b[0m",
      "\u001b[0;31mKeyError\u001b[0m                                  Traceback (most recent call last)",
      "Cell \u001b[0;32mIn[10], line 3\u001b[0m\n\u001b[1;32m      1\u001b[0m \u001b[38;5;66;03m# KeyError -A Python KeyError exception is what is raised when you try to access a key that isn’t in a dictionary (dict).\u001b[39;00m\n\u001b[1;32m      2\u001b[0m person_info\u001b[38;5;241m=\u001b[39m{\u001b[38;5;124m\"\u001b[39m\u001b[38;5;124mname\u001b[39m\u001b[38;5;124m\"\u001b[39m:\u001b[38;5;124m\"\u001b[39m\u001b[38;5;124mVivek\u001b[39m\u001b[38;5;124m\"\u001b[39m,\u001b[38;5;124m\"\u001b[39m\u001b[38;5;124mmob_no\u001b[39m\u001b[38;5;124m\"\u001b[39m:\u001b[38;5;241m89898898\u001b[39m,\u001b[38;5;124m\"\u001b[39m\u001b[38;5;124memail_id\u001b[39m\u001b[38;5;124m\"\u001b[39m:\u001b[38;5;124m\"\u001b[39m\u001b[38;5;124midontknow@yt.com\u001b[39m\u001b[38;5;124m\"\u001b[39m}\n\u001b[0;32m----> 3\u001b[0m \u001b[43mperson_info\u001b[49m\u001b[43m[\u001b[49m\u001b[38;5;124;43m\"\u001b[39;49m\u001b[38;5;124;43mName\u001b[39;49m\u001b[38;5;124;43m\"\u001b[39;49m\u001b[43m]\u001b[49m\n",
      "\u001b[0;31mKeyError\u001b[0m: 'Name'"
     ]
    }
   ],
   "source": [
    "# KeyError -A Python KeyError exception is what is raised when you try to access a key that isn’t in a dictionary (dict).\n",
    "person_info={\"name\":\"Vivek\",\"mob_no\":89898898,\"email_id\":\"idontknow@yt.com\"}\n",
    "person_info[\"Name\"]"
   ]
  },
  {
   "cell_type": "code",
   "execution_count": 13,
   "id": "1b14e897-6474-4db0-9858-a6af1e024d51",
   "metadata": {},
   "outputs": [
    {
     "ename": "IndexError",
     "evalue": "list index out of range",
     "output_type": "error",
     "traceback": [
      "\u001b[0;31m---------------------------------------------------------------------------\u001b[0m",
      "\u001b[0;31mIndexError\u001b[0m                                Traceback (most recent call last)",
      "Cell \u001b[0;32mIn[13], line 3\u001b[0m\n\u001b[1;32m      1\u001b[0m \u001b[38;5;66;03m# IndexError-IndexError is an exception in python that occurs when we try to access an element from a list or tuple from an index that is not present in the list\u001b[39;00m\n\u001b[1;32m      2\u001b[0m my_list\u001b[38;5;241m=\u001b[39m[\u001b[38;5;241m1\u001b[39m,\u001b[38;5;241m2\u001b[39m,\u001b[38;5;241m3\u001b[39m,\u001b[38;5;241m4\u001b[39m,\u001b[38;5;241m5\u001b[39m,\u001b[38;5;241m6\u001b[39m,\u001b[38;5;241m7\u001b[39m,\u001b[38;5;241m8\u001b[39m,\u001b[38;5;241m9\u001b[39m]\n\u001b[0;32m----> 3\u001b[0m \u001b[38;5;28mprint\u001b[39m(\u001b[43mmy_list\u001b[49m\u001b[43m[\u001b[49m\u001b[38;5;241;43m10\u001b[39;49m\u001b[43m]\u001b[49m)\n",
      "\u001b[0;31mIndexError\u001b[0m: list index out of range"
     ]
    }
   ],
   "source": [
    "# IndexError-IndexError is an exception in python that occurs when we try to access an element from a list or tuple from an index that is not present in the list\n",
    "my_list=[1,2,3,4,5,6,7,8,9]\n",
    "print(my_list[10])"
   ]
  },
  {
   "cell_type": "markdown",
   "id": "ce5e064c-5684-4e20-9829-dd9b59568d96",
   "metadata": {},
   "source": [
    "### Q5. Explain ImportError. What is ModuleNotFoundError?\n"
   ]
  },
  {
   "cell_type": "markdown",
   "id": "9da5e4aa-8041-4772-8605-293f47220e37",
   "metadata": {},
   "source": [
    "- ImportError is raised when a module, or member of a module, cannot be imported. There are a two conditions where an ImportError might be raised.\n",
    "- this error occurs when youre trying to access or use a module that cannot be found. In the case of the title, the \"module named Python\" cannot be found.\n"
   ]
  },
  {
   "cell_type": "code",
   "execution_count": 14,
   "id": "2143faa0-38aa-4808-baec-0ad05c8adba7",
   "metadata": {},
   "outputs": [
    {
     "ename": "ModuleNotFoundError",
     "evalue": "No module named 'vivek'",
     "output_type": "error",
     "traceback": [
      "\u001b[0;31m---------------------------------------------------------------------------\u001b[0m",
      "\u001b[0;31mModuleNotFoundError\u001b[0m                       Traceback (most recent call last)",
      "Cell \u001b[0;32mIn[14], line 1\u001b[0m\n\u001b[0;32m----> 1\u001b[0m \u001b[38;5;28;01mimport\u001b[39;00m \u001b[38;5;21;01mvivek\u001b[39;00m\n",
      "\u001b[0;31mModuleNotFoundError\u001b[0m: No module named 'vivek'"
     ]
    }
   ],
   "source": [
    "import vivek"
   ]
  },
  {
   "cell_type": "markdown",
   "id": "02dbf551-3a9b-4295-900a-07075f803145",
   "metadata": {},
   "source": [
    "### Q6. List down some best practices for exception handling in python."
   ]
  },
  {
   "cell_type": "markdown",
   "id": "62c978ca-33c6-4b03-b45e-38f91fa643f5",
   "metadata": {},
   "source": [
    "- use always a specific exception -   Try to mention specific expection you are dealing with\n",
    "- print always a valid msg - Write specific piece of information you intent to pass to user/programmer\n",
    "- always avoid to write a multiple exception handling - Should not wtite every exception element.\n",
    "- prepare a proper documnetation - it will help other to debug and know the execution sequence.\n",
    "- cleanup all the resources - it will save memory and bandwith of the system\n",
    "\n"
   ]
  },
  {
   "cell_type": "code",
   "execution_count": null,
   "id": "1db0ce9f-b759-4250-954e-d2b62bf0403c",
   "metadata": {},
   "outputs": [],
   "source": []
  },
  {
   "cell_type": "code",
   "execution_count": null,
   "id": "9bc3a5ce-3f23-4ecb-b394-b851bb3e4100",
   "metadata": {},
   "outputs": [],
   "source": [
    " "
   ]
  },
  {
   "cell_type": "code",
   "execution_count": null,
   "id": "91e358dc-70c4-4cf8-9be6-361f537a47ce",
   "metadata": {},
   "outputs": [],
   "source": []
  },
  {
   "cell_type": "code",
   "execution_count": null,
   "id": "12b7798e-8342-46ce-a679-b597559441f3",
   "metadata": {},
   "outputs": [],
   "source": []
  }
 ],
 "metadata": {
  "kernelspec": {
   "display_name": "Python 3 (ipykernel)",
   "language": "python",
   "name": "python3"
  },
  "language_info": {
   "codemirror_mode": {
    "name": "ipython",
    "version": 3
   },
   "file_extension": ".py",
   "mimetype": "text/x-python",
   "name": "python",
   "nbconvert_exporter": "python",
   "pygments_lexer": "ipython3",
   "version": "3.10.8"
  }
 },
 "nbformat": 4,
 "nbformat_minor": 5
}
