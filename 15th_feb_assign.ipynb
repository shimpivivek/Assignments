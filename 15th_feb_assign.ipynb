{
 "cells": [
  {
   "cell_type": "markdown",
   "id": "71953c57-c7bf-411d-a8b7-c86f8b21c259",
   "metadata": {},
   "source": [
    "### Q1. What is multiprocessing in python? Why is it useful?"
   ]
  },
  {
   "cell_type": "markdown",
   "id": "52c43660-32c6-4a14-be6f-71adca786a5e",
   "metadata": {},
   "source": [
    "- Multiple processing is a programming technique in Python that allows a program to use multiple CPUs or cores to execute tasks concurrently. This is achieved using the multiprocessing module, which provides an easy-to-use interface for creating and managing multiple processes.\n",
    "- Multiple processing is useful because it can provide significant performance benefits for CPU-bound tasks. By running multiple processes concurrently, a program can take advantage of multiple CPU cores, which can result in improved performance and reduced execution time."
   ]
  },
  {
   "cell_type": "markdown",
   "id": "7d8f90b5-17d1-4071-a70a-54343f3f3064",
   "metadata": {},
   "source": [
    "### Q2)  What are the differences between multiprocessing and multithreading?"
   ]
  },
  {
   "cell_type": "markdown",
   "id": "a9824719-a7a5-4be7-bb6a-c9d0b3b85630",
   "metadata": {},
   "source": [
    "- Execution :- In multithreading process and memory is same. while Multiple processing runs different process utilizing CPU comupation power."
   ]
  },
  {
   "cell_type": "markdown",
   "id": "91da3526-fc3e-40b6-9cd7-2355da30a178",
   "metadata": {},
   "source": [
    "- Resource sharing: - In multithreading, threads share the same memory space and can access shared resources directly, which can lead to synchronization issues such as race conditions and deadlocks. In multiple processing, processes have their own memory space and communicate with each other using inter-process communication mechanisms such as pipes, queues, and shared memory."
   ]
  },
  {
   "cell_type": "markdown",
   "id": "af90aa10-bea7-4411-a4f6-938a4d7d8f47",
   "metadata": {},
   "source": [
    "### Q3. Write a python code to create a process using the multiprocessing module.\n"
   ]
  },
  {
   "cell_type": "code",
   "execution_count": 1,
   "id": "167b04c2-a357-4da5-baaf-1d7ea3d34525",
   "metadata": {},
   "outputs": [
    {
     "name": "stdout",
     "output_type": "stream",
     "text": [
      "Hello world\n"
     ]
    }
   ],
   "source": [
    "import multiprocessing\n",
    "\n",
    "def my_function():\n",
    "    print(\"Hello world\")\n",
    "\n",
    "if __name__ == '__main__':\n",
    "    p = multiprocessing.Process(target=my_function)\n",
    "    p.start()\n",
    "    p.join()"
   ]
  },
  {
   "cell_type": "markdown",
   "id": "38d4e705-c54d-41c6-96d2-359bb09d9c72",
   "metadata": {},
   "source": [
    "### Q4. What is a multiprocessing pool in python? Why is it used?\n"
   ]
  },
  {
   "cell_type": "markdown",
   "id": "bcfd79f2-73c9-4916-980a-0956223e8559",
   "metadata": {},
   "source": [
    "-A multiprocessing pool is a useful feature of the multiprocessing module in Python that provides a simple and efficient way to distribute tasks across multiple processes. A pool is a group of worker processes that can be used to execute tasks in parallel."
   ]
  },
  {
   "cell_type": "markdown",
   "id": "6f0d2b8e-76f9-456b-a968-7819203a06ea",
   "metadata": {},
   "source": [
    "- this provides a high-level interface for creating and managing a pool of worker processes. It has several methods for submitting tasks to the pool and retrieving their results."
   ]
  },
  {
   "cell_type": "markdown",
   "id": "e3dd9e13-3b55-4d8c-b1ff-bbca585bf9e6",
   "metadata": {},
   "source": [
    "### Q5. How can we create a pool of worker processes in python using the multiprocessing module?\n"
   ]
  },
  {
   "cell_type": "markdown",
   "id": "e738abcb-d779-4916-8086-bcace1a53d4b",
   "metadata": {},
   "source": [
    "we can create a pool of worker processes in python by multiprocessing.pool() method"
   ]
  },
  {
   "cell_type": "markdown",
   "id": "6da26fa7-46a2-4f6a-b32b-300390e6b9f7",
   "metadata": {},
   "source": [
    "### Q6. Write a python program to create 4 processes, each process should print a different number using the multiprocessing module in python."
   ]
  },
  {
   "cell_type": "code",
   "execution_count": 5,
   "id": "f21b3201-49d8-4b43-86ee-fa1ec745861c",
   "metadata": {},
   "outputs": [
    {
     "name": "stdout",
     "output_type": "stream",
     "text": [
      "[1, 2, 3, 4]\n"
     ]
    }
   ],
   "source": [
    "import multiprocessing\n",
    "\n",
    "def my_function(x):\n",
    "    return x\n",
    "\n",
    "if __name__ == '__main__':\n",
    "    with multiprocessing.Pool(processes=4) as pool:\n",
    "     \n",
    "        result = pool.map(my_function, [1, 2, 3, 4])\n",
    "    \n",
    "    print(result)"
   ]
  },
  {
   "cell_type": "code",
   "execution_count": null,
   "id": "58b4b161-83dd-4c54-ba35-23e869453bea",
   "metadata": {},
   "outputs": [],
   "source": []
  }
 ],
 "metadata": {
  "kernelspec": {
   "display_name": "Python 3 (ipykernel)",
   "language": "python",
   "name": "python3"
  },
  "language_info": {
   "codemirror_mode": {
    "name": "ipython",
    "version": 3
   },
   "file_extension": ".py",
   "mimetype": "text/x-python",
   "name": "python",
   "nbconvert_exporter": "python",
   "pygments_lexer": "ipython3",
   "version": "3.10.8"
  }
 },
 "nbformat": 4,
 "nbformat_minor": 5
}
