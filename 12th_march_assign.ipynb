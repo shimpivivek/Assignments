{
 "cells": [
  {
   "cell_type": "markdown",
   "id": "e094f1a1-5337-43a6-995a-b958fbdbaf0f",
   "metadata": {},
   "source": [
    "## Q1. Calculate the 95% confidence interval for a sample of data with a mean of 50 and a standard deviation of 5 using Python. Interpret the results.\n"
   ]
  },
  {
   "cell_type": "code",
   "execution_count": 2,
   "id": "0ac792ed-c3e5-415a-b86c-69efe74efc2e",
   "metadata": {},
   "outputs": [
    {
     "name": "stdout",
     "output_type": "stream",
     "text": [
      "The Population parameter lies between 49.00789152424566 to 50.99210847575434\n"
     ]
    }
   ],
   "source": [
    "import numpy as np\n",
    "import scipy.stats as stats\n",
    "sample_mean=50\n",
    "sample_std_dev = 5\n",
    "n=100 # assuming sample sizw of 30\n",
    "significance_level=0.05\n",
    "dof=n-1\n",
    "# calvulate critical_value\n",
    "critical_value=stats.t.ppf(1-significance_level/2,dof)\n",
    "critical_value\n",
    "#Calvulate margin of error\n",
    "moe=critical_value*(sample_std_dev/np.sqrt(n))\n",
    "# Calculate Confidence interval\n",
    "CI1= sample_mean-moe\n",
    "CI2= sample_mean+moe\n",
    "\n",
    "print(f\"The Population parameter lies between {CI1} to {CI2}\")"
   ]
  },
  {
   "cell_type": "markdown",
   "id": "866dd218-69fd-4b42-8b31-a2b76e0a5c30",
   "metadata": {},
   "source": [
    "## Q2. Conduct a chi-square goodness of fit test to determine if the distribution of colors of M&Ms in a bag matches the expected distribution of 20% blue, 20% orange, 20% green, 10% yellow, 10% red, and 20% brown. Use Python to perform the test with a significance level of 0.05.\n"
   ]
  },
  {
   "cell_type": "code",
   "execution_count": 4,
   "id": "c7c190c4-b878-4b0f-be6d-009fddd973cc",
   "metadata": {},
   "outputs": [
    {
     "name": "stdout",
     "output_type": "stream",
     "text": [
      "Fail to reject the null hypothesis. The distribution of colors matches the expected distribution.\n",
      "Chi-square statistic: 1.9215686274509802\n",
      "p-value: 0.8598876222416052\n"
     ]
    }
   ],
   "source": [
    "import numpy as np\n",
    "from scipy import stats\n",
    "\n",
    " # Assumed as data is not given\n",
    "observed_frequencies = np.array([17, 23, 19, 11, 13, 19])\n",
    "expected_proportions = np.array([0.2, 0.2, 0.2, 0.1, 0.1, 0.2])\n",
    "total_observations = np.sum(observed_frequencies)\n",
    "# Calculating the expected frequencies\n",
    "expected_frequencies = expected_proportions * total_observations\n",
    "# Performing the chi-square goodness of fit test\n",
    "chi_square_statistic, p_value = stats.chisquare(observed_frequencies, expected_frequencies)\n",
    "significance_level = 0.05\n",
    "#result\n",
    "if p_value < significance_level:\n",
    "    print(\"Reject the null hypothesis. The distribution of colors does not match the expected distribution.\")\n",
    "else:\n",
    "    print(\"Fail to reject the null hypothesis. The distribution of colors matches the expected distribution.\")\n",
    "\n",
    "print(\"Chi-square statistic:\", chi_square_statistic)\n",
    "print(\"p-value:\", p_value)"
   ]
  },
  {
   "cell_type": "markdown",
   "id": "5861aecf-8159-4eef-b41b-252e4d739678",
   "metadata": {},
   "source": [
    "## Q3. Use Python to calculate the chi-square statistic and p-value for a contingency table with the following data:"
   ]
  },
  {
   "cell_type": "code",
   "execution_count": 6,
   "id": "d0dcfe14-9efe-4d9d-b666-e530108ac8f2",
   "metadata": {},
   "outputs": [
    {
     "ename": "ValueError",
     "evalue": "For each axis slice, the sum of the observed frequencies must agree with the sum of the expected frequencies to a relative tolerance of 1e-08, but the percent differences are:\n0.3333333333333333",
     "output_type": "error",
     "traceback": [
      "\u001b[0;31m---------------------------------------------------------------------------\u001b[0m",
      "\u001b[0;31mValueError\u001b[0m                                Traceback (most recent call last)",
      "Cell \u001b[0;32mIn[6], line 3\u001b[0m\n\u001b[1;32m      1\u001b[0m Group_A\u001b[38;5;241m=\u001b[39m[\u001b[38;5;241m20\u001b[39m,\u001b[38;5;241m10\u001b[39m,\u001b[38;5;241m15\u001b[39m]\n\u001b[1;32m      2\u001b[0m Group_b\u001b[38;5;241m=\u001b[39m[\u001b[38;5;241m15\u001b[39m,\u001b[38;5;241m25\u001b[39m,\u001b[38;5;241m20\u001b[39m]\n\u001b[0;32m----> 3\u001b[0m chi_square_stats,p_value\u001b[38;5;241m=\u001b[39m\u001b[43mstats\u001b[49m\u001b[38;5;241;43m.\u001b[39;49m\u001b[43mchisquare\u001b[49m\u001b[43m(\u001b[49m\u001b[43mGroup_A\u001b[49m\u001b[43m,\u001b[49m\u001b[43mGroup_b\u001b[49m\u001b[43m)\u001b[49m\n",
      "File \u001b[0;32m/opt/conda/lib/python3.10/site-packages/scipy/stats/_stats_py.py:7311\u001b[0m, in \u001b[0;36mchisquare\u001b[0;34m(f_obs, f_exp, ddof, axis)\u001b[0m\n\u001b[1;32m   7187\u001b[0m \u001b[38;5;28;01mdef\u001b[39;00m \u001b[38;5;21mchisquare\u001b[39m(f_obs, f_exp\u001b[38;5;241m=\u001b[39m\u001b[38;5;28;01mNone\u001b[39;00m, ddof\u001b[38;5;241m=\u001b[39m\u001b[38;5;241m0\u001b[39m, axis\u001b[38;5;241m=\u001b[39m\u001b[38;5;241m0\u001b[39m):\n\u001b[1;32m   7188\u001b[0m     \u001b[38;5;124;03m\"\"\"Calculate a one-way chi-square test.\u001b[39;00m\n\u001b[1;32m   7189\u001b[0m \n\u001b[1;32m   7190\u001b[0m \u001b[38;5;124;03m    The chi-square test tests the null hypothesis that the categorical data\u001b[39;00m\n\u001b[0;32m   (...)\u001b[0m\n\u001b[1;32m   7309\u001b[0m \n\u001b[1;32m   7310\u001b[0m \u001b[38;5;124;03m    \"\"\"\u001b[39;00m\n\u001b[0;32m-> 7311\u001b[0m     \u001b[38;5;28;01mreturn\u001b[39;00m \u001b[43mpower_divergence\u001b[49m\u001b[43m(\u001b[49m\u001b[43mf_obs\u001b[49m\u001b[43m,\u001b[49m\u001b[43m \u001b[49m\u001b[43mf_exp\u001b[49m\u001b[38;5;241;43m=\u001b[39;49m\u001b[43mf_exp\u001b[49m\u001b[43m,\u001b[49m\u001b[43m \u001b[49m\u001b[43mddof\u001b[49m\u001b[38;5;241;43m=\u001b[39;49m\u001b[43mddof\u001b[49m\u001b[43m,\u001b[49m\u001b[43m \u001b[49m\u001b[43maxis\u001b[49m\u001b[38;5;241;43m=\u001b[39;49m\u001b[43maxis\u001b[49m\u001b[43m,\u001b[49m\n\u001b[1;32m   7312\u001b[0m \u001b[43m                            \u001b[49m\u001b[43mlambda_\u001b[49m\u001b[38;5;241;43m=\u001b[39;49m\u001b[38;5;124;43m\"\u001b[39;49m\u001b[38;5;124;43mpearson\u001b[39;49m\u001b[38;5;124;43m\"\u001b[39;49m\u001b[43m)\u001b[49m\n",
      "File \u001b[0;32m/opt/conda/lib/python3.10/site-packages/scipy/stats/_stats_py.py:7153\u001b[0m, in \u001b[0;36mpower_divergence\u001b[0;34m(f_obs, f_exp, ddof, axis, lambda_)\u001b[0m\n\u001b[1;32m   7147\u001b[0m     \u001b[38;5;28;01mif\u001b[39;00m diff_gt_tol:\n\u001b[1;32m   7148\u001b[0m         msg \u001b[38;5;241m=\u001b[39m (\u001b[38;5;124mf\u001b[39m\u001b[38;5;124m\"\u001b[39m\u001b[38;5;124mFor each axis slice, the sum of the observed \u001b[39m\u001b[38;5;124m\"\u001b[39m\n\u001b[1;32m   7149\u001b[0m                \u001b[38;5;124mf\u001b[39m\u001b[38;5;124m\"\u001b[39m\u001b[38;5;124mfrequencies must agree with the sum of the \u001b[39m\u001b[38;5;124m\"\u001b[39m\n\u001b[1;32m   7150\u001b[0m                \u001b[38;5;124mf\u001b[39m\u001b[38;5;124m\"\u001b[39m\u001b[38;5;124mexpected frequencies to a relative tolerance \u001b[39m\u001b[38;5;124m\"\u001b[39m\n\u001b[1;32m   7151\u001b[0m                \u001b[38;5;124mf\u001b[39m\u001b[38;5;124m\"\u001b[39m\u001b[38;5;124mof \u001b[39m\u001b[38;5;132;01m{\u001b[39;00mrtol\u001b[38;5;132;01m}\u001b[39;00m\u001b[38;5;124m, but the percent differences are:\u001b[39m\u001b[38;5;130;01m\\n\u001b[39;00m\u001b[38;5;124m\"\u001b[39m\n\u001b[1;32m   7152\u001b[0m                \u001b[38;5;124mf\u001b[39m\u001b[38;5;124m\"\u001b[39m\u001b[38;5;132;01m{\u001b[39;00mrelative_diff\u001b[38;5;132;01m}\u001b[39;00m\u001b[38;5;124m\"\u001b[39m)\n\u001b[0;32m-> 7153\u001b[0m         \u001b[38;5;28;01mraise\u001b[39;00m \u001b[38;5;167;01mValueError\u001b[39;00m(msg)\n\u001b[1;32m   7155\u001b[0m \u001b[38;5;28;01melse\u001b[39;00m:\n\u001b[1;32m   7156\u001b[0m     \u001b[38;5;66;03m# Ignore 'invalid' errors so the edge case of a data set with length 0\u001b[39;00m\n\u001b[1;32m   7157\u001b[0m     \u001b[38;5;66;03m# is handled without spurious warnings.\u001b[39;00m\n\u001b[1;32m   7158\u001b[0m     \u001b[38;5;28;01mwith\u001b[39;00m np\u001b[38;5;241m.\u001b[39merrstate(invalid\u001b[38;5;241m=\u001b[39m\u001b[38;5;124m'\u001b[39m\u001b[38;5;124mignore\u001b[39m\u001b[38;5;124m'\u001b[39m):\n",
      "\u001b[0;31mValueError\u001b[0m: For each axis slice, the sum of the observed frequencies must agree with the sum of the expected frequencies to a relative tolerance of 1e-08, but the percent differences are:\n0.3333333333333333"
     ]
    }
   ],
   "source": [
    "group_a=[]"
   ]
  },
  {
   "cell_type": "markdown",
   "id": "3a2dace9-61c7-4a39-bf49-e1547259e538",
   "metadata": {},
   "source": [
    "## Q4. A study of the prevalence of smoking in a population of 500 individuals found that 60 individuals smoked. Use Python to calculate the 95% confidence interval for the true proportion of individuals in the population who smoke.\n"
   ]
  },
  {
   "cell_type": "code",
   "execution_count": 14,
   "id": "84a783f2-32fe-4843-9674-37200d6e3e65",
   "metadata": {},
   "outputs": [
    {
     "name": "stdout",
     "output_type": "stream",
     "text": [
      "95% Confidence Interval for Proportion of Smokers: (0.09151638887130707, 0.1484836111286929)\n"
     ]
    }
   ],
   "source": [
    "total_population = 500\n",
    "sample_size = 60\n",
    "\n",
    "# Calculate the sample proportion\n",
    "sample_proportion = sample_size / total_population\n",
    "\n",
    "# Confidence level\n",
    "confidence_level = 0.95\n",
    "\n",
    "# Calculate the standard error of the sample proportion\n",
    "standard_error = np.sqrt((sample_proportion * (1 - sample_proportion)) / total_population)\n",
    "\n",
    "# Calculate the margin of error\n",
    "critical_value = stats.norm.ppf(1 - (1 - confidence_level) / 2)  # Z-score for a 95% confidence level\n",
    "margin_of_error = critical_value * standard_error\n",
    "\n",
    "# Calculate the confidence interval\n",
    "confidence_interval = (sample_proportion - margin_of_error, sample_proportion + margin_of_error)\n",
    "\n",
    "print(\"95% Confidence Interval for Proportion of Smokers:\", confidence_interval)\n"
   ]
  },
  {
   "cell_type": "markdown",
   "id": "b581c6f4-d683-4c63-97f3-b5d6e5325004",
   "metadata": {},
   "source": [
    "## Q5. Calculate the 90% confidence interval for a sample of data with a mean of 75 and a standard deviation of 12 using Python. Interpret the results.\n"
   ]
  },
  {
   "cell_type": "code",
   "execution_count": 32,
   "id": "9375745c-6716-4224-8acc-429732a4584c",
   "metadata": {},
   "outputs": [
    {
     "name": "stdout",
     "output_type": "stream",
     "text": [
      "The Population parameter lies between 72.15479878877537 to 77.84520121122463\n"
     ]
    }
   ],
   "source": [
    "sample_mean=75\n",
    "sample_std_dev = 12\n",
    "n=50 # assuming sample sizw of 50\n",
    "significance_level=0.1\n",
    "dof=n-1\n",
    "# calvulate critical_value\n",
    "critical_value=stats.t.ppf(1-significance_level/2,dof)\n",
    "critical_value\n",
    "#Calvulate margin of error\n",
    "moe=critical_value*(sample_std_dev/np.sqrt(n))\n",
    "# Calculate Confidence interval\n",
    "CI1= sample_mean-moe\n",
    "CI2= sample_mean+moe\n",
    "\n",
    "print(f\"The Population parameter lies between {CI1} to {CI2}\")"
   ]
  },
  {
   "cell_type": "markdown",
   "id": "98319471-126f-4cbc-848c-f9be2228a74b",
   "metadata": {},
   "source": [
    "## Q6. Use Python to plot the chi-square distribution with 10 degrees of freedom. Label the axes and shade the area corresponding to a chi-square statistic of 15.\n"
   ]
  },
  {
   "cell_type": "code",
   "execution_count": 1,
   "id": "8fb6f062-4d54-494b-baef-3d6f51dc1c21",
   "metadata": {},
   "outputs": [
    {
     "data": {
      "image/png": "[encoded data removed]",
      "text/plain": [
       "<Figure size 800x600 with 1 Axes>"
      ]
     },
     "metadata": {},
     "output_type": "display_data"
    }
   ],
   "source": [
    "import numpy as np\n",
    "import matplotlib.pyplot as plt\n",
    "import scipy.stats as stats\n",
    "\n",
    "df = 10\n",
    "\n",
    "# Generate x values for the chi-square distribution\n",
    "x = np.linspace(0, 30, 1000)\n",
    "\n",
    "# Calculate the chi-square probability density function.\n",
    "chi_square_pdf = stats.chi2.pdf(x, df)\n",
    "\n",
    "# Create a plot\n",
    "plt.figure(figsize=(8, 6))\n",
    "plt.plot(x, chi_square_pdf, label=f'Chi-Square PDF', color='b')\n",
    "\n",
    "# Shade the area corresponding to a chi-square statistic of 15\n",
    "x_shaded = np.linspace(0, 15, 1000)\n",
    "plt.fill_between(x_shaded, stats.chi2.pdf(x_shaded, df), color='gray', alpha=0.5, label='Chi-Square Statistic of 15')\n",
    "\n",
    "# Label axes and add legend\n",
    "plt.xlabel('Chi-Square Statistic')\n",
    "plt.ylabel('Probability Density')\n",
    "plt.title(f'Chi-Square Distribution (df={df})')\n",
    "plt.legend()\n",
    "\n",
    "# Show the plot\n",
    "plt.grid(True)\n",
    "plt.show()\n"
   ]
  },
  {
   "cell_type": "markdown",
   "id": "fb955b7d-ef2e-4a38-90ba-1b14e5015442",
   "metadata": {},
   "source": [
    "## Q7. A random sample of 1000 people was asked if they preferred Coke or Pepsi. Of the sample, 520 preferred Coke. Calculate a 99% confidence interval for the true proportion of people in the population who prefer Coke.\n"
   ]
  },
  {
   "cell_type": "code",
   "execution_count": 4,
   "id": "25db6530-ac0d-4349-8337-631a02bb1a64",
   "metadata": {},
   "outputs": [
    {
     "name": "stdout",
     "output_type": "stream",
     "text": [
      "99% Confidence Interval for People liking Coke: (47.93051576779699, 56.06948423220302)\n"
     ]
    }
   ],
   "source": [
    "total_population = 1000\n",
    "ppl_coke=520\n",
    "\n",
    "# Calculate the sample proportion\n",
    "sample_proportion = ppl_coke / total_population\n",
    "\n",
    "# Confidence level\n",
    "confidence_level = 0.99\n",
    "\n",
    "# Calculate the standard error of the sample proportion\n",
    "standard_error = np.sqrt((sample_proportion * (1 - sample_proportion)) / total_population)\n",
    "\n",
    "# Calculate the margin of error\n",
    "critical_value = stats.norm.ppf(1 - (1 - confidence_level) / 2)  # Z-score for a 95% confidence level\n",
    "margin_of_error = critical_value * standard_error\n",
    "\n",
    "# Calculate the confidence interval\n",
    "confidence_interval = (100*(sample_proportion - margin_of_error), 100*(sample_proportion + margin_of_error))\n",
    "\n",
    "print(\"99% Confidence Interval for People liking Coke:\", confidence_interval)\n"
   ]
  },
  {
   "cell_type": "markdown",
   "id": "660fbb64-6214-4ab1-a01d-869d8037fe61",
   "metadata": {},
   "source": [
    "## Q8. A researcher hypothesizes that a coin is biased towards tails. They flip the coin 100 times and observe 45 tails. Conduct a chi-square goodness of fit test to determine if the observed frequencies match the expected frequencies of a fair coin. Use a significance level of 0.05.\n"
   ]
  },
  {
   "cell_type": "markdown",
   "id": "faf36528-34ac-41d7-a4ae-4ba42c3398d8",
   "metadata": {},
   "source": [
    "Null Hypothesis (H0)= The coin is biased towards left.\n",
    "Alternate Hypothesis (H1)= The coin is not biased towards left."
   ]
  },
  {
   "cell_type": "code",
   "execution_count": 14,
   "id": "9e2b9892-b191-49aa-a5b4-94012c7c75e1",
   "metadata": {},
   "outputs": [
    {
     "name": "stdout",
     "output_type": "stream",
     "text": [
      "Fail to reject the null hypothesis. The coin appears to be fair.\n",
      "Chi-square statistic: 1.0\n",
      "p-value: 0.31731050786291115\n"
     ]
    }
   ],
   "source": [
    "import numpy as np\n",
    "from scipy import stats\n",
    "\n",
    "# Given data\n",
    "observed_tails = 45\n",
    "observed_heads = 100 - observed_tails\n",
    "\n",
    "# Expected frequencies for a fair coin (50% heads, 50% tails)\n",
    "expected_heads = 0.5 * 100\n",
    "expected_tails = 0.5 * 100\n",
    "\n",
    "# Observed and expected frequencies as arrays\n",
    "observed_frequencies = np.array([observed_heads, observed_tails])\n",
    "expected_frequencies = np.array([expected_heads, expected_tails])\n",
    "\n",
    "# Perform the chi-square goodness of fit test\n",
    "chi_square_statistic, p_value = stats.chisquare(f_obs=observed_frequencies, f_exp=expected_frequencies)\n",
    "\n",
    "# Significance level\n",
    "alpha = 0.05\n",
    "\n",
    "# Compare the p-value with the significance level to make a decision\n",
    "if p_value < alpha:\n",
    "    print(\"Reject the null hypothesis. The coin may be biased towards tails.\")\n",
    "else:\n",
    "    print(\"Fail to reject the null hypothesis. The coin appears to be fair.\")\n",
    "\n",
    "print(\"Chi-square statistic:\", chi_square_statistic)\n",
    "print(\"p-value:\", p_value)\n",
    "\n"
   ]
  },
  {
   "cell_type": "markdown",
   "id": "fbdf1b2b-003a-41e8-ad20-011ba433166a",
   "metadata": {},
   "source": [
    "## Q9. A study was conducted to determine if there is an association between smoking status (smoker or non-smoker) and lung cancer diagnosis (yes or no). The results are shown in the contingency table below. Conduct a chi-square test for independence to determine if there is a significant association between smoking status and lung cancer diagnosis. Use a significance level of 0.05.\n"
   ]
  },
  {
   "cell_type": "code",
   "execution_count": 19,
   "id": "32b2d8f2-6281-400d-b10a-330a92e7a865",
   "metadata": {},
   "outputs": [
    {
     "name": "stdout",
     "output_type": "stream",
     "text": [
      "Reject the null hypothesis. Smoking is Associated with Lung Cancer.\n",
      "Chi-square statistic: 35.294117647058826\n",
      "p-value: 2.834869930488155e-09\n"
     ]
    }
   ],
   "source": [
    "# Data For Smoker\n",
    "observed_LC_Yes = 60\n",
    "observed_LC_NO = 140\n",
    "\n",
    "# Data for Non-smoker\n",
    "expected_LC_Yes = 30\n",
    "expected_LC_NO = 170\n",
    "\n",
    "# Observed and expected frequencies as arrays\n",
    "observed_frequencies = np.array([observed_LC_Yes, observed_LC_NO])\n",
    "expected_frequencies = np.array([expected_LC_Yes, expected_LC_NO])\n",
    "\n",
    "# Perform the chi-square goodness of fit test\n",
    "chi_square_statistic, p_value = stats.chisquare(f_obs=observed_frequencies, f_exp=expected_frequencies)\n",
    "\n",
    "# Significance level\n",
    "alpha = 0.05\n",
    "\n",
    "# Compare the p-value with the significance level to make a decision\n",
    "if p_value < alpha:\n",
    "    print(\"Reject the null hypothesis. Smoking is Associated with Lung Cancer.\")\n",
    "else:\n",
    "    print(\"Fail to reject the null hypothesis. Smoking is not Associated with Lung Cancer\")\n",
    "\n",
    "print(\"Chi-square statistic:\", chi_square_statistic)\n",
    "print(\"p-value:\", p_value)"
   ]
  },
  {
   "cell_type": "markdown",
   "id": "eda949ed-37dd-45d5-9098-9b76c507aa4b",
   "metadata": {},
   "source": [
    "Q10. A study was conducted to determine if the proportion of people who prefer milk chocolate, dark\n",
    "chocolate, or white chocolate is different in the U.S. versus the U.K. A random sample of 500 people from\n",
    "the U.S. and a random sample of 500 people from the U.K. were surveyed. The results are shown in the\n",
    "contingency table below. Conduct a chi-square test for independence to determine if there is a significant\n",
    "association between chocolate preference and country of origin."
   ]
  },
  {
   "cell_type": "code",
   "execution_count": 25,
   "id": "ab7846af-e21b-4d0f-93b7-3a7c15e67f32",
   "metadata": {},
   "outputs": [
    {
     "name": "stdout",
     "output_type": "stream",
     "text": [
      "Reject the null hypothesis.Their is a Change in Prefrence of Chocolate in US and UK\n",
      "Chi-square statistic: 31.349206349206348\n",
      "p-value: 1.5581394922806692e-07\n"
     ]
    }
   ],
   "source": [
    "#Choclate data\n",
    "US= [200,150,150]\n",
    "UK =[225,175,100]\n",
    "\n",
    "\n",
    "# Observed and expected frequencies as arrays\n",
    "observed_frequencies = np.array(US)\n",
    "expected_frequencies = np.array(UK)\n",
    "\n",
    "# Perform the chi-square goodness of fit test\n",
    "chi_square_statistic, p_value = stats.chisquare(f_obs=US, f_exp=UK)\n",
    "\n",
    "# Significance level\n",
    "alpha = 0.01\n",
    "\n",
    "# Compare the p-value with the significance level to make a decision\n",
    "if p_value < alpha:\n",
    "    print(\"Reject the null hypothesis.Their is a Change in Prefrence of Chocolate in US and UK\")\n",
    "else:\n",
    "    print(\"Fail to reject the null hypothesis.Their is no Change in Prefrence of Chocolate in US and UK\")\n",
    "\n",
    "print(\"Chi-square statistic:\", chi_square_statistic)\n",
    "print(\"p-value:\", p_value)"
   ]
  },
  {
   "cell_type": "markdown",
   "id": "b3e1e2d4-b871-4f6e-9d78-29c7b9432821",
   "metadata": {},
   "source": [
    "Q11. A random sample of 30 people was selected from a population with an unknown mean and standard\n",
    "deviation. The sample mean was found to be 72 and the sample standard deviation was found to be 10.\n",
    "Conduct a hypothesis test to determine if the population mean is significantly different from 70. Use a\n",
    "significance level of 0.05."
   ]
  },
  {
   "cell_type": "code",
   "execution_count": 45,
   "id": "19a3d310-e333-4356-824f-619546e0ee56",
   "metadata": {},
   "outputs": [
    {
     "name": "stdout",
     "output_type": "stream",
     "text": [
      "Fail to reject the null hypothesis. There is no significant difference from 70.\n"
     ]
    }
   ],
   "source": [
    "import numpy as np\n",
    "from scipy import stats\n",
    "\n",
    "# Given data\n",
    "sample_mean = 72\n",
    "sample_stddev = 10\n",
    "sample_size = 30\n",
    "population_mean = 70  # Null hypothesis: Population mean is 70\n",
    "\n",
    "# Calculate the t-test statistic\n",
    "t_test_statistic = (sample_mean - population_mean) / (sample_stddev / np.sqrt(sample_size))\n",
    "\n",
    "# Degrees of freedom\n",
    "df = sample_size - 1\n",
    "\n",
    "# Significance level\n",
    "alpha = 0.05\n",
    "\n",
    "# Calculate the critical t-value for a two-tailed test at 95% confidence level\n",
    "critical_t_value = stats.t.ppf(1 - alpha / 2, df)\n",
    "\n",
    "# Calculate the p-value\n",
    "p_value = 2 * (1 - stats.t.cdf(np.abs(t_test_statistic), df))\n",
    "\n",
    "# Compare the t-test statistic with the critical t-value\n",
    "if t_test_statistic > critical_t_value:\n",
    "    print(\"Reject the null hypothesis. The population mean is significantly different from 70.\")\n",
    "else:\n",
    "    print(\"Fail to reject the null hypothesis. There is no significant difference from 70.\")\n"
   ]
  },
  {
   "cell_type": "code",
   "execution_count": null,
   "id": "05def219-3b1f-4d92-9aa5-5fa6f6e9da53",
   "metadata": {},
   "outputs": [],
   "source": []
  },
  {
   "cell_type": "code",
   "execution_count": null,
   "id": "4beb848e-185b-4679-b1c5-34053ffd37a7",
   "metadata": {},
   "outputs": [],
   "source": []
  }
 ],
 "metadata": {
  "kernelspec": {
   "display_name": "Python 3 (ipykernel)",
   "language": "python",
   "name": "python3"
  },
  "language_info": {
   "codemirror_mode": {
    "name": "ipython",
    "version": 3
   },
   "file_extension": ".py",
   "mimetype": "text/x-python",
   "name": "python",
   "nbconvert_exporter": "python",
   "pygments_lexer": "ipython3",
   "version": "3.10.8"
  }
 },
 "nbformat": 4,
 "nbformat_minor": 5
}
